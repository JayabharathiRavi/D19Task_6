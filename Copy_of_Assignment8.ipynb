{
  "cells": [
    {
      "cell_type": "markdown",
      "metadata": {
        "id": "view-in-github",
        "colab_type": "text"
      },
      "source": [
        "<a href=\"https://colab.research.google.com/github/JayabharathiRavi/D19_Task_6/blob/main/Copy_of_Assignment8.ipynb\" target=\"_parent\"><img src=\"https://colab.research.google.com/assets/colab-badge.svg\" alt=\"Open In Colab\"/></a>"
      ]
    },
    {
      "cell_type": "markdown",
      "metadata": {
        "id": "Eret2HDQ_Q11"
      },
      "source": [
        "# Assignment8"
      ]
    },
    {
      "cell_type": "code",
      "execution_count": 193,
      "metadata": {
        "collapsed": true,
        "id": "SEg413oB_Q18"
      },
      "outputs": [],
      "source": [
        "import pandas as pd\n",
        "import matplotlib.pyplot as plt\n",
        "import numpy as np\n",
        "from sklearn import linear_model"
      ]
    },
    {
      "cell_type": "markdown",
      "metadata": {
        "id": "ACsLpCYm_Q1_"
      },
      "source": [
        "# How Much is Your Car Worth?\n",
        "\n",
        "Data about the retail price of 2005 General Motors cars can be found in `car_data.csv`.\n",
        "\n",
        "The columns are:\n",
        "\n",
        "1. Price: suggested retail price of the used 2005 GM car in excellent condition.\n",
        "2. Mileage: number of miles the car has been driven\n",
        "3. Make: manufacturer of the car such as Saturn, Pontiac, and Chevrolet\n",
        "4. Model: specific models for each car manufacturer such as Ion, Vibe, Cavalier\n",
        "5. Trim (of car): specific type of car model such as SE Sedan 4D, Quad Coupe 2D          \n",
        "6. Type: body type such as sedan, coupe, etc.      \n",
        "7. Cylinder: number of cylinders in the engine        \n",
        "8. Liter: a more specific measure of engine size     \n",
        "9. Doors: number of doors           \n",
        "10. Cruise: indicator variable representing whether the car has cruise control (1 = cruise)\n",
        "11. Sound: indicator variable representing whether the car has upgraded speakers (1 = upgraded)\n",
        "12. Leather: indicator variable representing whether the car has leather seats (1 = leather)\n",
        "\n",
        "## Tasks, Part 1\n",
        "\n",
        "1. Find the linear regression equation for mileage vs price.\n",
        "2. Chart the original data and the equation on the chart.\n",
        "3. Find the equation's $R^2$ score (use the `.score` method) to determine whether the\n",
        "equation is a good fit for this data. (0.8 and greater is considered a strong correlation.)\n",
        "\n",
        "## Tasks, Part 2\n",
        "\n",
        "1. Use mileage, cylinders, liters, doors, cruise, sound, and leather to find the linear regression equation.\n",
        "2. Find the equation's $R^2$ score (use the `.score` method) to determine whether the\n",
        "equation is a good fit for this data. (0.8 and greater is considered a strong correlation.)\n",
        "3. Find the combination of the factors that is the best predictor for price.\n",
        "\n",
        "## Tasks, Hard Mode\n",
        "\n",
        "1. Research dummy variables in scikit-learn to see how to use the make, model, and body type.\n",
        "2. Find the best combination of factors to predict price."
      ]
    },
    {
      "cell_type": "code",
      "execution_count": 1,
      "metadata": {
        "colab": {
          "base_uri": "https://localhost:8080/",
          "height": 111,
          "resources": {
            "http://localhost:8080/nbextensions/google.colab/files.js": {
              "data": "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",
              "headers": [
                [
                  "content-type",
                  "application/javascript"
                ]
              ],
              "ok": true,
              "status": 200,
              "status_text": ""
            }
          }
        },
        "id": "d__2hqVICCUW",
        "outputId": "0d67b031-ad59-4a4c-c8c4-b8404c9988c1"
      },
      "outputs": [
        {
          "output_type": "display_data",
          "data": {
            "text/plain": [
              "<IPython.core.display.HTML object>"
            ],
            "text/html": [
              "\n",
              "     <input type=\"file\" id=\"files-f259cc1a-bb73-42e6-aff1-506bd7dc98b0\" name=\"files[]\" multiple disabled\n",
              "        style=\"border:none\" />\n",
              "     <output id=\"result-f259cc1a-bb73-42e6-aff1-506bd7dc98b0\">\n",
              "      Upload widget is only available when the cell has been executed in the\n",
              "      current browser session. Please rerun this cell to enable.\n",
              "      </output>\n",
              "      <script src=\"/nbextensions/google.colab/files.js\"></script> "
            ]
          },
          "metadata": {}
        },
        {
          "output_type": "stream",
          "name": "stdout",
          "text": [
            "Saving car_data.csv to car_data.csv\n"
          ]
        },
        {
          "output_type": "execute_result",
          "data": {
            "text/plain": [
              "{'car_data.csv': b'Price,Mileage,Make,Model,Trim,Type,Cylinder,Liter,Doors,Cruise,Sound,Leather\\r\\n17314.1031289016,8221,Buick,Century,Sedan 4D,Sedan,6,3.1,4,1,1,1\\r\\n17542.0360832793,9135,Buick,Century,Sedan 4D,Sedan,6,3.1,4,1,1,0\\r\\n16218.8478619377,13196,Buick,Century,Sedan 4D,Sedan,6,3.1,4,1,1,0\\r\\n16336.9131400486,16342,Buick,Century,Sedan 4D,Sedan,6,3.1,4,1,0,0\\r\\n16339.1703239255,19832,Buick,Century,Sedan 4D,Sedan,6,3.1,4,1,0,1\\r\\n15709.0528210833,22236,Buick,Century,Sedan 4D,Sedan,6,3.1,4,1,1,0\\r\\n15230.0033898479,22576,Buick,Century,Sedan 4D,Sedan,6,3.1,4,1,1,0\\r\\n15048.042184116,22964,Buick,Century,Sedan 4D,Sedan,6,3.1,4,1,1,0\\r\\n14862.0938695978,24021,Buick,Century,Sedan 4D,Sedan,6,3.1,4,1,0,1\\r\\n15295.0182668788,27325,Buick,Century,Sedan 4D,Sedan,6,3.1,4,1,1,1\\r\\n21335.852484891,10237,Buick,Lacrosse,CX Sedan 4D,Sedan,6,3.6,4,1,0,0\\r\\n20538.0875102254,15066,Buick,Lacrosse,CX Sedan 4D,Sedan,6,3.6,4,1,1,0\\r\\n20512.0940912389,16633,Buick,Lacrosse,CX Sedan 4D,Sedan,6,3.6,4,1,1,0\\r\\n19924.159052404,19800,Buick,Lacrosse,CX Sedan 4D,Sedan,6,3.6,4,1,1,1\\r\\n19774.2490660661,23359,Buick,Lacrosse,CX Sedan 4D,Sedan,6,3.6,4,1,1,1\\r\\n19344.1655373569,23765,Buick,Lacrosse,CX Sedan 4D,Sedan,6,3.6,4,1,1,0\\r\\n19105.1301244159,24008,Buick,Lacrosse,CX Sedan 4D,Sedan,6,3.6,4,1,0,0\\r\\n18543.4270453653,26034,Buick,Lacrosse,CX Sedan 4D,Sedan,6,3.6,4,1,1,1\\r\\n17808.1989960206,32896,Buick,Lacrosse,CX Sedan 4D,Sedan,6,3.6,4,1,1,0\\r\\n17968.8382782646,34665,Buick,Lacrosse,CX Sedan 4D,Sedan,6,3.6,4,1,1,1\\r\\n22358.8776781171,8970,Buick,Lacrosse,CXL Sedan 4D,Sedan,6,3.6,4,1,1,0\\r\\n23785.9225263772,10577,Buick,Lacrosse,CXL Sedan 4D,Sedan,6,3.6,4,1,1,1\\r\\n22926.0903712553,14363,Buick,Lacrosse,CXL Sedan 4D,Sedan,6,3.6,4,1,1,1\\r\\n21895.7587842006,16508,Buick,Lacrosse,CXL Sedan 4D,Sedan,6,3.6,4,1,0,1\\r\\n21273.0617139201,18908,Buick,Lacrosse,CXL Sedan 4D,Sedan,6,3.6,4,1,0,0\\r\\n21460.0139528911,19467,Buick,Lacrosse,CXL Sedan 4D,Sedan,6,3.6,4,1,0,1\\r\\n21183.1235874235,21394,Buick,Lacrosse,CXL Sedan 4D,Sedan,6,3.6,4,1,0,0\\r\\n20406.0995028936,22596,Buick,Lacrosse,CXL Sedan 4D,Sedan,6,3.6,4,1,0,0\\r\\n21058.1395799539,24469,Buick,Lacrosse,CXL Sedan 4D,Sedan,6,3.6,4,1,1,1\\r\\n19556.8993202892,25245,Buick,Lacrosse,CXL Sedan 4D,Sedan,6,3.6,4,1,0,0\\r\\n23447.6865610148,15755,Buick,Lacrosse,CXS Sedan 4D,Sedan,6,3.8,4,1,1,0\\r\\n23547.2394428773,16235,Buick,Lacrosse,CXS Sedan 4D,Sedan,6,3.8,4,1,1,0\\r\\n23016.0080086817,18147,Buick,Lacrosse,CXS Sedan 4D,Sedan,6,3.8,4,1,1,1\\r\\n22230.0275025572,22102,Buick,Lacrosse,CXS Sedan 4D,Sedan,6,3.8,4,1,0,1\\r\\n22625.0735660496,23612,Buick,Lacrosse,CXS Sedan 4D,Sedan,6,3.8,4,1,0,1\\r\\n21799.1720968887,24439,Buick,Lacrosse,CXS Sedan 4D,Sedan,6,3.8,4,1,0,0\\r\\n21341.2572070745,25212,Buick,Lacrosse,CXS Sedan 4D,Sedan,6,3.8,4,1,1,1\\r\\n21683.0314635547,26779,Buick,Lacrosse,CXS Sedan 4D,Sedan,6,3.8,4,1,1,0\\r\\n20986.0160174846,27096,Buick,Lacrosse,CXS Sedan 4D,Sedan,6,3.8,4,1,0,0\\r\\n20902.1037943119,29649,Buick,Lacrosse,CXS Sedan 4D,Sedan,6,3.8,4,1,1,1\\r\\n20698.077083173,2992,Buick,Lesabre,Custom Sedan 4D,Sedan,6,3.8,4,1,0,1\\r\\n20099.25684484,10036,Buick,Lesabre,Custom Sedan 4D,Sedan,6,3.8,4,1,1,1\\r\\n18145.1264890935,18339,Buick,Lesabre,Custom Sedan 4D,Sedan,6,3.8,4,1,1,0\\r\\n17944.8569234593,19592,Buick,Lesabre,Custom Sedan 4D,Sedan,6,3.8,4,1,0,0\\r\\n19027.8623054345,21797,Buick,Lesabre,Custom Sedan 4D,Sedan,6,3.8,4,1,0,1\\r\\n18348.8985716945,23852,Buick,Lesabre,Custom Sedan 4D,Sedan,6,3.8,4,1,1,0\\r\\n17750.8845746284,25040,Buick,Lesabre,Custom Sedan 4D,Sedan,6,3.8,4,1,1,0\\r\\n17772.9696800412,25052,Buick,Lesabre,Custom Sedan 4D,Sedan,6,3.8,4,1,1,0\\r\\n17394.0213978031,25464,Buick,Lesabre,Custom Sedan 4D,Sedan,6,3.8,4,1,1,0\\r\\n17645.7450441435,27830,Buick,Lesabre,Custom Sedan 4D,Sedan,6,3.8,4,1,1,1\\r\\n21908.3666246247,17353,Buick,Lesabre,Limited Sedan 4D,Sedan,6,3.8,4,1,0,0\\r\\n21956.3426627084,17787,Buick,Lesabre,Limited Sedan 4D,Sedan,6,3.8,4,1,1,0\\r\\n21646.1169235536,19562,Buick,Lesabre,Limited Sedan 4D,Sedan,6,3.8,4,1,1,1\\r\\n21575.4568270006,20137,Buick,Lesabre,Limited Sedan 4D,Sedan,6,3.8,4,1,1,0\\r\\n20952.2178015953,20158,Buick,Lesabre,Limited Sedan 4D,Sedan,6,3.8,4,1,1,0\\r\\n21562.0475778626,23767,Buick,Lesabre,Limited Sedan 4D,Sedan,6,3.8,4,1,0,1\\r\\n19981.1279114169,24323,Buick,Lesabre,Limited Sedan 4D,Sedan,6,3.8,4,1,1,0\\r\\n19425.848616327,27839,Buick,Lesabre,Limited Sedan 4D,Sedan,6,3.8,4,1,1,0\\r\\n19191.9896168454,29187,Buick,Lesabre,Limited Sedan 4D,Sedan,6,3.8,4,1,1,1\\r\\n19641.7419023285,31324,Buick,Lesabre,Limited Sedan 4D,Sedan,6,3.8,4,1,1,1\\r\\n25589.9831546314,2308,Buick,Park Avenue,Sedan 4D,Sedan,6,3.8,4,1,1,0\\r\\n25098.6290571529,10014,Buick,Park Avenue,Sedan 4D,Sedan,6,3.8,4,1,1,0\\r\\n23420.7069479383,18910,Buick,Park Avenue,Sedan 4D,Sedan,6,3.8,4,1,0,1\\r\\n22661.0484850784,20105,Buick,Park Avenue,Sedan 4D,Sedan,6,3.8,4,1,0,0\\r\\n23493.0822950037,20453,Buick,Park Avenue,Sedan 4D,Sedan,6,3.8,4,1,1,0\\r\\n22435.2028189367,22287,Buick,Park Avenue,Sedan 4D,Sedan,6,3.8,4,1,1,1\\r\\n21878.1199960255,23237,Buick,Park Avenue,Sedan 4D,Sedan,6,3.8,4,1,1,0\\r\\n23077.5659102738,23798,Buick,Park Avenue,Sedan 4D,Sedan,6,3.8,4,1,0,1\\r\\n21698.0147455068,25489,Buick,Park Avenue,Sedan 4D,Sedan,6,3.8,4,1,1,1\\r\\n21831.8229163745,25564,Buick,Park Avenue,Sedan 4D,Sedan,6,3.8,4,1,1,1\\r\\n26831.1940371618,4695,Buick,Park Avenue,Special Ed Ultra 4D,Sedan,6,3.8,4,1,1,0\\r\\n26060.3353495608,9795,Buick,Park Avenue,Special Ed Ultra 4D,Sedan,6,3.8,4,1,1,0\\r\\n26781.8146452916,12052,Buick,Park Avenue,Special Ed Ultra 4D,Sedan,6,3.8,4,1,1,0\\r\\n26302.0742843396,13050,Buick,Park Avenue,Special Ed Ultra 4D,Sedan,6,3.8,4,1,1,0\\r\\n26190.271467539,17335,Buick,Park Avenue,Special Ed Ultra 4D,Sedan,6,3.8,4,1,0,1\\r\\n25508.2109561095,17480,Buick,Park Avenue,Special Ed Ultra 4D,Sedan,6,3.8,4,1,1,0\\r\\n23348.0169540994,24027,Buick,Park Avenue,Special Ed Ultra 4D,Sedan,6,3.8,4,1,0,1\\r\\n23406.6898198106,25387,Buick,Park Avenue,Special Ed Ultra 4D,Sedan,6,3.8,4,1,0,1\\r\\n23159.5437816049,25869,Buick,Park Avenue,Special Ed Ultra 4D,Sedan,6,3.8,4,1,0,0\\r\\n21536.7417301751,37128,Buick,Park Avenue,Special Ed Ultra 4D,Sedan,6,3.8,4,1,1,1\\r\\n51154.0472155256,2202,Cadillac,CST-V,Sedan 4D,Sedan,8,5.7,4,1,1,1\\r\\n49248.1589666802,6685,Cadillac,CST-V,Sedan 4D,Sedan,8,5.7,4,1,0,1\\r\\n46747.6732703394,15343,Cadillac,CST-V,Sedan 4D,Sedan,8,5.7,4,1,1,1\\r\\n44130.6170551092,21341,Cadillac,CST-V,Sedan 4D,Sedan,8,5.7,4,1,0,1\\r\\n44084.9142115635,21367,Cadillac,CST-V,Sedan 4D,Sedan,8,5.7,4,1,1,1\\r\\n43892.4678804136,23371,Cadillac,CST-V,Sedan 4D,Sedan,8,5.7,4,1,0,1\\r\\n44300.6399582244,23751,Cadillac,CST-V,Sedan 4D,Sedan,8,5.7,4,1,0,1\\r\\n42677.6011170355,24052,Cadillac,CST-V,Sedan 4D,Sedan,8,5.7,4,1,0,1\\r\\n43374.0524199581,25199,Cadillac,CST-V,Sedan 4D,Sedan,8,5.7,4,1,1,1\\r\\n40619.0722701075,30082,Cadillac,CST-V,Sedan 4D,Sedan,8,5.7,4,1,1,1\\r\\n33417.9650130136,6598,Cadillac,CTS,Sedan 4D,Sedan,6,2.8,4,1,1,1\\r\\n30957.0807492764,10625,Cadillac,CTS,Sedan 4D,Sedan,6,2.8,4,1,1,1\\r\\n31431.1303699804,11013,Cadillac,CTS,Sedan 4D,Sedan,6,2.8,4,1,1,1\\r\\n30781.5156334759,14937,Cadillac,CTS,Sedan 4D,Sedan,6,2.8,4,1,1,1\\r\\n30646.4377005909,17094,Cadillac,CTS,Sedan 4D,Sedan,6,2.8,4,1,1,1\\r\\n30792.149028548,17870,Cadillac,CTS,Sedan 4D,Sedan,6,2.8,4,1,1,1\\r\\n30392.7501583834,18449,Cadillac,CTS,Sedan 4D,Sedan,6,2.8,4,1,1,1\\r\\n28817.081846577,21039,Cadillac,CTS,Sedan 4D,Sedan,6,2.8,4,1,0,1\\r\\n29275.2087136945,21056,Cadillac,CTS,Sedan 4D,Sedan,6,2.8,4,1,1,1\\r\\n28040.1285291642,27484,Cadillac,CTS,Sedan 4D,Sedan,6,2.8,4,1,1,1\\r\\n39801.5513542673,14095,Cadillac,Deville,DHS Sedan 4D,Sedan,8,4.6,4,1,0,1\\r\\n40335.7373136253,14743,Cadillac,Deville,DHS Sedan 4D,Sedan,8,4.6,4,1,0,1\\r\\n39307.0091649632,16041,Cadillac,Deville,DHS Sedan 4D,Sedan,8,4.6,4,1,0,1\\r\\n38600.2395609372,17138,Cadillac,Deville,DHS Sedan 4D,Sedan,8,4.6,4,1,0,1\\r\\n38445.8971686577,18661,Cadillac,Deville,DHS Sedan 4D,Sedan,8,4.6,4,1,0,1\\r\\n36077.7961212207,21966,Cadillac,Deville,DHS Sedan 4D,Sedan,8,4.6,4,1,0,1\\r\\n35866.5827089002,24415,Cadillac,Deville,DHS Sedan 4D,Sedan,8,4.6,4,1,1,1\\r\\n35338.6536895564,25163,Cadillac,Deville,DHS Sedan 4D,Sedan,8,4.6,4,1,0,1\\r\\n36154.30354834,25339,Cadillac,Deville,DHS Sedan 4D,Sedan,8,4.6,4,1,1,1\\r\\n34685.6629801958,25421,Cadillac,Deville,DHS Sedan 4D,Sedan,8,4.6,4,1,0,1\\r\\n42820.3290225306,5499,Cadillac,Deville,DTS Sedan 4D,Sedan,8,4.6,4,1,0,1\\r\\n41378.0480886471,8125,Cadillac,Deville,DTS Sedan 4D,Sedan,8,4.6,4,1,0,1\\r\\n40856.3908954186,12791,Cadillac,Deville,DTS Sedan 4D,Sedan,8,4.6,4,1,1,1\\r\\n41419.0372622102,14452,Cadillac,Deville,DTS Sedan 4D,Sedan,8,4.6,4,1,0,1\\r\\n37510.2535700618,21593,Cadillac,Deville,DTS Sedan 4D,Sedan,8,4.6,4,1,0,1\\r\\n37215.1693828106,22211,Cadillac,Deville,DTS Sedan 4D,Sedan,8,4.6,4,1,0,1\\r\\n36332.8946850132,25153,Cadillac,Deville,DTS Sedan 4D,Sedan,8,4.6,4,1,0,1\\r\\n36245.1582278249,26250,Cadillac,Deville,DTS Sedan 4D,Sedan,8,4.6,4,1,1,1\\r\\n32954.1413357696,36074,Cadillac,Deville,DTS Sedan 4D,Sedan,8,4.6,4,1,0,1\\r\\n32537.1867506849,41829,Cadillac,Deville,DTS Sedan 4D,Sedan,8,4.6,4,1,1,1\\r\\n35715.7685557755,6447,Cadillac,Deville,Sedan 4D,Sedan,8,4.6,4,1,0,1\\r\\n35651.6800199489,10555,Cadillac,Deville,Sedan 4D,Sedan,8,4.6,4,1,1,1\\r\\n35129.3407710218,11975,Cadillac,Deville,Sedan 4D,Sedan,8,4.6,4,1,1,1\\r\\n35165.7593689444,13449,Cadillac,Deville,Sedan 4D,Sedan,8,4.6,4,1,1,1\\r\\n32501.2451886184,17508,Cadillac,Deville,Sedan 4D,Sedan,8,4.6,4,1,0,1\\r\\n33220.0284461651,18661,Cadillac,Deville,Sedan 4D,Sedan,8,4.6,4,1,0,1\\r\\n32509.4782883263,20910,Cadillac,Deville,Sedan 4D,Sedan,8,4.6,4,1,0,1\\r\\n31132.2134919243,23124,Cadillac,Deville,Sedan 4D,Sedan,8,4.6,4,1,1,1\\r\\n31181.7151590146,26222,Cadillac,Deville,Sedan 4D,Sedan,8,4.6,4,1,0,1\\r\\n31059.1810267505,27544,Cadillac,Deville,Sedan 4D,Sedan,8,4.6,4,1,1,1\\r\\n42741.5236662022,2846,Cadillac,STS-V6,Sedan 4D,Sedan,6,3.6,4,1,0,1\\r\\n40966.607412216,7476,Cadillac,STS-V6,Sedan 4D,Sedan,6,3.6,4,1,1,1\\r\\n38795.379094999,13973,Cadillac,STS-V6,Sedan 4D,Sedan,6,3.6,4,1,1,1\\r\\n38297.4625362805,16754,Cadillac,STS-V6,Sedan 4D,Sedan,6,3.6,4,1,0,1\\r\\n37192.8963660869,19100,Cadillac,STS-V6,Sedan 4D,Sedan,6,3.6,4,1,0,1\\r\\n36210.1229959601,21778,Cadillac,STS-V6,Sedan 4D,Sedan,6,3.6,4,1,0,1\\r\\n36633.6338191184,22042,Cadillac,STS-V6,Sedan 4D,Sedan,6,3.6,4,1,1,1\\r\\n35895.4994099277,23056,Cadillac,STS-V6,Sedan 4D,Sedan,6,3.6,4,1,1,1\\r\\n34974.3780366418,25796,Cadillac,STS-V6,Sedan 4D,Sedan,6,3.6,4,1,1,1\\r\\n32038.3395625994,35326,Cadillac,STS-V6,Sedan 4D,Sedan,6,3.6,4,1,1,1\\r\\n48310.3295448604,788,Cadillac,STS-V8,Sedan 4D,Sedan,8,4.6,4,1,0,1\\r\\n48365.9808965303,2616,Cadillac,STS-V8,Sedan 4D,Sedan,8,4.6,4,1,1,1\\r\\n45061.9519351521,13829,Cadillac,STS-V8,Sedan 4D,Sedan,8,4.6,4,1,1,1\\r\\n44205.8758848709,15104,Cadillac,STS-V8,Sedan 4D,Sedan,8,4.6,4,1,0,1\\r\\n42377.9554420775,18581,Cadillac,STS-V8,Sedan 4D,Sedan,8,4.6,4,1,0,1\\r\\n41671.5831400912,20575,Cadillac,STS-V8,Sedan 4D,Sedan,8,4.6,4,1,0,1\\r\\n41516.4298622847,23861,Cadillac,STS-V8,Sedan 4D,Sedan,8,4.6,4,1,1,1\\r\\n41053.4821681014,25717,Cadillac,STS-V8,Sedan 4D,Sedan,8,4.6,4,1,1,1\\r\\n38208.5010233112,31303,Cadillac,STS-V8,Sedan 4D,Sedan,8,4.6,4,1,1,1\\r\\n39072.3920526084,31587,Cadillac,STS-V8,Sedan 4D,Sedan,8,4.6,4,1,0,1\\r\\n70755.4667165429,583,Cadillac,XLR-V8,Hardtop Conv 2D,Convertible,8,4.6,2,1,1,1\\r\\n68566.1871889452,6420,Cadillac,XLR-V8,Hardtop Conv 2D,Convertible,8,4.6,2,1,1,1\\r\\n69133.7317224283,7892,Cadillac,XLR-V8,Hardtop Conv 2D,Convertible,8,4.6,2,1,1,1\\r\\n66374.307040191,12021,Cadillac,XLR-V8,Hardtop Conv 2D,Convertible,8,4.6,2,1,1,1\\r\\n65281.4812369002,15600,Cadillac,XLR-V8,Hardtop Conv 2D,Convertible,8,4.6,2,1,1,1\\r\\n63913.117247728,18200,Cadillac,XLR-V8,Hardtop Conv 2D,Convertible,8,4.6,2,1,1,1\\r\\n60567.5490933118,23193,Cadillac,XLR-V8,Hardtop Conv 2D,Convertible,8,4.6,2,1,1,1\\r\\n57154.4434368902,29260,Cadillac,XLR-V8,Hardtop Conv 2D,Convertible,8,4.6,2,1,1,1\\r\\n55639.087653624,31805,Cadillac,XLR-V8,Hardtop Conv 2D,Convertible,8,4.6,2,1,0,1\\r\\n52001.9943785519,42691,Cadillac,XLR-V8,Hardtop Conv 2D,Convertible,8,4.6,2,1,1,1\\r\\n12146.188030901,10011,Chevrolet,AVEO,LS Hatchback 4D,Hatchback,4,1.6,4,0,0,1\\r\\n12163.8204246793,12101,Chevrolet,AVEO,LS Hatchback 4D,Hatchback,4,1.6,4,0,0,1\\r\\n11472.0227614221,19699,Chevrolet,AVEO,LS Hatchback 4D,Hatchback,4,1.6,4,0,0,1\\r\\n11017.1687101034,20100,Chevrolet,AVEO,LS Hatchback 4D,Hatchback,4,1.6,4,0,1,0\\r\\n11096.8572677413,20334,Chevrolet,AVEO,LS Hatchback 4D,Hatchback,4,1.6,4,1,0,0\\r\\n10386.0402183223,22225,Chevrolet,AVEO,LS Hatchback 4D,Hatchback,4,1.6,4,0,0,0\\r\\n11137.0456549156,22484,Chevrolet,AVEO,LS Hatchback 4D,Hatchback,4,1.6,4,0,1,1\\r\\n11045.1088444444,24568,Chevrolet,AVEO,LS Hatchback 4D,Hatchback,4,1.6,4,1,0,1\\r\\n10777.0525369432,27906,Chevrolet,AVEO,LS Hatchback 4D,Hatchback,4,1.6,4,0,0,0\\r\\n9928.18817461995,29680,Chevrolet,AVEO,LS Hatchback 4D,Hatchback,4,1.6,4,0,0,1\\r\\n12649.1108932523,3629,Chevrolet,AVEO,LS Sedan 4D,Sedan,4,1.6,4,0,1,0\\r\\n12314.5912168875,4142,Chevrolet,AVEO,LS Sedan 4D,Sedan,4,1.6,4,0,1,0\\r\\n11318.0080892492,11156,Chevrolet,AVEO,LS Sedan 4D,Sedan,4,1.6,4,0,1,1\\r\\n12409.9490936339,11981,Chevrolet,AVEO,LS Sedan 4D,Sedan,4,1.6,4,1,1,1\\r\\n11555.2674020388,13404,Chevrolet,AVEO,LS Sedan 4D,Sedan,4,1.6,4,1,1,0\\r\\n11700.1114861059,15253,Chevrolet,AVEO,LS Sedan 4D,Sedan,4,1.6,4,1,0,0\\r\\n11215.0186466687,19945,Chevrolet,AVEO,LS Sedan 4D,Sedan,4,1.6,4,0,0,0\\r\\n10144.9520806874,23963,Chevrolet,AVEO,LS Sedan 4D,Sedan,4,1.6,4,1,1,0\\r\\n10491.0751985073,30948,Chevrolet,AVEO,LS Sedan 4D,Sedan,4,1.6,4,0,1,0\\r\\n9954.05417351528,37345,Chevrolet,AVEO,LS Sedan 4D,Sedan,4,1.6,4,0,1,1\\r\\n11031.1299312763,20156,Chevrolet,AVEO,LT Hatchback 4D,Hatchback,4,1.6,4,0,1,1\\r\\n11343.0540104663,20186,Chevrolet,AVEO,LT Hatchback 4D,Hatchback,4,1.6,4,1,1,1\\r\\n11391.2137175199,21421,Chevrolet,AVEO,LT Hatchback 4D,Hatchback,4,1.6,4,0,1,1\\r\\n11247.8625348134,21427,Chevrolet,AVEO,LT Hatchback 4D,Hatchback,4,1.6,4,1,1,1\\r\\n10921.9453718505,23119,Chevrolet,AVEO,LT Hatchback 4D,Hatchback,4,1.6,4,0,1,1\\r\\n11179.9535714763,23121,Chevrolet,AVEO,LT Hatchback 4D,Hatchback,4,1.6,4,0,1,1\\r\\n11394.8864029007,25107,Chevrolet,AVEO,LT Hatchback 4D,Hatchback,4,1.6,4,0,1,1\\r\\n11070.0606430562,25476,Chevrolet,AVEO,LT Hatchback 4D,Hatchback,4,1.6,4,0,1,1\\r\\n11013.8713677377,25746,Chevrolet,AVEO,LT Hatchback 4D,Hatchback,4,1.6,4,1,1,1\\r\\n11115.0136403057,30056,Chevrolet,AVEO,LT Hatchback 4D,Hatchback,4,1.6,4,1,1,1\\r\\n11918.4560683637,7278,Chevrolet,AVEO,LT Sedan 4D,Sedan,4,1.6,4,0,0,0\\r\\n12408.8061477178,10213,Chevrolet,AVEO,LT Sedan 4D,Sedan,4,1.6,4,0,0,1\\r\\n11302.9029854314,14627,Chevrolet,AVEO,LT Sedan 4D,Sedan,4,1.6,4,0,1,0\\r\\n11615.0210175723,19014,Chevrolet,AVEO,LT Sedan 4D,Sedan,4,1.6,4,0,1,1\\r\\n10805.1300898776,21013,Chevrolet,AVEO,LT Sedan 4D,Sedan,4,1.6,4,1,1,1\\r\\n11169.9183881598,22380,Chevrolet,AVEO,LT Sedan 4D,Sedan,4,1.6,4,0,1,0\\r\\n10770.1065537592,25065,Chevrolet,AVEO,LT Sedan 4D,Sedan,4,1.6,4,0,1,0\\r\\n10872.0139256473,25869,Chevrolet,AVEO,LT Sedan 4D,Sedan,4,1.6,4,0,0,0\\r\\n10921.9453718505,27776,Chevrolet,AVEO,LT Sedan 4D,Sedan,4,1.6,4,1,0,0\\r\\n9919.04818515024,34621,Chevrolet,AVEO,LT Sedan 4D,Sedan,4,1.6,4,0,1,0\\r\\n10813.3435213691,266,Chevrolet,AVEO,SVM Hatchback 4D,Hatchback,4,1.6,4,1,0,1\\r\\n11167.8610026522,4716,Chevrolet,AVEO,SVM Hatchback 4D,Hatchback,4,1.6,4,1,1,0\\r\\n10897.0765061322,6699,Chevrolet,AVEO,SVM Hatchback 4D,Hatchback,4,1.6,4,0,1,1\\r\\n10106.0164308559,14200,Chevrolet,AVEO,SVM Hatchback 4D,Hatchback,4,1.6,4,1,0,0\\r\\n10354.043852073,14521,Chevrolet,AVEO,SVM Hatchback 4D,Hatchback,4,1.6,4,0,1,0\\r\\n10287.9773632912,16521,Chevrolet,AVEO,SVM Hatchback 4D,Hatchback,4,1.6,4,1,1,1\\r\\n9720.97888953204,20836,Chevrolet,AVEO,SVM Hatchback 4D,Hatchback,4,1.6,4,1,1,0\\r\\n9506.04793656283,22169,Chevrolet,AVEO,SVM Hatchback 4D,Hatchback,4,1.6,4,0,0,1\\r\\n9789.03767552178,22986,Chevrolet,AVEO,SVM Hatchback 4D,Hatchback,4,1.6,4,0,1,1\\r\\n9220.82967689383,29992,Chevrolet,AVEO,SVM Hatchback 4D,Hatchback,4,1.6,4,1,0,1\\r\\n10971.095614346,7091,Chevrolet,AVEO,SVM Sedan 4D,Sedan,4,1.6,4,1,0,0\\r\\n10315.0182335679,14438,Chevrolet,AVEO,SVM Sedan 4D,Sedan,4,1.6,4,0,0,1\\r\\n9654.06014155539,19183,Chevrolet,AVEO,SVM Sedan 4D,Sedan,4,1.6,4,0,0,0\\r\\n9563.78930880354,19273,Chevrolet,AVEO,SVM Sedan 4D,Sedan,4,1.6,4,1,1,0\\r\\n9665.84885972535,19565,Chevrolet,AVEO,SVM Sedan 4D,Sedan,4,1.6,4,0,1,1\\r\\n9482.21940385188,24842,Chevrolet,AVEO,SVM Sedan 4D,Sedan,4,1.6,4,1,0,0\\r\\n8638.93089526066,25216,Chevrolet,AVEO,SVM Sedan 4D,Sedan,4,1.6,4,0,0,0\\r\\n9041.9062544231,26191,Chevrolet,AVEO,SVM Sedan 4D,Sedan,4,1.6,4,0,0,1\\r\\n8870.94731588283,32914,Chevrolet,AVEO,SVM Sedan 4D,Sedan,4,1.6,4,1,1,0\\r\\n8768.99858504758,35299,Chevrolet,AVEO,SVM Sedan 4D,Sedan,4,1.6,4,0,0,0\\r\\n13007.9841778516,7372,Chevrolet,Cavalier,Coupe 2D,Coupe,4,2.2,2,1,1,1\\r\\n13041.8739972685,13607,Chevrolet,Cavalier,Coupe 2D,Coupe,4,2.2,2,0,1,1\\r\\n12045.9207049382,19136,Chevrolet,Cavalier,Coupe 2D,Coupe,4,2.2,2,0,1,1\\r\\n12469.5275763349,19712,Chevrolet,Cavalier,Coupe 2D,Coupe,4,2.2,2,0,1,1\\r\\n11539.8456500509,22405,Chevrolet,Cavalier,Coupe 2D,Coupe,4,2.2,2,0,1,1\\r\\n11726.0029740958,23103,Chevrolet,Cavalier,Coupe 2D,Coupe,4,2.2,2,0,1,1\\r\\n12207.8729264778,23512,Chevrolet,Cavalier,Coupe 2D,Coupe,4,2.2,2,1,1,1\\r\\n11203.1461094233,27364,Chevrolet,Cavalier,Coupe 2D,Coupe,4,2.2,2,1,1,1\\r\\n10788.9703604113,31436,Chevrolet,Cavalier,Coupe 2D,Coupe,4,2.2,2,1,1,1\\r\\n11149.6183039318,34447,Chevrolet,Cavalier,Coupe 2D,Coupe,4,2.2,2,1,1,1\\r\\n14584.4481222842,1160,Chevrolet,Cavalier,LS Coupe 2D,Coupe,4,2.2,2,1,1,1\\r\\n13681.6980034947,10210,Chevrolet,Cavalier,LS Coupe 2D,Coupe,4,2.2,2,1,1,1\\r\\n13446.2134153449,17741,Chevrolet,Cavalier,LS Coupe 2D,Coupe,4,2.2,2,0,1,1\\r\\n12327.6416083986,19347,Chevrolet,Cavalier,LS Coupe 2D,Coupe,4,2.2,2,0,1,1\\r\\n12274.957581255,19612,Chevrolet,Cavalier,LS Coupe 2D,Coupe,4,2.2,2,1,1,1\\r\\n12630.775033594,22571,Chevrolet,Cavalier,LS Coupe 2D,Coupe,4,2.2,2,1,1,1\\r\\n12425.389171155,22771,Chevrolet,Cavalier,LS Coupe 2D,Coupe,4,2.2,2,0,1,1\\r\\n12319.6962456923,24568,Chevrolet,Cavalier,LS Coupe 2D,Coupe,4,2.2,2,1,1,1\\r\\n12549.8923338761,25816,Chevrolet,Cavalier,LS Coupe 2D,Coupe,4,2.2,2,0,1,1\\r\\n12234.8880532682,30297,Chevrolet,Cavalier,LS Coupe 2D,Coupe,4,2.2,2,1,1,1\\r\\n14894.9825925289,2464,Chevrolet,Cavalier,LS Sedan 4D,Sedan,4,2.2,4,0,1,1\\r\\n14198.0924588603,11322,Chevrolet,Cavalier,LS Sedan 4D,Sedan,4,2.2,4,1,1,1\\r\\n14678.1053344102,11488,Chevrolet,Cavalier,LS Sedan 4D,Sedan,4,2.2,4,1,1,1\\r\\n13167.7023212763,14630,Chevrolet,Cavalier,LS Sedan 4D,Sedan,4,2.2,4,0,1,1\\r\\n13471.005082758,18910,Chevrolet,Cavalier,LS Sedan 4D,Sedan,4,2.2,4,1,1,1\\r\\n12573.8999394396,25048,Chevrolet,Cavalier,LS Sedan 4D,Sedan,4,2.2,4,1,1,1\\r\\n12383.4028106156,25069,Chevrolet,Cavalier,LS Sedan 4D,Sedan,4,2.2,4,1,1,1\\r\\n13230.9186744652,25862,Chevrolet,Cavalier,LS Sedan 4D,Sedan,4,2.2,4,0,1,1\\r\\n11080.5163779118,36855,Chevrolet,Cavalier,LS Sedan 4D,Sedan,4,2.2,4,0,1,1\\r\\n11328.9588677842,39946,Chevrolet,Cavalier,LS Sedan 4D,Sedan,4,2.2,4,1,1,1\\r\\n15053.9337347275,4652,Chevrolet,Cavalier,LS Sport Coupe 2D,Coupe,4,2.2,2,1,1,1\\r\\n14397.9280845869,5189,Chevrolet,Cavalier,LS Sport Coupe 2D,Coupe,4,2.2,2,0,1,1\\r\\n14642.3235774312,6224,Chevrolet,Cavalier,LS Sport Coupe 2D,Coupe,4,2.2,2,0,1,1\\r\\n13464.8028838785,14231,Chevrolet,Cavalier,LS Sport Coupe 2D,Coupe,4,2.2,2,1,1,1\\r\\n13678.863002609,17971,Chevrolet,Cavalier,LS Sport Coupe 2D,Coupe,4,2.2,2,1,1,1\\r\\n12507.4852674251,19715,Chevrolet,Cavalier,LS Sport Coupe 2D,Coupe,4,2.2,2,1,1,1\\r\\n13141.047950472,19898,Chevrolet,Cavalier,LS Sport Coupe 2D,Coupe,4,2.2,2,1,1,1\\r\\n13594.085591089,20682,Chevrolet,Cavalier,LS Sport Coupe 2D,Coupe,4,2.2,2,1,1,1\\r\\n12733.8579244968,21386,Chevrolet,Cavalier,LS Sport Coupe 2D,Coupe,4,2.2,2,1,1,1\\r\\n12230.0997724465,28408,Chevrolet,Cavalier,LS Sport Coupe 2D,Coupe,4,2.2,2,0,1,1\\r\\n14222.3053952433,8427,Chevrolet,Cavalier,LS Sport Sedan 4D,Sedan,4,2.2,4,0,1,1\\r\\n14266.9125758461,8615,Chevrolet,Cavalier,LS Sport Sedan 4D,Sedan,4,2.2,4,0,1,1\\r\\n14255.7476815217,16958,Chevrolet,Cavalier,LS Sport Sedan 4D,Sedan,4,2.2,4,0,1,1\\r\\n13762.9014468935,18040,Chevrolet,Cavalier,LS Sport Sedan 4D,Sedan,4,2.2,4,1,1,1\\r\\n14275.1276351584,18533,Chevrolet,Cavalier,LS Sport Sedan 4D,Sedan,4,2.2,4,1,1,1\\r\\n13688.0001092708,18766,Chevrolet,Cavalier,LS Sport Sedan 4D,Sedan,4,2.2,4,1,1,1\\r\\n13308.8337494544,20043,Chevrolet,Cavalier,LS Sport Sedan 4D,Sedan,4,2.2,4,0,1,1\\r\\n14145.8809893247,20512,Chevrolet,Cavalier,LS Sport Sedan 4D,Sedan,4,2.2,4,1,1,1\\r\\n12944.9387536629,21684,Chevrolet,Cavalier,LS Sport Sedan 4D,Sedan,4,2.2,4,0,1,1\\r\\n12846.0615931645,27560,Chevrolet,Cavalier,LS Sport Sedan 4D,Sedan,4,2.2,4,1,1,1\\r\\n14061.1227650226,4922,Chevrolet,Cavalier,Sedan 4D,Sedan,4,2.2,4,0,1,1\\r\\n13072.8416305329,14311,Chevrolet,Cavalier,Sedan 4D,Sedan,4,2.2,4,0,1,1\\r\\n11699.0339156388,19816,Chevrolet,Cavalier,Sedan 4D,Sedan,4,2.2,4,1,1,1\\r\\n12257.1640856157,21492,Chevrolet,Cavalier,Sedan 4D,Sedan,4,2.2,4,1,1,1\\r\\n11574.1738126532,21525,Chevrolet,Cavalier,Sedan 4D,Sedan,4,2.2,4,0,1,1\\r\\n11539.0485332856,24163,Chevrolet,Cavalier,Sedan 4D,Sedan,4,2.2,4,0,1,1\\r\\n12243.0606241256,25014,Chevrolet,Cavalier,Sedan 4D,Sedan,4,2.2,4,1,1,1\\r\\n11671.8581267356,25727,Chevrolet,Cavalier,Sedan 4D,Sedan,4,2.2,4,1,1,1\\r\\n11464.6288587837,29410,Chevrolet,Cavalier,Sedan 4D,Sedan,4,2.2,4,1,1,1\\r\\n10546.7827451076,38866,Chevrolet,Cavalier,Sedan 4D,Sedan,4,2.2,4,1,1,1\\r\\n15553.2087144133,7695,Chevrolet,Classic,Sedan 4D,Sedan,4,2.2,4,0,1,1\\r\\n15047.0027380893,12305,Chevrolet,Classic,Sedan 4D,Sedan,4,2.2,4,1,1,1\\r\\n13540.0416416542,17343,Chevrolet,Classic,Sedan 4D,Sedan,4,2.2,4,0,1,1\\r\\n14077.9688527613,17445,Chevrolet,Classic,Sedan 4D,Sedan,4,2.2,4,0,1,1\\r\\n12981.9520292971,20309,Chevrolet,Classic,Sedan 4D,Sedan,4,2.2,4,1,1,1\\r\\n13436.0001494398,20530,Chevrolet,Classic,Sedan 4D,Sedan,4,2.2,4,0,1,1\\r\\n13161.9428277679,21145,Chevrolet,Classic,Sedan 4D,Sedan,4,2.2,4,1,1,1\\r\\n14220.0132151888,23069,Chevrolet,Classic,Sedan 4D,Sedan,4,2.2,4,1,1,1\\r\\n12379.1264733486,31199,Chevrolet,Classic,Sedan 4D,Sedan,4,2.2,4,1,1,1\\r\\n11581.9050444543,36566,Chevrolet,Classic,Sedan 4D,Sedan,4,2.2,4,0,1,1\\r\\n14023.9385467303,13776,Chevrolet,Cobalt,Coupe 2D,Coupe,4,2.2,2,0,1,1\\r\\n12810.9105849645,19461,Chevrolet,Cobalt,Coupe 2D,Coupe,4,2.2,2,1,1,1\\r\\n13135.9050323183,21796,Chevrolet,Cobalt,Coupe 2D,Coupe,4,2.2,2,1,1,1\\r\\n13106.9004236608,21910,Chevrolet,Cobalt,Coupe 2D,Coupe,4,2.2,2,0,1,1\\r\\n12845.1742493148,22382,Chevrolet,Cobalt,Coupe 2D,Coupe,4,2.2,2,1,1,1\\r\\n12570.1366810142,22479,Chevrolet,Cobalt,Coupe 2D,Coupe,4,2.2,2,0,1,1\\r\\n12897.9295369167,23200,Chevrolet,Cobalt,Coupe 2D,Coupe,4,2.2,2,1,1,1\\r\\n11961.6199584128,27394,Chevrolet,Cobalt,Coupe 2D,Coupe,4,2.2,2,1,1,1\\r\\n12706.9113479764,27521,Chevrolet,Cobalt,Coupe 2D,Coupe,4,2.2,2,1,1,1\\r\\n12487.0542927355,28492,Chevrolet,Cobalt,Coupe 2D,Coupe,4,2.2,2,0,1,1\\r\\n15635.7961597274,1169,Chevrolet,Cobalt,LS Coupe 2D,Coupe,4,2.2,2,0,1,1\\r\\n15747.8039693734,6048,Chevrolet,Cobalt,LS Coupe 2D,Coupe,4,2.2,2,0,1,1\\r\\n14619.0785627339,15768,Chevrolet,Cobalt,LS Coupe 2D,Coupe,4,2.2,2,1,1,1\\r\\n14185.0215527411,20374,Chevrolet,Cobalt,LS Coupe 2D,Coupe,4,2.2,2,0,1,1\\r\\n13699.0357802751,25845,Chevrolet,Cobalt,LS Coupe 2D,Coupe,4,2.2,2,1,1,1\\r\\n13310.0595947936,26143,Chevrolet,Cobalt,LS Coupe 2D,Coupe,4,2.2,2,1,1,1\\r\\n13530.0686449196,27249,Chevrolet,Cobalt,LS Coupe 2D,Coupe,4,2.2,2,1,1,1\\r\\n13019.0711364536,27942,Chevrolet,Cobalt,LS Coupe 2D,Coupe,4,2.2,2,1,1,1\\r\\n12684.9862266111,29891,Chevrolet,Cobalt,LS Coupe 2D,Coupe,4,2.2,2,1,1,1\\r\\n12553.0714279172,32844,Chevrolet,Cobalt,LS Coupe 2D,Coupe,4,2.2,2,1,1,1\\r\\n14997.8843363888,8880,Chevrolet,Cobalt,LS Sedan 4D,Sedan,4,2.2,4,0,1,1\\r\\n14847.0441508521,12980,Chevrolet,Cobalt,LS Sedan 4D,Sedan,4,2.2,4,0,1,1\\r\\n15128.9922358386,13828,Chevrolet,Cobalt,LS Sedan 4D,Sedan,4,2.2,4,1,1,1\\r\\n15000.9927098969,14504,Chevrolet,Cobalt,LS Sedan 4D,Sedan,4,2.2,4,0,1,1\\r\\n14593.8540952799,18790,Chevrolet,Cobalt,LS Sedan 4D,Sedan,4,2.2,4,0,1,1\\r\\n14304.7410353626,21128,Chevrolet,Cobalt,LS Sedan 4D,Sedan,4,2.2,4,0,1,1\\r\\n13688.9456754793,21611,Chevrolet,Cobalt,LS Sedan 4D,Sedan,4,2.2,4,1,1,1\\r\\n13744.8498521312,23748,Chevrolet,Cobalt,LS Sedan 4D,Sedan,4,2.2,4,0,1,1\\r\\n13545.0308963393,27431,Chevrolet,Cobalt,LS Sedan 4D,Sedan,4,2.2,4,0,1,1\\r\\n12741.1902325605,34815,Chevrolet,Cobalt,LS Sedan 4D,Sedan,4,2.2,4,0,1,1\\r\\n16116.8439161411,865,Chevrolet,Cobalt,LT Sedan 4D,Sedan,4,2.2,4,1,1,1\\r\\n16428.5789813727,9882,Chevrolet,Cobalt,LT Sedan 4D,Sedan,4,2.2,4,0,1,1\\r\\n15084.8154042675,14824,Chevrolet,Cobalt,LT Sedan 4D,Sedan,4,2.2,4,1,1,1\\r\\n15163.1698589644,17158,Chevrolet,Cobalt,LT Sedan 4D,Sedan,4,2.2,4,1,1,1\\r\\n14897.0405525771,18210,Chevrolet,Cobalt,LT Sedan 4D,Sedan,4,2.2,4,1,1,1\\r\\n14508.7500852241,18910,Chevrolet,Cobalt,LT Sedan 4D,Sedan,4,2.2,4,0,1,1\\r\\n14418.1652909085,19818,Chevrolet,Cobalt,LT Sedan 4D,Sedan,4,2.2,4,0,1,1\\r\\n14191.8822773606,21181,Chevrolet,Cobalt,LT Sedan 4D,Sedan,4,2.2,4,1,1,1\\r\\n14401.9069288085,21527,Chevrolet,Cobalt,LT Sedan 4D,Sedan,4,2.2,4,0,1,1\\r\\n14175.8790788752,21627,Chevrolet,Cobalt,LT Sedan 4D,Sedan,4,2.2,4,0,1,1\\r\\n14429.7896427032,6114,Chevrolet,Cobalt,Sedan 4D,Sedan,4,2.2,4,1,1,1\\r\\n14696.0289897965,6709,Chevrolet,Cobalt,Sedan 4D,Sedan,4,2.2,4,1,1,1\\r\\n14582.7691222953,7115,Chevrolet,Cobalt,Sedan 4D,Sedan,4,2.2,4,1,1,1\\r\\n14194.8236036111,9561,Chevrolet,Cobalt,Sedan 4D,Sedan,4,2.2,4,0,1,1\\r\\n14072.135231942,15233,Chevrolet,Cobalt,Sedan 4D,Sedan,4,2.2,4,0,1,1\\r\\n13994.906458446,17270,Chevrolet,Cobalt,Sedan 4D,Sedan,4,2.2,4,0,1,1\\r\\n13830.2490247204,17594,Chevrolet,Cobalt,Sedan 4D,Sedan,4,2.2,4,0,1,1\\r\\n13159.8215441932,22740,Chevrolet,Cobalt,Sedan 4D,Sedan,4,2.2,4,1,1,1\\r\\n12495.9707512187,26204,Chevrolet,Cobalt,Sedan 4D,Sedan,4,2.2,4,0,1,1\\r\\n12678.853974694,28683,Chevrolet,Cobalt,Sedan 4D,Sedan,4,2.2,4,0,1,1\\r\\n46732.6060296375,3625,Chevrolet,Corvette,Conv 2D,Convertible,8,6,2,1,1,1\\r\\n47065.2099128135,5239,Chevrolet,Corvette,Conv 2D,Convertible,8,6,2,1,1,1\\r\\n44749.6867932853,12115,Chevrolet,Corvette,Conv 2D,Convertible,8,6,2,1,0,1\\r\\n42773.0283900247,14546,Chevrolet,Corvette,Conv 2D,Convertible,8,6,2,1,1,1\\r\\n41371.3792727352,20000,Chevrolet,Corvette,Conv 2D,Convertible,8,6,2,1,0,1\\r\\n39547.5878996389,23826,Chevrolet,Corvette,Conv 2D,Convertible,8,6,2,1,1,1\\r\\n39691.7274009474,25169,Chevrolet,Corvette,Conv 2D,Convertible,8,6,2,1,1,1\\r\\n38824.8690859321,25960,Chevrolet,Corvette,Conv 2D,Convertible,8,6,2,1,0,1\\r\\n36970.8980474434,30502,Chevrolet,Corvette,Conv 2D,Convertible,8,6,2,1,1,1\\r\\n37288.9367376769,32039,Chevrolet,Corvette,Conv 2D,Convertible,8,6,2,1,1,1\\r\\n39875.8542553224,7054,Chevrolet,Corvette,Coupe 2D,Coupe,8,6,2,1,0,1\\r\\n39713.6679219378,8967,Chevrolet,Corvette,Coupe 2D,Coupe,8,6,2,1,1,1\\r\\n38990.6073346213,9410,Chevrolet,Corvette,Coupe 2D,Coupe,8,6,2,1,1,1\\r\\n39092.1899183221,10717,Chevrolet,Corvette,Coupe 2D,Coupe,8,6,2,1,1,1\\r\\n39365.8832384862,11619,Chevrolet,Corvette,Coupe 2D,Coupe,8,6,2,1,1,1\\r\\n35261.436430686,21350,Chevrolet,Corvette,Coupe 2D,Coupe,8,6,2,1,1,1\\r\\n35575.417048945,22740,Chevrolet,Corvette,Coupe 2D,Coupe,8,6,2,1,0,1\\r\\n34297.3053502994,24259,Chevrolet,Corvette,Coupe 2D,Coupe,8,6,2,1,0,1\\r\\n34739.2149603993,25747,Chevrolet,Corvette,Coupe 2D,Coupe,8,6,2,1,0,1\\r\\n31186.741462751,34191,Chevrolet,Corvette,Coupe 2D,Coupe,8,6,2,1,0,1\\r\\n21757.049509258,1853,Chevrolet,Impala,LS Sedan 4D,Sedan,6,3.8,4,1,0,0\\r\\n19528.1004334074,14115,Chevrolet,Impala,LS Sedan 4D,Sedan,6,3.8,4,1,1,0\\r\\n19075.6787522022,18198,Chevrolet,Impala,LS Sedan 4D,Sedan,6,3.8,4,1,0,1\\r\\n19409.7526074867,18795,Chevrolet,Impala,LS Sedan 4D,Sedan,6,3.8,4,1,1,1\\r\\n18527.2089705632,19874,Chevrolet,Impala,LS Sedan 4D,Sedan,6,3.8,4,1,1,0\\r\\n18912.9815981283,21512,Chevrolet,Impala,LS Sedan 4D,Sedan,6,3.8,4,1,1,0\\r\\n17839.8007705925,25453,Chevrolet,Impala,LS Sedan 4D,Sedan,6,3.8,4,1,0,1\\r\\n17789.3467308115,26980,Chevrolet,Impala,LS Sedan 4D,Sedan,6,3.8,4,1,1,0\\r\\n17294.181001319,29368,Chevrolet,Impala,LS Sedan 4D,Sedan,6,3.8,4,1,1,0\\r\\n18083.3962990146,29420,Chevrolet,Impala,LS Sedan 4D,Sedan,6,3.8,4,1,1,1\\r\\n20021.1952055266,1787,Chevrolet,Impala,Sedan 4D,Sedan,6,3.8,4,1,0,0\\r\\n18835.1897611439,8211,Chevrolet,Impala,Sedan 4D,Sedan,6,3.8,4,1,0,1\\r\\n18727.5083766846,14054,Chevrolet,Impala,Sedan 4D,Sedan,6,3.8,4,1,1,1\\r\\n16805.057392224,19498,Chevrolet,Impala,Sedan 4D,Sedan,6,3.8,4,1,0,0\\r\\n17154.5764616521,21567,Chevrolet,Impala,Sedan 4D,Sedan,6,3.8,4,1,0,1\\r\\n16644.0878730491,22383,Chevrolet,Impala,Sedan 4D,Sedan,6,3.8,4,1,1,1\\r\\n15951.8111690734,26070,Chevrolet,Impala,Sedan 4D,Sedan,6,3.8,4,1,1,1\\r\\n16508.5906948624,27460,Chevrolet,Impala,Sedan 4D,Sedan,6,3.8,4,1,1,1\\r\\n15832.5183481771,31202,Chevrolet,Impala,Sedan 4D,Sedan,6,3.8,4,1,1,1\\r\\n15554.2831291178,33357,Chevrolet,Impala,Sedan 4D,Sedan,6,3.8,4,1,1,1\\r\\n25948.9625940461,636,Chevrolet,Impala,SS Sedan 4D,Sedan,6,3.8,4,1,0,0\\r\\n27714.0502451392,5379,Chevrolet,Impala,SS Sedan 4D,Sedan,6,3.8,4,1,1,0\\r\\n25097.4732491841,14461,Chevrolet,Impala,SS Sedan 4D,Sedan,6,3.8,4,1,1,1\\r\\n24809.0423236228,16111,Chevrolet,Impala,SS Sedan 4D,Sedan,6,3.8,4,1,0,0\\r\\n23345.32906904,22964,Chevrolet,Impala,SS Sedan 4D,Sedan,6,3.8,4,1,1,1\\r\\n22894.4386761484,26272,Chevrolet,Impala,SS Sedan 4D,Sedan,6,3.8,4,1,1,1\\r\\n22064.292185651,27384,Chevrolet,Impala,SS Sedan 4D,Sedan,6,3.8,4,1,1,1\\r\\n23151.5461397874,27940,Chevrolet,Impala,SS Sedan 4D,Sedan,6,3.8,4,1,0,0\\r\\n22120.7577646413,28242,Chevrolet,Impala,SS Sedan 4D,Sedan,6,3.8,4,1,1,1\\r\\n20294.5768249992,33892,Chevrolet,Impala,SS Sedan 4D,Sedan,6,3.8,4,1,0,0\\r\\n18957.8900428954,5936,Chevrolet,Malibu,LS MAXX Hback 4D,Hatchback,6,3.5,4,0,1,1\\r\\n18950.9069845001,8687,Chevrolet,Malibu,LS MAXX Hback 4D,Hatchback,6,3.5,4,0,1,1\\r\\n17891.633775413,17020,Chevrolet,Malibu,LS MAXX Hback 4D,Hatchback,6,3.5,4,0,1,1\\r\\n17801.2295282699,19386,Chevrolet,Malibu,LS MAXX Hback 4D,Hatchback,6,3.5,4,1,1,1\\r\\n16723.9938818438,19740,Chevrolet,Malibu,LS MAXX Hback 4D,Hatchback,6,3.5,4,1,1,1\\r\\n16744.0302525506,21829,Chevrolet,Malibu,LS MAXX Hback 4D,Hatchback,6,3.5,4,0,1,1\\r\\n16825.1908819896,23460,Chevrolet,Malibu,LS MAXX Hback 4D,Hatchback,6,3.5,4,0,1,1\\r\\n16543.9801372896,24583,Chevrolet,Malibu,LS MAXX Hback 4D,Hatchback,6,3.5,4,0,1,1\\r\\n16143.9572923392,26532,Chevrolet,Malibu,LS MAXX Hback 4D,Hatchback,6,3.5,4,1,1,1\\r\\n14914.201280944,33906,Chevrolet,Malibu,LS MAXX Hback 4D,Hatchback,6,3.5,4,0,1,1\\r\\n19164.6106273539,1480,Chevrolet,Malibu,LS Sedan 4D,Sedan,6,3.5,4,1,1,1\\r\\n18800.9588988123,7961,Chevrolet,Malibu,LS Sedan 4D,Sedan,6,3.5,4,0,1,1\\r\\n17458.2215292051,15144,Chevrolet,Malibu,LS Sedan 4D,Sedan,6,3.5,4,1,1,1\\r\\n17158.9219978811,21417,Chevrolet,Malibu,LS Sedan 4D,Sedan,6,3.5,4,0,1,1\\r\\n16472.8976475979,21675,Chevrolet,Malibu,LS Sedan 4D,Sedan,6,3.5,4,1,1,1\\r\\n16993.78032811,23621,Chevrolet,Malibu,LS Sedan 4D,Sedan,6,3.5,4,0,1,1\\r\\n16300.4652398485,25697,Chevrolet,Malibu,LS Sedan 4D,Sedan,6,3.5,4,1,1,1\\r\\n15623.2002730477,27476,Chevrolet,Malibu,LS Sedan 4D,Sedan,6,3.5,4,0,1,1\\r\\n15138.4008240242,32462,Chevrolet,Malibu,LS Sedan 4D,Sedan,6,3.5,4,0,1,1\\r\\n15233.159870989,32535,Chevrolet,Malibu,LS Sedan 4D,Sedan,6,3.5,4,0,1,1\\r\\n19471.9748521674,6608,Chevrolet,Malibu,LT MAXX Hback 4D,Hatchback,6,3.5,4,1,1,1\\r\\n18009.846031675,15190,Chevrolet,Malibu,LT MAXX Hback 4D,Hatchback,6,3.5,4,0,1,1\\r\\n18273.006133669,16335,Chevrolet,Malibu,LT MAXX Hback 4D,Hatchback,6,3.5,4,0,1,1\\r\\n18311.7563023413,17441,Chevrolet,Malibu,LT MAXX Hback 4D,Hatchback,6,3.5,4,0,1,1\\r\\n17553.7536839839,18451,Chevrolet,Malibu,LT MAXX Hback 4D,Hatchback,6,3.5,4,0,1,1\\r\\n18004.8704147535,18771,Chevrolet,Malibu,LT MAXX Hback 4D,Hatchback,6,3.5,4,0,1,1\\r\\n17663.2249529278,19490,Chevrolet,Malibu,LT MAXX Hback 4D,Hatchback,6,3.5,4,1,1,1\\r\\n17115.1220306392,24461,Chevrolet,Malibu,LT MAXX Hback 4D,Hatchback,6,3.5,4,0,1,1\\r\\n16988.3030634522,24905,Chevrolet,Malibu,LT MAXX Hback 4D,Hatchback,6,3.5,4,1,1,1\\r\\n16803.1227498612,25874,Chevrolet,Malibu,LT MAXX Hback 4D,Hatchback,6,3.5,4,1,1,1\\r\\n19446.8829407428,932,Chevrolet,Malibu,LT Sedan 4D,Sedan,6,3.5,4,0,1,1\\r\\n17119.4575724122,18277,Chevrolet,Malibu,LT Sedan 4D,Sedan,6,3.5,4,1,1,1\\r\\n17316.0966034412,19593,Chevrolet,Malibu,LT Sedan 4D,Sedan,6,3.5,4,1,1,1\\r\\n16860.8707794215,19883,Chevrolet,Malibu,LT Sedan 4D,Sedan,6,3.5,4,1,1,1\\r\\n17312.9071543366,21420,Chevrolet,Malibu,LT Sedan 4D,Sedan,6,3.5,4,1,1,1\\r\\n16403.253626802,23133,Chevrolet,Malibu,LT Sedan 4D,Sedan,6,3.5,4,1,1,1\\r\\n16536.7438751172,24218,Chevrolet,Malibu,LT Sedan 4D,Sedan,6,3.5,4,1,1,1\\r\\n16341.8040992783,25394,Chevrolet,Malibu,LT Sedan 4D,Sedan,6,3.5,4,0,1,1\\r\\n16713.984689313,26328,Chevrolet,Malibu,LT Sedan 4D,Sedan,6,3.5,4,1,1,1\\r\\n16295.211437549,28239,Chevrolet,Malibu,LT Sedan 4D,Sedan,6,3.5,4,0,1,1\\r\\n18974.9220296354,5632,Chevrolet,Malibu,MAXX Hback 4D,Hatchback,6,3.5,4,0,1,1\\r\\n18324.8319253823,7397,Chevrolet,Malibu,MAXX Hback 4D,Hatchback,6,3.5,4,1,1,1\\r\\n19581.2314137813,7645,Chevrolet,Malibu,MAXX Hback 4D,Hatchback,6,3.5,4,0,1,1\\r\\n18169.3754824501,14754,Chevrolet,Malibu,MAXX Hback 4D,Hatchback,6,3.5,4,0,1,1\\r\\n17986.2240909417,17488,Chevrolet,Malibu,MAXX Hback 4D,Hatchback,6,3.5,4,0,1,1\\r\\n17173.9423218235,18721,Chevrolet,Malibu,MAXX Hback 4D,Hatchback,6,3.5,4,0,1,1\\r\\n16456.9746438978,20200,Chevrolet,Malibu,MAXX Hback 4D,Hatchback,6,3.5,4,0,1,1\\r\\n16267.0948891087,21452,Chevrolet,Malibu,MAXX Hback 4D,Hatchback,6,3.5,4,0,1,1\\r\\n16860.0943255059,22841,Chevrolet,Malibu,MAXX Hback 4D,Hatchback,6,3.5,4,1,1,1\\r\\n16027.286487323,22889,Chevrolet,Malibu,MAXX Hback 4D,Hatchback,6,3.5,4,0,1,1\\r\\n17089.9188296993,8732,Chevrolet,Malibu,Sedan 4D,Sedan,6,3.5,4,0,1,1\\r\\n17463.046080588,11393,Chevrolet,Malibu,Sedan 4D,Sedan,6,3.5,4,1,1,1\\r\\n17218.6857498601,14579,Chevrolet,Malibu,Sedan 4D,Sedan,6,3.5,4,1,1,1\\r\\n17162.4782553752,15903,Chevrolet,Malibu,Sedan 4D,Sedan,6,3.5,4,0,1,1\\r\\n16507.0702674881,17451,Chevrolet,Malibu,Sedan 4D,Sedan,6,3.5,4,0,1,1\\r\\n16752.5144032522,18562,Chevrolet,Malibu,Sedan 4D,Sedan,6,3.5,4,1,1,1\\r\\n16646.7707992652,20154,Chevrolet,Malibu,Sedan 4D,Sedan,6,3.5,4,0,1,1\\r\\n15623.9197645756,21272,Chevrolet,Malibu,Sedan 4D,Sedan,6,3.5,4,1,1,1\\r\\n15664.6249047546,25787,Chevrolet,Malibu,Sedan 4D,Sedan,6,3.5,4,1,1,1\\r\\n15680.8644260064,25956,Chevrolet,Malibu,Sedan 4D,Sedan,6,3.5,4,0,1,1\\r\\n18800.0931025943,5827,Chevrolet,Monte Carlo,LS Coupe 2D,Coupe,6,3.8,2,1,0,0\\r\\n18910.8042859922,8345,Chevrolet,Monte Carlo,LS Coupe 2D,Coupe,6,3.8,2,1,0,1\\r\\n19177.4120635113,10414,Chevrolet,Monte Carlo,LS Coupe 2D,Coupe,6,3.8,2,1,1,0\\r\\n18040.1440064688,11647,Chevrolet,Monte Carlo,LS Coupe 2D,Coupe,6,3.8,2,1,0,1\\r\\n17685.2009949316,15898,Chevrolet,Monte Carlo,LS Coupe 2D,Coupe,6,3.8,2,1,0,0\\r\\n17515.3975894289,18602,Chevrolet,Monte Carlo,LS Coupe 2D,Coupe,6,3.8,2,1,0,0\\r\\n16357.9923216692,23491,Chevrolet,Monte Carlo,LS Coupe 2D,Coupe,6,3.8,2,1,1,0\\r\\n16345.9437469065,25931,Chevrolet,Monte Carlo,LS Coupe 2D,Coupe,6,3.8,2,1,1,0\\r\\n15797.1957603831,26700,Chevrolet,Monte Carlo,LS Coupe 2D,Coupe,6,3.8,2,1,1,0\\r\\n15503.5087961695,33345,Chevrolet,Monte Carlo,LS Coupe 2D,Coupe,6,3.8,2,1,0,0\\r\\n21745.0294409433,7065,Chevrolet,Monte Carlo,LT Coupe 2D,Coupe,6,3.8,2,1,1,0\\r\\n21725.0107490518,13457,Chevrolet,Monte Carlo,LT Coupe 2D,Coupe,6,3.8,2,1,1,0\\r\\n22384.1186917714,14788,Chevrolet,Monte Carlo,LT Coupe 2D,Coupe,6,3.8,2,1,1,1\\r\\n20537.1417181204,16950,Chevrolet,Monte Carlo,LT Coupe 2D,Coupe,6,3.8,2,1,0,0\\r\\n21233.911355975,17337,Chevrolet,Monte Carlo,LT Coupe 2D,Coupe,6,3.8,2,1,1,1\\r\\n20676.1655109484,18021,Chevrolet,Monte Carlo,LT Coupe 2D,Coupe,6,3.8,2,1,0,1\\r\\n20839.1499654655,22152,Chevrolet,Monte Carlo,LT Coupe 2D,Coupe,6,3.8,2,1,1,1\\r\\n20017.9684301873,22729,Chevrolet,Monte Carlo,LT Coupe 2D,Coupe,6,3.8,2,1,0,0\\r\\n18876.8706536779,27218,Chevrolet,Monte Carlo,LT Coupe 2D,Coupe,6,3.8,2,1,1,0\\r\\n17586.9285826976,39049,Chevrolet,Monte Carlo,LT Coupe 2D,Coupe,6,3.8,2,1,0,1\\r\\n23573.8220022015,12466,Chevrolet,Monte Carlo,SS Coupe 2D,Coupe,6,3.8,2,1,1,0\\r\\n23527.7285024945,14948,Chevrolet,Monte Carlo,SS Coupe 2D,Coupe,6,3.8,2,1,1,0\\r\\n22113.628024091,21992,Chevrolet,Monte Carlo,SS Coupe 2D,Coupe,6,3.8,2,1,1,0\\r\\n22470.3584295684,22626,Chevrolet,Monte Carlo,SS Coupe 2D,Coupe,6,3.8,2,1,1,0\\r\\n20619.1140102242,24067,Chevrolet,Monte Carlo,SS Coupe 2D,Coupe,6,3.8,2,1,0,0\\r\\n20047.9513612262,24665,Chevrolet,Monte Carlo,SS Coupe 2D,Coupe,6,3.8,2,1,1,0\\r\\n21525.3390083458,25020,Chevrolet,Monte Carlo,SS Coupe 2D,Coupe,6,3.8,2,1,1,1\\r\\n20382.1503095689,25240,Chevrolet,Monte Carlo,SS Coupe 2D,Coupe,6,3.8,2,1,1,1\\r\\n21020.8367766062,25550,Chevrolet,Monte Carlo,SS Coupe 2D,Coupe,6,3.8,2,1,1,1\\r\\n20221.8088112824,26223,Chevrolet,Monte Carlo,SS Coupe 2D,Coupe,6,3.8,2,1,1,1\\r\\n25452.473854577,11892,Pontiac,Bonneville,GXP Sedan 4D,Sedan,8,4.6,4,1,0,1\\r\\n23449.306325765,17273,Pontiac,Bonneville,GXP Sedan 4D,Sedan,8,4.6,4,1,0,1\\r\\n23578.1648606715,19148,Pontiac,Bonneville,GXP Sedan 4D,Sedan,8,4.6,4,1,0,1\\r\\n22525.2697215027,19521,Pontiac,Bonneville,GXP Sedan 4D,Sedan,8,4.6,4,1,1,1\\r\\n21982.6477082653,20472,Pontiac,Bonneville,GXP Sedan 4D,Sedan,8,4.6,4,1,1,1\\r\\n22231.5631514943,21929,Pontiac,Bonneville,GXP Sedan 4D,Sedan,8,4.6,4,1,1,1\\r\\n22189.1159710833,25651,Pontiac,Bonneville,GXP Sedan 4D,Sedan,8,4.6,4,1,0,1\\r\\n21765.066579225,25794,Pontiac,Bonneville,GXP Sedan 4D,Sedan,8,4.6,4,1,0,1\\r\\n21403.7564223375,27168,Pontiac,Bonneville,GXP Sedan 4D,Sedan,8,4.6,4,1,0,1\\r\\n21200.6902072266,31197,Pontiac,Bonneville,GXP Sedan 4D,Sedan,8,4.6,4,1,1,1\\r\\n19682.0350106485,11554,Pontiac,Bonneville,SE Sedan 4D,Sedan,6,3.8,4,1,0,1\\r\\n18678.4141227383,16496,Pontiac,Bonneville,SE Sedan 4D,Sedan,6,3.8,4,1,1,0\\r\\n20318.8909731314,17583,Pontiac,Bonneville,SE Sedan 4D,Sedan,6,3.8,4,1,1,0\\r\\n20127.0441847493,18419,Pontiac,Bonneville,SE Sedan 4D,Sedan,6,3.8,4,1,1,1\\r\\n19751.041430836,20510,Pontiac,Bonneville,SE Sedan 4D,Sedan,6,3.8,4,1,0,1\\r\\n17844.7307707838,21121,Pontiac,Bonneville,SE Sedan 4D,Sedan,6,3.8,4,1,1,0\\r\\n18856.0186905559,22423,Pontiac,Bonneville,SE Sedan 4D,Sedan,6,3.8,4,1,1,0\\r\\n18566.070703281,24747,Pontiac,Bonneville,SE Sedan 4D,Sedan,6,3.8,4,1,1,1\\r\\n18063.0049108529,27574,Pontiac,Bonneville,SE Sedan 4D,Sedan,6,3.8,4,1,0,0\\r\\n17768.0595054329,28385,Pontiac,Bonneville,SE Sedan 4D,Sedan,6,3.8,4,1,1,1\\r\\n23197.4367899745,2295,Pontiac,Bonneville,SLE Sedan 4D,Sedan,6,3.8,4,1,1,1\\r\\n23102.0223672481,5653,Pontiac,Bonneville,SLE Sedan 4D,Sedan,6,3.8,4,1,0,0\\r\\n22460.5299963042,8928,Pontiac,Bonneville,SLE Sedan 4D,Sedan,6,3.8,4,1,0,1\\r\\n21607.7725655548,11069,Pontiac,Bonneville,SLE Sedan 4D,Sedan,6,3.8,4,1,0,1\\r\\n22004.9304375367,15516,Pontiac,Bonneville,SLE Sedan 4D,Sedan,6,3.8,4,1,1,1\\r\\n20830.9942960647,19419,Pontiac,Bonneville,SLE Sedan 4D,Sedan,6,3.8,4,1,1,0\\r\\n20109.904121275,22891,Pontiac,Bonneville,SLE Sedan 4D,Sedan,6,3.8,4,1,1,1\\r\\n19116.1310873998,26252,Pontiac,Bonneville,SLE Sedan 4D,Sedan,6,3.8,4,1,0,1\\r\\n19689.7408440044,27077,Pontiac,Bonneville,SLE Sedan 4D,Sedan,6,3.8,4,1,1,0\\r\\n19338.3759975728,27966,Pontiac,Bonneville,SLE Sedan 4D,Sedan,6,3.8,4,1,0,1\\r\\n21903.3226175196,4537,Pontiac,G6,GT Sedan 4D,Sedan,6,3.5,4,1,1,0\\r\\n22736.8344688719,5690,Pontiac,G6,GT Sedan 4D,Sedan,6,3.5,4,1,1,1\\r\\n22104.9735713079,9049,Pontiac,G6,GT Sedan 4D,Sedan,6,3.5,4,1,1,1\\r\\n22311.0495129621,11221,Pontiac,G6,GT Sedan 4D,Sedan,6,3.5,4,1,1,1\\r\\n21875.0976308299,12313,Pontiac,G6,GT Sedan 4D,Sedan,6,3.5,4,1,0,1\\r\\n20627.6616890792,20770,Pontiac,G6,GT Sedan 4D,Sedan,6,3.5,4,1,1,1\\r\\n19540.2447885739,22628,Pontiac,G6,GT Sedan 4D,Sedan,6,3.5,4,1,1,0\\r\\n19204.8093414195,26477,Pontiac,G6,GT Sedan 4D,Sedan,6,3.5,4,1,0,1\\r\\n18158.083129084,28354,Pontiac,G6,GT Sedan 4D,Sedan,6,3.5,4,1,0,0\\r\\n18529.3421171141,30063,Pontiac,G6,GT Sedan 4D,Sedan,6,3.5,4,1,0,1\\r\\n21383.0671604967,7287,Pontiac,G6,Sedan 4D,Sedan,6,3.5,4,1,1,1\\r\\n20452.6694749486,10338,Pontiac,G6,Sedan 4D,Sedan,6,3.5,4,1,0,0\\r\\n20677.5938191944,11204,Pontiac,G6,Sedan 4D,Sedan,6,3.5,4,1,1,0\\r\\n19294.787504345,19539,Pontiac,G6,Sedan 4D,Sedan,6,3.5,4,1,0,0\\r\\n18548.9785926424,20870,Pontiac,G6,Sedan 4D,Sedan,6,3.5,4,1,0,0\\r\\n18042.2210743654,21702,Pontiac,G6,Sedan 4D,Sedan,6,3.5,4,1,0,0\\r\\n18620.8713666287,25516,Pontiac,G6,Sedan 4D,Sedan,6,3.5,4,1,0,1\\r\\n17023.9368652855,30404,Pontiac,G6,Sedan 4D,Sedan,6,3.5,4,1,0,0\\r\\n16216.9807055563,35624,Pontiac,G6,Sedan 4D,Sedan,6,3.5,4,1,1,0\\r\\n15792.8314368682,41566,Pontiac,G6,Sedan 4D,Sedan,6,3.5,4,1,1,1\\r\\n17360.8106352797,881,Pontiac,Grand Am,GT Coupe 2D,Coupe,6,3.4,2,0,1,1\\r\\n17675.8374881408,5131,Pontiac,Grand Am,GT Coupe 2D,Coupe,6,3.4,2,0,1,1\\r\\n17141.9411581897,6761,Pontiac,Grand Am,GT Coupe 2D,Coupe,6,3.4,2,1,1,1\\r\\n17202.8340553044,9380,Pontiac,Grand Am,GT Coupe 2D,Coupe,6,3.4,2,0,1,1\\r\\n16792.6795290731,12071,Pontiac,Grand Am,GT Coupe 2D,Coupe,6,3.4,2,1,1,1\\r\\n15595.8841326384,18315,Pontiac,Grand Am,GT Coupe 2D,Coupe,6,3.4,2,0,1,1\\r\\n15253.8685660807,20917,Pontiac,Grand Am,GT Coupe 2D,Coupe,6,3.4,2,1,1,1\\r\\n15594.8068443375,22414,Pontiac,Grand Am,GT Coupe 2D,Coupe,6,3.4,2,0,1,1\\r\\n15059.1340772545,22641,Pontiac,Grand Am,GT Coupe 2D,Coupe,6,3.4,2,1,1,1\\r\\n14703.1368681684,23335,Pontiac,Grand Am,GT Coupe 2D,Coupe,6,3.4,2,0,1,1\\r\\n15979.0148367598,3946,Pontiac,Grand Am,SE Sedan 4D,Sedan,4,2.2,4,1,1,1\\r\\n16379.8530040609,4188,Pontiac,Grand Am,SE Sedan 4D,Sedan,4,2.2,4,1,1,1\\r\\n15327.1003205085,4318,Pontiac,Grand Am,SE Sedan 4D,Sedan,4,2.2,4,0,1,1\\r\\n15846.0127123376,5350,Pontiac,Grand Am,SE Sedan 4D,Sedan,4,2.2,4,0,1,1\\r\\n15604.1458156892,5788,Pontiac,Grand Am,SE Sedan 4D,Sedan,4,2.2,4,1,1,1\\r\\n14841.9170489417,12420,Pontiac,Grand Am,SE Sedan 4D,Sedan,4,2.2,4,0,1,1\\r\\n15077.1758437743,13262,Pontiac,Grand Am,SE Sedan 4D,Sedan,4,2.2,4,0,1,1\\r\\n13961.1116418757,19602,Pontiac,Grand Am,SE Sedan 4D,Sedan,4,2.2,4,0,1,1\\r\\n13034.068527551,23976,Pontiac,Grand Am,SE Sedan 4D,Sedan,4,2.2,4,0,1,1\\r\\n13162.8520539716,24542,Pontiac,Grand Am,SE Sedan 4D,Sedan,4,2.2,4,0,1,1\\r\\n18254.9227722623,16554,Pontiac,Grand Prix,GT Sedan 4D,Sedan,6,3.8,4,1,1,1\\r\\n17095.0352244258,18720,Pontiac,Grand Prix,GT Sedan 4D,Sedan,6,3.8,4,1,0,0\\r\\n17162.8734405908,20829,Pontiac,Grand Prix,GT Sedan 4D,Sedan,6,3.8,4,1,0,0\\r\\n16391.1717145607,21304,Pontiac,Grand Prix,GT Sedan 4D,Sedan,6,3.8,4,1,1,0\\r\\n15788.1047803614,25295,Pontiac,Grand Prix,GT Sedan 4D,Sedan,6,3.8,4,1,1,0\\r\\n16569.1412397366,25777,Pontiac,Grand Prix,GT Sedan 4D,Sedan,6,3.8,4,1,0,0\\r\\n16997.6937411667,25830,Pontiac,Grand Prix,GT Sedan 4D,Sedan,6,3.8,4,1,0,1\\r\\n16283.9589911707,26511,Pontiac,Grand Prix,GT Sedan 4D,Sedan,6,3.8,4,1,0,1\\r\\n15457.1705915318,29925,Pontiac,Grand Prix,GT Sedan 4D,Sedan,6,3.8,4,1,1,0\\r\\n14963.0456187938,31471,Pontiac,Grand Prix,GT Sedan 4D,Sedan,6,3.8,4,1,1,0\\r\\n21230.9779853445,11229,Pontiac,Grand Prix,GTP Sedan 4D,Sedan,6,3.8,4,1,1,0\\r\\n22100.3931734919,12314,Pontiac,Grand Prix,GTP Sedan 4D,Sedan,6,3.8,4,1,1,0\\r\\n21300.0194493808,12772,Pontiac,Grand Prix,GTP Sedan 4D,Sedan,6,3.8,4,1,1,0\\r\\n21281.8804875931,17417,Pontiac,Grand Prix,GTP Sedan 4D,Sedan,6,3.8,4,1,1,1\\r\\n19646.7174784512,21132,Pontiac,Grand Prix,GTP Sedan 4D,Sedan,6,3.8,4,1,1,1\\r\\n20173.9063294114,21211,Pontiac,Grand Prix,GTP Sedan 4D,Sedan,6,3.8,4,1,0,1\\r\\n18701.2226154063,24992,Pontiac,Grand Prix,GTP Sedan 4D,Sedan,6,3.8,4,1,0,0\\r\\n19423.1650215408,25557,Pontiac,Grand Prix,GTP Sedan 4D,Sedan,6,3.8,4,1,0,1\\r\\n19956.7584132916,26028,Pontiac,Grand Prix,GTP Sedan 4D,Sedan,6,3.8,4,1,1,0\\r\\n19448.2263302242,27721,Pontiac,Grand Prix,GTP Sedan 4D,Sedan,6,3.8,4,1,0,1\\r\\n19822.1153919822,1592,Pontiac,Grand Prix,Sedan 4D,Sedan,6,3.8,4,1,1,0\\r\\n19567.2592910525,2189,Pontiac,Grand Prix,Sedan 4D,Sedan,6,3.8,4,1,1,1\\r\\n16853.1078490971,17959,Pontiac,Grand Prix,Sedan 4D,Sedan,6,3.8,4,1,0,0\\r\\n16516.9555490351,20751,Pontiac,Grand Prix,Sedan 4D,Sedan,6,3.8,4,1,1,1\\r\\n15979.0148367598,21974,Pontiac,Grand Prix,Sedan 4D,Sedan,6,3.8,4,1,0,0\\r\\n16256.2361676087,22637,Pontiac,Grand Prix,Sedan 4D,Sedan,6,3.8,4,1,0,0\\r\\n15724.2521703931,23989,Pontiac,Grand Prix,Sedan 4D,Sedan,6,3.8,4,1,0,0\\r\\n15967.2454000765,25598,Pontiac,Grand Prix,Sedan 4D,Sedan,6,3.8,4,1,0,0\\r\\n16041.6855860789,27800,Pontiac,Grand Prix,Sedan 4D,Sedan,6,3.8,4,1,1,0\\r\\n15756.1461296533,29325,Pontiac,Grand Prix,Sedan 4D,Sedan,6,3.8,4,1,1,0\\r\\n32422.7613757601,9185,Pontiac,GTO,Coupe 2D,Coupe,8,5.7,2,1,1,1\\r\\n32219.5892845264,10915,Pontiac,GTO,Coupe 2D,Coupe,8,5.7,2,1,1,1\\r\\n31024.8721145769,13678,Pontiac,GTO,Coupe 2D,Coupe,8,5.7,2,1,1,1\\r\\n29595.7942878666,16193,Pontiac,GTO,Coupe 2D,Coupe,8,5.7,2,1,0,1\\r\\n29664.7026869627,21418,Pontiac,GTO,Coupe 2D,Coupe,8,5.7,2,1,0,1\\r\\n27425.8439125687,23886,Pontiac,GTO,Coupe 2D,Coupe,8,5.7,2,1,0,1\\r\\n27370.9581106487,24960,Pontiac,GTO,Coupe 2D,Coupe,8,5.7,2,1,1,1\\r\\n27548.6296095248,26126,Pontiac,GTO,Coupe 2D,Coupe,8,5.7,2,1,1,1\\r\\n28502.306108682,27199,Pontiac,GTO,Coupe 2D,Coupe,8,5.7,2,1,1,1\\r\\n25527.0130266125,36480,Pontiac,GTO,Coupe 2D,Coupe,8,5.7,2,1,1,1\\r\\n13160.124563771,13145,Pontiac,Sunfire,Coupe 2D,Coupe,4,2.2,2,0,1,1\\r\\n12830.0987783096,17830,Pontiac,Sunfire,Coupe 2D,Coupe,4,2.2,2,1,1,1\\r\\n12828.030977366,19081,Pontiac,Sunfire,Coupe 2D,Coupe,4,2.2,2,1,1,1\\r\\n12878.0468289161,19225,Pontiac,Sunfire,Coupe 2D,Coupe,4,2.2,2,1,1,1\\r\\n12832.4623875345,20618,Pontiac,Sunfire,Coupe 2D,Coupe,4,2.2,2,1,1,1\\r\\n12464.0734613058,21891,Pontiac,Sunfire,Coupe 2D,Coupe,4,2.2,2,1,1,1\\r\\n12465.5085234005,23931,Pontiac,Sunfire,Coupe 2D,Coupe,4,2.2,2,0,1,1\\r\\n12258.8575923946,24318,Pontiac,Sunfire,Coupe 2D,Coupe,4,2.2,2,1,1,1\\r\\n11903.0977471736,25285,Pontiac,Sunfire,Coupe 2D,Coupe,4,2.2,2,0,1,1\\r\\n12209.5596229611,26097,Pontiac,Sunfire,Coupe 2D,Coupe,4,2.2,2,0,1,1\\r\\n16391.9265732948,18096,Pontiac,Vibe,AWD Sportwagon 4D,Wagon,4,1.8,4,1,1,0\\r\\n16033.9306184793,18391,Pontiac,Vibe,AWD Sportwagon 4D,Wagon,4,1.8,4,0,1,1\\r\\n16106.8272209155,19465,Pontiac,Vibe,AWD Sportwagon 4D,Wagon,4,1.8,4,1,0,0\\r\\n16551.2195659553,19531,Pontiac,Vibe,AWD Sportwagon 4D,Wagon,4,1.8,4,1,1,1\\r\\n17325.269542955,19894,Pontiac,Vibe,AWD Sportwagon 4D,Wagon,4,1.8,4,1,0,0\\r\\n16078.6654905256,22779,Pontiac,Vibe,AWD Sportwagon 4D,Wagon,4,1.8,4,0,0,1\\r\\n15297.8359728759,23062,Pontiac,Vibe,AWD Sportwagon 4D,Wagon,4,1.8,4,0,0,0\\r\\n15505.2938063331,24239,Pontiac,Vibe,AWD Sportwagon 4D,Wagon,4,1.8,4,1,0,0\\r\\n15174.3466125685,27887,Pontiac,Vibe,AWD Sportwagon 4D,Wagon,4,1.8,4,0,0,0\\r\\n14546.8848142459,33374,Pontiac,Vibe,AWD Sportwagon 4D,Wagon,4,1.8,4,0,1,1\\r\\n17803.2790885373,12303,Pontiac,Vibe,GT Sportwagon,Wagon,4,1.8,4,1,1,1\\r\\n16353.0965174458,16078,Pontiac,Vibe,GT Sportwagon,Wagon,4,1.8,4,0,1,0\\r\\n15977.9110836416,17053,Pontiac,Vibe,GT Sportwagon,Wagon,4,1.8,4,0,0,1\\r\\n15568.9742374606,18206,Pontiac,Vibe,GT Sportwagon,Wagon,4,1.8,4,0,0,0\\r\\n15589.7804827673,21307,Pontiac,Vibe,GT Sportwagon,Wagon,4,1.8,4,0,0,0\\r\\n15730.0462662228,21391,Pontiac,Vibe,GT Sportwagon,Wagon,4,1.8,4,0,1,1\\r\\n15802.6528608571,21461,Pontiac,Vibe,GT Sportwagon,Wagon,4,1.8,4,0,0,0\\r\\n15086.8995924996,27438,Pontiac,Vibe,GT Sportwagon,Wagon,4,1.8,4,0,0,1\\r\\n14396.2705572748,31424,Pontiac,Vibe,GT Sportwagon,Wagon,4,1.8,4,0,0,0\\r\\n14869.2820668754,31791,Pontiac,Vibe,GT Sportwagon,Wagon,4,1.8,4,1,1,1\\r\\n16927.7797609853,2973,Pontiac,Vibe,Sportwagon 4D,Wagon,4,1.8,4,0,0,0\\r\\n17418.0687339161,4463,Pontiac,Vibe,Sportwagon 4D,Wagon,4,1.8,4,1,0,1\\r\\n16379.0987013225,8754,Pontiac,Vibe,Sportwagon 4D,Wagon,4,1.8,4,0,1,0\\r\\n16706.6740679176,9150,Pontiac,Vibe,Sportwagon 4D,Wagon,4,1.8,4,0,0,0\\r\\n17214.3250783242,12610,Pontiac,Vibe,Sportwagon 4D,Wagon,4,1.8,4,1,1,1\\r\\n15821.9497181568,14304,Pontiac,Vibe,Sportwagon 4D,Wagon,4,1.8,4,0,0,1\\r\\n14398.9226925764,21688,Pontiac,Vibe,Sportwagon 4D,Wagon,4,1.8,4,0,0,0\\r\\n15622.1210978799,23217,Pontiac,Vibe,Sportwagon 4D,Wagon,4,1.8,4,1,1,1\\r\\n14909.0509877878,23323,Pontiac,Vibe,Sportwagon 4D,Wagon,4,1.8,4,0,1,1\\r\\n14853.1990111087,24270,Pontiac,Vibe,Sportwagon 4D,Wagon,4,1.8,4,0,0,0\\r\\n35622.1394954598,10340,SAAB,9_3,Linear Conv 2D,Convertible,4,2,2,1,1,0\\r\\n34819.2971215224,12251,SAAB,9_3,Linear Conv 2D,Convertible,4,2,2,1,0,0\\r\\n34355.0037276856,17711,SAAB,9_3,Linear Conv 2D,Convertible,4,2,2,1,1,0\\r\\n32737.0845459477,19112,SAAB,9_3,Linear Conv 2D,Convertible,4,2,2,1,1,1\\r\\n33540.5361050909,20925,SAAB,9_3,Linear Conv 2D,Convertible,4,2,2,1,0,1\\r\\n31970.5420754806,21208,SAAB,9_3,Linear Conv 2D,Convertible,4,2,2,1,1,0\\r\\n33287.4095986934,21661,SAAB,9_3,Linear Conv 2D,Convertible,4,2,2,1,0,1\\r\\n32075.9848736352,23553,SAAB,9_3,Linear Conv 2D,Convertible,4,2,2,1,1,0\\r\\n31969.069811509,24559,SAAB,9_3,Linear Conv 2D,Convertible,4,2,2,1,0,0\\r\\n27666.2310781907,35157,SAAB,9_3,Linear Conv 2D,Convertible,4,2,2,1,0,0\\r\\n29246.2373350634,3907,SAAB,9_3,Linear Sedan 4D,Sedan,4,2,4,1,0,1\\r\\n26337.8305976223,16068,SAAB,9_3,Linear Sedan 4D,Sedan,4,2,4,1,0,0\\r\\n26775.0320894973,16688,SAAB,9_3,Linear Sedan 4D,Sedan,4,2,4,1,0,0\\r\\n25299.969638711,19569,SAAB,9_3,Linear Sedan 4D,Sedan,4,2,4,1,1,0\\r\\n24896.5976042019,21266,SAAB,9_3,Linear Sedan 4D,Sedan,4,2,4,1,1,0\\r\\n25996.806401851,21433,SAAB,9_3,Linear Sedan 4D,Sedan,4,2,4,1,1,1\\r\\n24801.6171939494,26345,SAAB,9_3,Linear Sedan 4D,Sedan,4,2,4,1,1,1\\r\\n24063.0126849204,27674,SAAB,9_3,Linear Sedan 4D,Sedan,4,2,4,1,1,1\\r\\n23249.8416851407,27686,SAAB,9_3,Linear Sedan 4D,Sedan,4,2,4,1,0,0\\r\\n22244.8765534137,50387,SAAB,9_3,Linear Sedan 4D,Sedan,4,2,4,1,0,1\\r\\n37088.562413099,3828,SAAB,9_3 HO,Aero Conv 2D,Convertible,4,2,2,1,1,1\\r\\n33381.8191525413,17381,SAAB,9_3 HO,Aero Conv 2D,Convertible,4,2,2,1,1,1\\r\\n33358.7677713756,17590,SAAB,9_3 HO,Aero Conv 2D,Convertible,4,2,2,1,1,1\\r\\n33586.9060920356,18930,SAAB,9_3 HO,Aero Conv 2D,Convertible,4,2,2,1,0,1\\r\\n30731.9416547887,22479,SAAB,9_3 HO,Aero Conv 2D,Convertible,4,2,2,1,0,0\\r\\n30315.1694419785,23635,SAAB,9_3 HO,Aero Conv 2D,Convertible,4,2,2,1,0,0\\r\\n30166.852511997,25049,SAAB,9_3 HO,Aero Conv 2D,Convertible,4,2,2,1,0,0\\r\\n30251.0184173684,27558,SAAB,9_3 HO,Aero Conv 2D,Convertible,4,2,2,1,0,1\\r\\n29142.7143855708,31655,SAAB,9_3 HO,Aero Conv 2D,Convertible,4,2,2,1,1,1\\r\\n29612.1540481573,32477,SAAB,9_3 HO,Aero Conv 2D,Convertible,4,2,2,1,1,1\\r\\n26841.0808354523,10003,SAAB,9_3 HO,Aero Sedan 4D,Sedan,4,2,4,1,1,0\\r\\n27825.9499732257,10014,SAAB,9_3 HO,Aero Sedan 4D,Sedan,4,2,4,1,0,1\\r\\n27284.751328203,14281,SAAB,9_3 HO,Aero Sedan 4D,Sedan,4,2,4,1,1,1\\r\\n27060.137560009,17319,SAAB,9_3 HO,Aero Sedan 4D,Sedan,4,2,4,1,0,1\\r\\n25618.2818848029,20208,SAAB,9_3 HO,Aero Sedan 4D,Sedan,4,2,4,1,0,1\\r\\n25790.5141407446,21160,SAAB,9_3 HO,Aero Sedan 4D,Sedan,4,2,4,1,1,1\\r\\n25148.3791861197,22272,SAAB,9_3 HO,Aero Sedan 4D,Sedan,4,2,4,1,1,1\\r\\n24852.4952806831,22814,SAAB,9_3 HO,Aero Sedan 4D,Sedan,4,2,4,1,1,1\\r\\n24173.5258825285,27015,SAAB,9_3 HO,Aero Sedan 4D,Sedan,4,2,4,1,0,0\\r\\n23733.4022491112,27600,SAAB,9_3 HO,Aero Sedan 4D,Sedan,4,2,4,1,1,0\\r\\n38324.8090766826,12090,SAAB,9_3 HO,Arc Conv 2D,Convertible,4,2,2,1,1,1\\r\\n38167.1735772411,13162,SAAB,9_3 HO,Arc Conv 2D,Convertible,4,2,2,1,0,1\\r\\n37383.5034933742,16088,SAAB,9_3 HO,Arc Conv 2D,Convertible,4,2,2,1,0,1\\r\\n36338.7513277082,18195,SAAB,9_3 HO,Arc Conv 2D,Convertible,4,2,2,1,1,0\\r\\n35580.3323139701,21167,SAAB,9_3 HO,Arc Conv 2D,Convertible,4,2,2,1,1,0\\r\\n35304.4947015331,21293,SAAB,9_3 HO,Arc Conv 2D,Convertible,4,2,2,1,0,1\\r\\n34392.9952720589,24031,SAAB,9_3 HO,Arc Conv 2D,Convertible,4,2,2,1,0,1\\r\\n33984.4307696561,25420,SAAB,9_3 HO,Arc Conv 2D,Convertible,4,2,2,1,0,0\\r\\n33248.3425242806,27051,SAAB,9_3 HO,Arc Conv 2D,Convertible,4,2,2,1,0,1\\r\\n28777.9596947893,48991,SAAB,9_3 HO,Arc Conv 2D,Convertible,4,2,2,1,1,1\\r\\n32197.3404660841,3867,SAAB,9_3 HO,Arc Sedan 4D,Sedan,4,2,4,1,1,0\\r\\n32053.0971610174,5144,SAAB,9_3 HO,Arc Sedan 4D,Sedan,4,2,4,1,1,0\\r\\n30274.7105751829,10800,SAAB,9_3 HO,Arc Sedan 4D,Sedan,4,2,4,1,1,0\\r\\n30353.5855538317,11273,SAAB,9_3 HO,Arc Sedan 4D,Sedan,4,2,4,1,1,0\\r\\n30122.429735214,14568,SAAB,9_3 HO,Arc Sedan 4D,Sedan,4,2,4,1,1,1\\r\\n26789.832608196,22189,SAAB,9_3 HO,Arc Sedan 4D,Sedan,4,2,4,1,0,0\\r\\n28291.7622611159,22328,SAAB,9_3 HO,Arc Sedan 4D,Sedan,4,2,4,1,1,0\\r\\n27109.4058898042,22598,SAAB,9_3 HO,Arc Sedan 4D,Sedan,4,2,4,1,0,1\\r\\n27256.4945123153,26400,SAAB,9_3 HO,Arc Sedan 4D,Sedan,4,2,4,1,1,0\\r\\n25267.3676760421,34175,SAAB,9_3 HO,Arc Sedan 4D,Sedan,4,2,4,1,1,0\\r\\n35033.2154538148,1676,SAAB,9_5,Arc Sedan 4D,Sedan,4,2.3,4,1,1,1\\r\\n32746.131386501,7924,SAAB,9_5,Arc Sedan 4D,Sedan,4,2.3,4,1,0,1\\r\\n33183.3325964779,9795,SAAB,9_5,Arc Sedan 4D,Sedan,4,2.3,4,1,1,1\\r\\n31002.7344199819,15087,SAAB,9_5,Arc Sedan 4D,Sedan,4,2.3,4,1,1,1\\r\\n30075.9947261703,22052,SAAB,9_5,Arc Sedan 4D,Sedan,4,2.3,4,1,1,1\\r\\n29844.2040036547,23143,SAAB,9_5,Arc Sedan 4D,Sedan,4,2.3,4,1,1,1\\r\\n28432.8242125322,25247,SAAB,9_5,Arc Sedan 4D,Sedan,4,2.3,4,1,1,1\\r\\n28054.9823619217,26276,SAAB,9_5,Arc Sedan 4D,Sedan,4,2.3,4,1,1,1\\r\\n28502.9624060894,28598,SAAB,9_5,Arc Sedan 4D,Sedan,4,2.3,4,1,1,1\\r\\n24912.0805808885,38717,SAAB,9_5,Arc Sedan 4D,Sedan,4,2.3,4,1,0,1\\r\\n31849.3079471873,16956,SAAB,9_5,Arc Wagon 4D,Wagon,4,2.3,4,1,0,1\\r\\n32649.7605085374,16975,SAAB,9_5,Arc Wagon 4D,Wagon,4,2.3,4,1,1,1\\r\\n29961.2549386998,20015,SAAB,9_5,Arc Wagon 4D,Wagon,4,2.3,4,1,1,1\\r\\n31554.4053348239,20103,SAAB,9_5,Arc Wagon 4D,Wagon,4,2.3,4,1,1,1\\r\\n29914.379575498,22105,SAAB,9_5,Arc Wagon 4D,Wagon,4,2.3,4,1,0,1\\r\\n30575.2488205866,22298,SAAB,9_5,Arc Wagon 4D,Wagon,4,2.3,4,1,1,1\\r\\n30271.922299699,23426,SAAB,9_5,Arc Wagon 4D,Wagon,4,2.3,4,1,1,1\\r\\n28678.0752511886,25380,SAAB,9_5,Arc Wagon 4D,Wagon,4,2.3,4,1,0,1\\r\\n28829.0280029948,26503,SAAB,9_5,Arc Wagon 4D,Wagon,4,2.3,4,1,0,1\\r\\n26955.0412017564,31773,SAAB,9_5,Arc Wagon 4D,Wagon,4,2.3,4,1,0,1\\r\\n33005.7799579319,6409,SAAB,9_5,Linear Wagon 4D,Wagon,4,2.3,4,1,1,1\\r\\n30661.2601503736,14278,SAAB,9_5,Linear Wagon 4D,Wagon,4,2.3,4,1,0,1\\r\\n30443.8799002255,15050,SAAB,9_5,Linear Wagon 4D,Wagon,4,2.3,4,1,0,1\\r\\n30322.1505714047,16225,SAAB,9_5,Linear Wagon 4D,Wagon,4,2.3,4,1,1,1\\r\\n31153.0089597376,17317,SAAB,9_5,Linear Wagon 4D,Wagon,4,2.3,4,1,0,1\\r\\n31084.9376070888,18187,SAAB,9_5,Linear Wagon 4D,Wagon,4,2.3,4,1,1,1\\r\\n31156.5957889098,18805,SAAB,9_5,Linear Wagon 4D,Wagon,4,2.3,4,1,1,1\\r\\n29114.5445056312,21960,SAAB,9_5,Linear Wagon 4D,Wagon,4,2.3,4,1,0,1\\r\\n25845.2061145658,36557,SAAB,9_5,Linear Wagon 4D,Wagon,4,2.3,4,1,1,1\\r\\n24903.477738825,40719,SAAB,9_5,Linear Wagon 4D,Wagon,4,2.3,4,1,1,1\\r\\n30800.6583893057,8017,SAAB,9_5 HO,Aero Sedan 4D,Sedan,4,2.3,4,1,0,1\\r\\n28416.4616732055,14613,SAAB,9_5 HO,Aero Sedan 4D,Sedan,4,2.3,4,1,0,1\\r\\n28185.7762498458,19854,SAAB,9_5 HO,Aero Sedan 4D,Sedan,4,2.3,4,1,1,1\\r\\n28204.6035781033,22021,SAAB,9_5 HO,Aero Sedan 4D,Sedan,4,2.3,4,1,1,1\\r\\n26653.2393904185,22590,SAAB,9_5 HO,Aero Sedan 4D,Sedan,4,2.3,4,1,1,1\\r\\n27610.8642029298,22881,SAAB,9_5 HO,Aero Sedan 4D,Sedan,4,2.3,4,1,1,1\\r\\n26698.0781510501,23055,SAAB,9_5 HO,Aero Sedan 4D,Sedan,4,2.3,4,1,1,1\\r\\n27241.4361779618,23204,SAAB,9_5 HO,Aero Sedan 4D,Sedan,4,2.3,4,1,1,1\\r\\n27703.2039950794,24738,SAAB,9_5 HO,Aero Sedan 4D,Sedan,4,2.3,4,1,1,1\\r\\n24405.0667596825,31344,SAAB,9_5 HO,Aero Sedan 4D,Sedan,4,2.3,4,1,1,1\\r\\n30959.9321330918,17673,SAAB,9_5 HO,Aero Wagon 4D,Wagon,4,2.3,4,1,1,1\\r\\n29986.791500601,18464,SAAB,9_5 HO,Aero Wagon 4D,Wagon,4,2.3,4,1,0,1\\r\\n29908.1809813928,19830,SAAB,9_5 HO,Aero Wagon 4D,Wagon,4,2.3,4,1,1,1\\r\\n28328.2665376555,20685,SAAB,9_5 HO,Aero Wagon 4D,Wagon,4,2.3,4,1,0,1\\r\\n29197.7913004797,20907,SAAB,9_5 HO,Aero Wagon 4D,Wagon,4,2.3,4,1,0,1\\r\\n29321.0825061895,21545,SAAB,9_5 HO,Aero Wagon 4D,Wagon,4,2.3,4,1,0,1\\r\\n29481.5287571194,21822,SAAB,9_5 HO,Aero Wagon 4D,Wagon,4,2.3,4,1,1,1\\r\\n26792.3001565973,25357,SAAB,9_5 HO,Aero Wagon 4D,Wagon,4,2.3,4,1,0,1\\r\\n27788.813238576,26786,SAAB,9_5 HO,Aero Wagon 4D,Wagon,4,2.3,4,1,0,1\\r\\n26012.3746248271,34269,SAAB,9_5 HO,Aero Wagon 4D,Wagon,4,2.3,4,1,1,1\\r\\n27280.9820608802,4836,SAAB,9-2X AWD,Linear Wagon 4D,Wagon,4,2.5,4,1,1,0\\r\\n25959.1220303746,17431,SAAB,9-2X AWD,Linear Wagon 4D,Wagon,4,2.5,4,1,0,1\\r\\n23274.480711416,21616,SAAB,9-2X AWD,Linear Wagon 4D,Wagon,4,2.5,4,1,1,0\\r\\n23329.208255601,25218,SAAB,9-2X AWD,Linear Wagon 4D,Wagon,4,2.5,4,1,0,1\\r\\n16916.8695354706,2879,Saturn,Ion,Quad Coupe 2D,Coupe,4,2.2,2,1,0,1\\r\\n15639.0367430971,8507,Saturn,Ion,Quad Coupe 2D,Coupe,4,2.2,2,1,0,0\\r\\n16256.2361676087,10555,Saturn,Ion,Quad Coupe 2D,Coupe,4,2.2,2,0,0,1\\r\\n15395.0108741514,12920,Saturn,Ion,Quad Coupe 2D,Coupe,4,2.2,2,1,0,0\\r\\n14881.9554459679,14376,Saturn,Ion,Quad Coupe 2D,Coupe,4,2.2,2,0,0,0\\r\\n15277.0675875084,16951,Saturn,Ion,Quad Coupe 2D,Coupe,4,2.2,2,0,1,0\\r\\n14702.7983198284,17656,Saturn,Ion,Quad Coupe 2D,Coupe,4,2.2,2,1,1,0\\r\\n15033.1503166648,19455,Saturn,Ion,Quad Coupe 2D,Coupe,4,2.2,2,0,0,1\\r\\n13991.0400570749,21020,Saturn,Ion,Quad Coupe 2D,Coupe,4,2.2,2,0,1,0\\r\\n14771.0034643864,22255,Saturn,Ion,Quad Coupe 2D,Coupe,4,2.2,2,1,0,1\\r\\n13719.2383075599,23645,Saturn,Ion,Quad Coupe 2D,Coupe,4,2.2,2,0,0,0\\r\\n13869.1549422775,24349,Saturn,Ion,Quad Coupe 2D,Coupe,4,2.2,2,1,1,0\\r\\n13518.2352516194,25981,Saturn,Ion,Quad Coupe 2D,Coupe,4,2.2,2,1,1,0\\r\\n13825.1547111473,26034,Saturn,Ion,Quad Coupe 2D,Coupe,4,2.2,2,0,0,1\\r\\n13811.155022285,26236,Saturn,Ion,Quad Coupe 2D,Coupe,4,2.2,2,0,1,1\\r\\n14077.9688527613,26788,Saturn,Ion,Quad Coupe 2D,Coupe,4,2.2,2,0,0,1\\r\\n14411.8588505463,26986,Saturn,Ion,Quad Coupe 2D,Coupe,4,2.2,2,1,0,1\\r\\n13600.0341846013,27231,Saturn,Ion,Quad Coupe 2D,Coupe,4,2.2,2,0,1,0\\r\\n13032.8681007578,30108,Saturn,Ion,Quad Coupe 2D,Coupe,4,2.2,2,1,1,1\\r\\n11539.0485332856,38958,Saturn,Ion,Quad Coupe 2D,Coupe,4,2.2,2,0,0,0\\r\\n14739.067235877,1737,Saturn,Ion,Sedan 4D,Sedan,4,2.2,4,0,0,1\\r\\n15110.1925982804,2392,Saturn,Ion,Sedan 4D,Sedan,4,2.2,4,1,1,0\\r\\n14202.9971532289,11836,Saturn,Ion,Sedan 4D,Sedan,4,2.2,4,0,0,0\\r\\n15194.975354069,12412,Saturn,Ion,Sedan 4D,Sedan,4,2.2,4,0,0,1\\r\\n14116.9215085253,12878,Saturn,Ion,Sedan 4D,Sedan,4,2.2,4,1,0,0\\r\\n13174.0710094846,13318,Saturn,Ion,Sedan 4D,Sedan,4,2.2,4,0,0,1\\r\\n13258.3658889343,14938,Saturn,Ion,Sedan 4D,Sedan,4,2.2,4,1,1,1\\r\\n12791.7510887301,16163,Saturn,Ion,Sedan 4D,Sedan,4,2.2,4,0,0,1\\r\\n12293.0599622863,17139,Saturn,Ion,Sedan 4D,Sedan,4,2.2,4,1,0,1\\r\\n13998.1292757712,18257,Saturn,Ion,Sedan 4D,Sedan,4,2.2,4,0,1,1\\r\\n14568.0022546017,18511,Saturn,Ion,Sedan 4D,Sedan,4,2.2,4,0,1,1\\r\\n13122.9054570779,19101,Saturn,Ion,Sedan 4D,Sedan,4,2.2,4,0,1,1\\r\\n13494.2887833531,19500,Saturn,Ion,Sedan 4D,Sedan,4,2.2,4,1,0,1\\r\\n12036.2167505887,19853,Saturn,Ion,Sedan 4D,Sedan,4,2.2,4,0,1,1\\r\\n12162.1400468633,21770,Saturn,Ion,Sedan 4D,Sedan,4,2.2,4,0,1,0\\r\\n12333.6039930145,21877,Saturn,Ion,Sedan 4D,Sedan,4,2.2,4,0,0,0\\r\\n12099.0145778515,22758,Saturn,Ion,Sedan 4D,Sedan,4,2.2,4,1,1,0\\r\\n12119.0897017756,22826,Saturn,Ion,Sedan 4D,Sedan,4,2.2,4,0,0,1\\r\\n11679.9235460711,23388,Saturn,Ion,Sedan 4D,Sedan,4,2.2,4,0,0,0\\r\\n13216.9120481989,24069,Saturn,Ion,Sedan 4D,Sedan,4,2.2,4,0,1,0\\r\\n12412.5211068682,24664,Saturn,Ion,Sedan 4D,Sedan,4,2.2,4,0,1,1\\r\\n12284.2882901235,24740,Saturn,Ion,Sedan 4D,Sedan,4,2.2,4,1,1,0\\r\\n12594.1830134677,26328,Saturn,Ion,Sedan 4D,Sedan,4,2.2,4,0,0,1\\r\\n12105.9813355048,28298,Saturn,Ion,Sedan 4D,Sedan,4,2.2,4,0,1,0\\r\\n11873.5339947913,28398,Saturn,Ion,Sedan 4D,Sedan,4,2.2,4,0,0,0\\r\\n12965.2232694815,29707,Saturn,Ion,Sedan 4D,Sedan,4,2.2,4,0,1,1\\r\\n10563.0661617198,32458,Saturn,Ion,Sedan 4D,Sedan,4,2.2,4,0,0,0\\r\\n11413.5304025367,32619,Saturn,Ion,Sedan 4D,Sedan,4,2.2,4,1,0,1\\r\\n11504.8245497219,33962,Saturn,Ion,Sedan 4D,Sedan,4,2.2,4,0,0,0\\r\\n11521.5258881414,34998,Saturn,Ion,Sedan 4D,Sedan,4,2.2,4,0,1,1\\r\\n18173.9780839538,5826,Saturn,L Series,L300 Sedan 4D,Sedan,6,3,4,1,1,1\\r\\n18490.9830288735,7755,Saturn,L Series,L300 Sedan 4D,Sedan,6,3,4,1,1,1\\r\\n17322.0784042883,10102,Saturn,L Series,L300 Sedan 4D,Sedan,6,3,4,1,0,1\\r\\n17978.3569977795,10986,Saturn,L Series,L300 Sedan 4D,Sedan,6,3,4,1,0,0\\r\\n16425.1747960186,14242,Saturn,L Series,L300 Sedan 4D,Sedan,6,3,4,1,0,0\\r\\n16507.0702674881,16229,Saturn,L Series,L300 Sedan 4D,Sedan,6,3,4,1,0,0\\r\\n16175.9576042089,19095,Saturn,L Series,L300 Sedan 4D,Sedan,6,3,4,1,1,0\\r\\n15731.1328968546,20484,Saturn,L Series,L300 Sedan 4D,Sedan,6,3,4,1,1,0\\r\\n15118.8932283401,25979,Saturn,L Series,L300 Sedan 4D,Sedan,6,3,4,1,1,0\\r\\n13585.6368021731,35662,Saturn,L Series,L300 Sedan 4D,Sedan,6,3,4,1,0,0'}"
            ]
          },
          "metadata": {},
          "execution_count": 1
        }
      ],
      "source": [
        "from google.colab import files\n",
        "files.upload()"
      ]
    },
    {
      "cell_type": "code",
      "execution_count": 271,
      "metadata": {
        "id": "xKI9DXo-_Q2D"
      },
      "outputs": [],
      "source": [
        "df = pd.read_csv(\"car_data.csv\")"
      ]
    },
    {
      "cell_type": "markdown",
      "metadata": {
        "id": "Oe1d7cE7CYPU"
      },
      "source": [
        "### **PART 1**\n"
      ]
    },
    {
      "cell_type": "code",
      "execution_count": 195,
      "metadata": {
        "colab": {
          "base_uri": "https://localhost:8080/",
          "height": 300
        },
        "id": "0ItyX51XCUJz",
        "outputId": "1aaa38c2-387e-4adb-da2b-75e172e885d2"
      },
      "outputs": [
        {
          "output_type": "execute_result",
          "data": {
            "text/plain": [
              "              Price       Mileage    Cylinder       Liter       Doors  \\\n",
              "count    804.000000    804.000000  804.000000  804.000000  804.000000   \n",
              "mean   21343.143767  19831.934080    5.268657    3.037313    3.527363   \n",
              "std     9884.852801   8196.319707    1.387531    1.105562    0.850169   \n",
              "min     8638.930895    266.000000    4.000000    1.600000    2.000000   \n",
              "25%    14273.073870  14623.500000    4.000000    2.200000    4.000000   \n",
              "50%    18024.995019  20913.500000    6.000000    2.800000    4.000000   \n",
              "75%    26717.316636  25213.000000    6.000000    3.800000    4.000000   \n",
              "max    70755.466717  50387.000000    8.000000    6.000000    4.000000   \n",
              "\n",
              "           Cruise       Sound     Leather  \n",
              "count  804.000000  804.000000  804.000000  \n",
              "mean     0.752488    0.679104    0.723881  \n",
              "std      0.431836    0.467111    0.447355  \n",
              "min      0.000000    0.000000    0.000000  \n",
              "25%      1.000000    0.000000    0.000000  \n",
              "50%      1.000000    1.000000    1.000000  \n",
              "75%      1.000000    1.000000    1.000000  \n",
              "max      1.000000    1.000000    1.000000  "
            ],
            "text/html": [
              "\n",
              "  <div id=\"df-977a7de4-46ac-4b64-a1df-2327b33db82d\">\n",
              "    <div class=\"colab-df-container\">\n",
              "      <div>\n",
              "<style scoped>\n",
              "    .dataframe tbody tr th:only-of-type {\n",
              "        vertical-align: middle;\n",
              "    }\n",
              "\n",
              "    .dataframe tbody tr th {\n",
              "        vertical-align: top;\n",
              "    }\n",
              "\n",
              "    .dataframe thead th {\n",
              "        text-align: right;\n",
              "    }\n",
              "</style>\n",
              "<table border=\"1\" class=\"dataframe\">\n",
              "  <thead>\n",
              "    <tr style=\"text-align: right;\">\n",
              "      <th></th>\n",
              "      <th>Price</th>\n",
              "      <th>Mileage</th>\n",
              "      <th>Cylinder</th>\n",
              "      <th>Liter</th>\n",
              "      <th>Doors</th>\n",
              "      <th>Cruise</th>\n",
              "      <th>Sound</th>\n",
              "      <th>Leather</th>\n",
              "    </tr>\n",
              "  </thead>\n",
              "  <tbody>\n",
              "    <tr>\n",
              "      <th>count</th>\n",
              "      <td>804.000000</td>\n",
              "      <td>804.000000</td>\n",
              "      <td>804.000000</td>\n",
              "      <td>804.000000</td>\n",
              "      <td>804.000000</td>\n",
              "      <td>804.000000</td>\n",
              "      <td>804.000000</td>\n",
              "      <td>804.000000</td>\n",
              "    </tr>\n",
              "    <tr>\n",
              "      <th>mean</th>\n",
              "      <td>21343.143767</td>\n",
              "      <td>19831.934080</td>\n",
              "      <td>5.268657</td>\n",
              "      <td>3.037313</td>\n",
              "      <td>3.527363</td>\n",
              "      <td>0.752488</td>\n",
              "      <td>0.679104</td>\n",
              "      <td>0.723881</td>\n",
              "    </tr>\n",
              "    <tr>\n",
              "      <th>std</th>\n",
              "      <td>9884.852801</td>\n",
              "      <td>8196.319707</td>\n",
              "      <td>1.387531</td>\n",
              "      <td>1.105562</td>\n",
              "      <td>0.850169</td>\n",
              "      <td>0.431836</td>\n",
              "      <td>0.467111</td>\n",
              "      <td>0.447355</td>\n",
              "    </tr>\n",
              "    <tr>\n",
              "      <th>min</th>\n",
              "      <td>8638.930895</td>\n",
              "      <td>266.000000</td>\n",
              "      <td>4.000000</td>\n",
              "      <td>1.600000</td>\n",
              "      <td>2.000000</td>\n",
              "      <td>0.000000</td>\n",
              "      <td>0.000000</td>\n",
              "      <td>0.000000</td>\n",
              "    </tr>\n",
              "    <tr>\n",
              "      <th>25%</th>\n",
              "      <td>14273.073870</td>\n",
              "      <td>14623.500000</td>\n",
              "      <td>4.000000</td>\n",
              "      <td>2.200000</td>\n",
              "      <td>4.000000</td>\n",
              "      <td>1.000000</td>\n",
              "      <td>0.000000</td>\n",
              "      <td>0.000000</td>\n",
              "    </tr>\n",
              "    <tr>\n",
              "      <th>50%</th>\n",
              "      <td>18024.995019</td>\n",
              "      <td>20913.500000</td>\n",
              "      <td>6.000000</td>\n",
              "      <td>2.800000</td>\n",
              "      <td>4.000000</td>\n",
              "      <td>1.000000</td>\n",
              "      <td>1.000000</td>\n",
              "      <td>1.000000</td>\n",
              "    </tr>\n",
              "    <tr>\n",
              "      <th>75%</th>\n",
              "      <td>26717.316636</td>\n",
              "      <td>25213.000000</td>\n",
              "      <td>6.000000</td>\n",
              "      <td>3.800000</td>\n",
              "      <td>4.000000</td>\n",
              "      <td>1.000000</td>\n",
              "      <td>1.000000</td>\n",
              "      <td>1.000000</td>\n",
              "    </tr>\n",
              "    <tr>\n",
              "      <th>max</th>\n",
              "      <td>70755.466717</td>\n",
              "      <td>50387.000000</td>\n",
              "      <td>8.000000</td>\n",
              "      <td>6.000000</td>\n",
              "      <td>4.000000</td>\n",
              "      <td>1.000000</td>\n",
              "      <td>1.000000</td>\n",
              "      <td>1.000000</td>\n",
              "    </tr>\n",
              "  </tbody>\n",
              "</table>\n",
              "</div>\n",
              "      <button class=\"colab-df-convert\" onclick=\"convertToInteractive('df-977a7de4-46ac-4b64-a1df-2327b33db82d')\"\n",
              "              title=\"Convert this dataframe to an interactive table.\"\n",
              "              style=\"display:none;\">\n",
              "        \n",
              "  <svg xmlns=\"http://www.w3.org/2000/svg\" height=\"24px\"viewBox=\"0 0 24 24\"\n",
              "       width=\"24px\">\n",
              "    <path d=\"M0 0h24v24H0V0z\" fill=\"none\"/>\n",
              "    <path d=\"M18.56 5.44l.94 2.06.94-2.06 2.06-.94-2.06-.94-.94-2.06-.94 2.06-2.06.94zm-11 1L8.5 8.5l.94-2.06 2.06-.94-2.06-.94L8.5 2.5l-.94 2.06-2.06.94zm10 10l.94 2.06.94-2.06 2.06-.94-2.06-.94-.94-2.06-.94 2.06-2.06.94z\"/><path d=\"M17.41 7.96l-1.37-1.37c-.4-.4-.92-.59-1.43-.59-.52 0-1.04.2-1.43.59L10.3 9.45l-7.72 7.72c-.78.78-.78 2.05 0 2.83L4 21.41c.39.39.9.59 1.41.59.51 0 1.02-.2 1.41-.59l7.78-7.78 2.81-2.81c.8-.78.8-2.07 0-2.86zM5.41 20L4 18.59l7.72-7.72 1.47 1.35L5.41 20z\"/>\n",
              "  </svg>\n",
              "      </button>\n",
              "      \n",
              "  <style>\n",
              "    .colab-df-container {\n",
              "      display:flex;\n",
              "      flex-wrap:wrap;\n",
              "      gap: 12px;\n",
              "    }\n",
              "\n",
              "    .colab-df-convert {\n",
              "      background-color: #E8F0FE;\n",
              "      border: none;\n",
              "      border-radius: 50%;\n",
              "      cursor: pointer;\n",
              "      display: none;\n",
              "      fill: #1967D2;\n",
              "      height: 32px;\n",
              "      padding: 0 0 0 0;\n",
              "      width: 32px;\n",
              "    }\n",
              "\n",
              "    .colab-df-convert:hover {\n",
              "      background-color: #E2EBFA;\n",
              "      box-shadow: 0px 1px 2px rgba(60, 64, 67, 0.3), 0px 1px 3px 1px rgba(60, 64, 67, 0.15);\n",
              "      fill: #174EA6;\n",
              "    }\n",
              "\n",
              "    [theme=dark] .colab-df-convert {\n",
              "      background-color: #3B4455;\n",
              "      fill: #D2E3FC;\n",
              "    }\n",
              "\n",
              "    [theme=dark] .colab-df-convert:hover {\n",
              "      background-color: #434B5C;\n",
              "      box-shadow: 0px 1px 3px 1px rgba(0, 0, 0, 0.15);\n",
              "      filter: drop-shadow(0px 1px 2px rgba(0, 0, 0, 0.3));\n",
              "      fill: #FFFFFF;\n",
              "    }\n",
              "  </style>\n",
              "\n",
              "      <script>\n",
              "        const buttonEl =\n",
              "          document.querySelector('#df-977a7de4-46ac-4b64-a1df-2327b33db82d button.colab-df-convert');\n",
              "        buttonEl.style.display =\n",
              "          google.colab.kernel.accessAllowed ? 'block' : 'none';\n",
              "\n",
              "        async function convertToInteractive(key) {\n",
              "          const element = document.querySelector('#df-977a7de4-46ac-4b64-a1df-2327b33db82d');\n",
              "          const dataTable =\n",
              "            await google.colab.kernel.invokeFunction('convertToInteractive',\n",
              "                                                     [key], {});\n",
              "          if (!dataTable) return;\n",
              "\n",
              "          const docLinkHtml = 'Like what you see? Visit the ' +\n",
              "            '<a target=\"_blank\" href=https://colab.research.google.com/notebooks/data_table.ipynb>data table notebook</a>'\n",
              "            + ' to learn more about interactive tables.';\n",
              "          element.innerHTML = '';\n",
              "          dataTable['output_type'] = 'display_data';\n",
              "          await google.colab.output.renderOutput(dataTable, element);\n",
              "          const docLink = document.createElement('div');\n",
              "          docLink.innerHTML = docLinkHtml;\n",
              "          element.appendChild(docLink);\n",
              "        }\n",
              "      </script>\n",
              "    </div>\n",
              "  </div>\n",
              "  "
            ]
          },
          "metadata": {},
          "execution_count": 195
        }
      ],
      "source": [
        "df.describe()"
      ]
    },
    {
      "cell_type": "code",
      "execution_count": 196,
      "metadata": {
        "colab": {
          "base_uri": "https://localhost:8080/"
        },
        "id": "tul8hS1UC1ZO",
        "outputId": "e245a167-df88-477c-89e0-5146280d6c7a"
      },
      "outputs": [
        {
          "output_type": "execute_result",
          "data": {
            "text/plain": [
              "Price       float64\n",
              "Mileage       int64\n",
              "Make         object\n",
              "Model        object\n",
              "Trim         object\n",
              "Type         object\n",
              "Cylinder      int64\n",
              "Liter       float64\n",
              "Doors         int64\n",
              "Cruise        int64\n",
              "Sound         int64\n",
              "Leather       int64\n",
              "dtype: object"
            ]
          },
          "metadata": {},
          "execution_count": 196
        }
      ],
      "source": [
        "df.dtypes"
      ]
    },
    {
      "cell_type": "code",
      "execution_count": null,
      "metadata": {
        "colab": {
          "base_uri": "https://localhost:8080/"
        },
        "id": "LR0rfqXTC1YE",
        "outputId": "66b212a8-ec1f-4679-f47c-ec5ddc8ccf4c"
      },
      "outputs": [
        {
          "data": {
            "text/plain": [
              "Price       0\n",
              "Mileage     0\n",
              "Make        0\n",
              "Model       0\n",
              "Trim        0\n",
              "Type        0\n",
              "Cylinder    0\n",
              "Liter       0\n",
              "Doors       0\n",
              "Cruise      0\n",
              "Sound       0\n",
              "Leather     0\n",
              "dtype: int64"
            ]
          },
          "execution_count": 12,
          "metadata": {},
          "output_type": "execute_result"
        }
      ],
      "source": [
        "df.isnull().sum()"
      ]
    },
    {
      "cell_type": "markdown",
      "metadata": {
        "id": "p7A_t-JuDflB"
      },
      "source": [
        "There is no null values.No need of encoding"
      ]
    },
    {
      "cell_type": "code",
      "execution_count": null,
      "metadata": {
        "id": "rKROEx3XDrG0"
      },
      "outputs": [],
      "source": [
        "#linear equation for mileage vs price"
      ]
    },
    {
      "cell_type": "markdown",
      "metadata": {
        "id": "X-7kC64EDfjz"
      },
      "source": [
        "## **EDA**"
      ]
    },
    {
      "cell_type": "code",
      "execution_count": 197,
      "metadata": {
        "colab": {
          "base_uri": "https://localhost:8080/",
          "height": 312
        },
        "id": "dMTW6NNsDetk",
        "outputId": "30ad943d-a3ea-4a36-ee1e-8d23a7d59fbd"
      },
      "outputs": [
        {
          "output_type": "execute_result",
          "data": {
            "text/plain": [
              "<function matplotlib.pyplot.show>"
            ]
          },
          "metadata": {},
          "execution_count": 197
        },
        {
          "output_type": "display_data",
          "data": {
            "text/plain": [
              "<Figure size 432x288 with 1 Axes>"
            ],
            "image/png": "[encoded data removed]"
          },
          "metadata": {
            "needs_background": "light"
          }
        }
      ],
      "source": [
        "x=df['Mileage']\n",
        "y=df['Price']\n",
        "plt.scatter(x,y)\n",
        "plt.xlabel('mileage')\n",
        "plt.ylabel('price')\n",
        "plt.title('Mileage vs Price')\n",
        "plt.show"
      ]
    },
    {
      "cell_type": "code",
      "execution_count": 198,
      "metadata": {
        "colab": {
          "base_uri": "https://localhost:8080/",
          "height": 112
        },
        "id": "20l-cpXrEc41",
        "outputId": "b6e9850b-ed16-47e7-a59d-40da376471e7"
      },
      "outputs": [
        {
          "output_type": "execute_result",
          "data": {
            "text/plain": [
              "          Mileage     Price\n",
              "Mileage  1.000000 -0.143051\n",
              "Price   -0.143051  1.000000"
            ],
            "text/html": [
              "\n",
              "  <div id=\"df-26a57380-b886-4594-9b52-f04ea5b3fc1c\">\n",
              "    <div class=\"colab-df-container\">\n",
              "      <div>\n",
              "<style scoped>\n",
              "    .dataframe tbody tr th:only-of-type {\n",
              "        vertical-align: middle;\n",
              "    }\n",
              "\n",
              "    .dataframe tbody tr th {\n",
              "        vertical-align: top;\n",
              "    }\n",
              "\n",
              "    .dataframe thead th {\n",
              "        text-align: right;\n",
              "    }\n",
              "</style>\n",
              "<table border=\"1\" class=\"dataframe\">\n",
              "  <thead>\n",
              "    <tr style=\"text-align: right;\">\n",
              "      <th></th>\n",
              "      <th>Mileage</th>\n",
              "      <th>Price</th>\n",
              "    </tr>\n",
              "  </thead>\n",
              "  <tbody>\n",
              "    <tr>\n",
              "      <th>Mileage</th>\n",
              "      <td>1.000000</td>\n",
              "      <td>-0.143051</td>\n",
              "    </tr>\n",
              "    <tr>\n",
              "      <th>Price</th>\n",
              "      <td>-0.143051</td>\n",
              "      <td>1.000000</td>\n",
              "    </tr>\n",
              "  </tbody>\n",
              "</table>\n",
              "</div>\n",
              "      <button class=\"colab-df-convert\" onclick=\"convertToInteractive('df-26a57380-b886-4594-9b52-f04ea5b3fc1c')\"\n",
              "              title=\"Convert this dataframe to an interactive table.\"\n",
              "              style=\"display:none;\">\n",
              "        \n",
              "  <svg xmlns=\"http://www.w3.org/2000/svg\" height=\"24px\"viewBox=\"0 0 24 24\"\n",
              "       width=\"24px\">\n",
              "    <path d=\"M0 0h24v24H0V0z\" fill=\"none\"/>\n",
              "    <path d=\"M18.56 5.44l.94 2.06.94-2.06 2.06-.94-2.06-.94-.94-2.06-.94 2.06-2.06.94zm-11 1L8.5 8.5l.94-2.06 2.06-.94-2.06-.94L8.5 2.5l-.94 2.06-2.06.94zm10 10l.94 2.06.94-2.06 2.06-.94-2.06-.94-.94-2.06-.94 2.06-2.06.94z\"/><path d=\"M17.41 7.96l-1.37-1.37c-.4-.4-.92-.59-1.43-.59-.52 0-1.04.2-1.43.59L10.3 9.45l-7.72 7.72c-.78.78-.78 2.05 0 2.83L4 21.41c.39.39.9.59 1.41.59.51 0 1.02-.2 1.41-.59l7.78-7.78 2.81-2.81c.8-.78.8-2.07 0-2.86zM5.41 20L4 18.59l7.72-7.72 1.47 1.35L5.41 20z\"/>\n",
              "  </svg>\n",
              "      </button>\n",
              "      \n",
              "  <style>\n",
              "    .colab-df-container {\n",
              "      display:flex;\n",
              "      flex-wrap:wrap;\n",
              "      gap: 12px;\n",
              "    }\n",
              "\n",
              "    .colab-df-convert {\n",
              "      background-color: #E8F0FE;\n",
              "      border: none;\n",
              "      border-radius: 50%;\n",
              "      cursor: pointer;\n",
              "      display: none;\n",
              "      fill: #1967D2;\n",
              "      height: 32px;\n",
              "      padding: 0 0 0 0;\n",
              "      width: 32px;\n",
              "    }\n",
              "\n",
              "    .colab-df-convert:hover {\n",
              "      background-color: #E2EBFA;\n",
              "      box-shadow: 0px 1px 2px rgba(60, 64, 67, 0.3), 0px 1px 3px 1px rgba(60, 64, 67, 0.15);\n",
              "      fill: #174EA6;\n",
              "    }\n",
              "\n",
              "    [theme=dark] .colab-df-convert {\n",
              "      background-color: #3B4455;\n",
              "      fill: #D2E3FC;\n",
              "    }\n",
              "\n",
              "    [theme=dark] .colab-df-convert:hover {\n",
              "      background-color: #434B5C;\n",
              "      box-shadow: 0px 1px 3px 1px rgba(0, 0, 0, 0.15);\n",
              "      filter: drop-shadow(0px 1px 2px rgba(0, 0, 0, 0.3));\n",
              "      fill: #FFFFFF;\n",
              "    }\n",
              "  </style>\n",
              "\n",
              "      <script>\n",
              "        const buttonEl =\n",
              "          document.querySelector('#df-26a57380-b886-4594-9b52-f04ea5b3fc1c button.colab-df-convert');\n",
              "        buttonEl.style.display =\n",
              "          google.colab.kernel.accessAllowed ? 'block' : 'none';\n",
              "\n",
              "        async function convertToInteractive(key) {\n",
              "          const element = document.querySelector('#df-26a57380-b886-4594-9b52-f04ea5b3fc1c');\n",
              "          const dataTable =\n",
              "            await google.colab.kernel.invokeFunction('convertToInteractive',\n",
              "                                                     [key], {});\n",
              "          if (!dataTable) return;\n",
              "\n",
              "          const docLinkHtml = 'Like what you see? Visit the ' +\n",
              "            '<a target=\"_blank\" href=https://colab.research.google.com/notebooks/data_table.ipynb>data table notebook</a>'\n",
              "            + ' to learn more about interactive tables.';\n",
              "          element.innerHTML = '';\n",
              "          dataTable['output_type'] = 'display_data';\n",
              "          await google.colab.output.renderOutput(dataTable, element);\n",
              "          const docLink = document.createElement('div');\n",
              "          docLink.innerHTML = docLinkHtml;\n",
              "          element.appendChild(docLink);\n",
              "        }\n",
              "      </script>\n",
              "    </div>\n",
              "  </div>\n",
              "  "
            ]
          },
          "metadata": {},
          "execution_count": 198
        }
      ],
      "source": [
        "df[['Mileage','Price']].corr()"
      ]
    },
    {
      "cell_type": "markdown",
      "metadata": {
        "id": "6Wt-4UtCEb21"
      },
      "source": [
        "There is low linear relation b/w mileage and price"
      ]
    },
    {
      "cell_type": "code",
      "execution_count": 199,
      "metadata": {
        "colab": {
          "base_uri": "https://localhost:8080/",
          "height": 390
        },
        "id": "THPpuXAaL1NB",
        "outputId": "994a53b6-0051-4666-c01b-b259ea4448ef"
      },
      "outputs": [
        {
          "output_type": "display_data",
          "data": {
            "text/plain": [
              "<Figure size 432x288 with 1 Axes>"
            ],
            "image/png": "[encoded data removed]"
          },
          "metadata": {
            "needs_background": "light"
          }
        },
        {
          "output_type": "execute_result",
          "data": {
            "text/plain": [
              "             transformed     Price\n",
              "transformed     1.000000 -0.149316\n",
              "Price          -0.149316  1.000000"
            ],
            "text/html": [
              "\n",
              "  <div id=\"df-2949f2c8-8c5b-4db8-8d03-8e71449800cb\">\n",
              "    <div class=\"colab-df-container\">\n",
              "      <div>\n",
              "<style scoped>\n",
              "    .dataframe tbody tr th:only-of-type {\n",
              "        vertical-align: middle;\n",
              "    }\n",
              "\n",
              "    .dataframe tbody tr th {\n",
              "        vertical-align: top;\n",
              "    }\n",
              "\n",
              "    .dataframe thead th {\n",
              "        text-align: right;\n",
              "    }\n",
              "</style>\n",
              "<table border=\"1\" class=\"dataframe\">\n",
              "  <thead>\n",
              "    <tr style=\"text-align: right;\">\n",
              "      <th></th>\n",
              "      <th>transformed</th>\n",
              "      <th>Price</th>\n",
              "    </tr>\n",
              "  </thead>\n",
              "  <tbody>\n",
              "    <tr>\n",
              "      <th>transformed</th>\n",
              "      <td>1.000000</td>\n",
              "      <td>-0.149316</td>\n",
              "    </tr>\n",
              "    <tr>\n",
              "      <th>Price</th>\n",
              "      <td>-0.149316</td>\n",
              "      <td>1.000000</td>\n",
              "    </tr>\n",
              "  </tbody>\n",
              "</table>\n",
              "</div>\n",
              "      <button class=\"colab-df-convert\" onclick=\"convertToInteractive('df-2949f2c8-8c5b-4db8-8d03-8e71449800cb')\"\n",
              "              title=\"Convert this dataframe to an interactive table.\"\n",
              "              style=\"display:none;\">\n",
              "        \n",
              "  <svg xmlns=\"http://www.w3.org/2000/svg\" height=\"24px\"viewBox=\"0 0 24 24\"\n",
              "       width=\"24px\">\n",
              "    <path d=\"M0 0h24v24H0V0z\" fill=\"none\"/>\n",
              "    <path d=\"M18.56 5.44l.94 2.06.94-2.06 2.06-.94-2.06-.94-.94-2.06-.94 2.06-2.06.94zm-11 1L8.5 8.5l.94-2.06 2.06-.94-2.06-.94L8.5 2.5l-.94 2.06-2.06.94zm10 10l.94 2.06.94-2.06 2.06-.94-2.06-.94-.94-2.06-.94 2.06-2.06.94z\"/><path d=\"M17.41 7.96l-1.37-1.37c-.4-.4-.92-.59-1.43-.59-.52 0-1.04.2-1.43.59L10.3 9.45l-7.72 7.72c-.78.78-.78 2.05 0 2.83L4 21.41c.39.39.9.59 1.41.59.51 0 1.02-.2 1.41-.59l7.78-7.78 2.81-2.81c.8-.78.8-2.07 0-2.86zM5.41 20L4 18.59l7.72-7.72 1.47 1.35L5.41 20z\"/>\n",
              "  </svg>\n",
              "      </button>\n",
              "      \n",
              "  <style>\n",
              "    .colab-df-container {\n",
              "      display:flex;\n",
              "      flex-wrap:wrap;\n",
              "      gap: 12px;\n",
              "    }\n",
              "\n",
              "    .colab-df-convert {\n",
              "      background-color: #E8F0FE;\n",
              "      border: none;\n",
              "      border-radius: 50%;\n",
              "      cursor: pointer;\n",
              "      display: none;\n",
              "      fill: #1967D2;\n",
              "      height: 32px;\n",
              "      padding: 0 0 0 0;\n",
              "      width: 32px;\n",
              "    }\n",
              "\n",
              "    .colab-df-convert:hover {\n",
              "      background-color: #E2EBFA;\n",
              "      box-shadow: 0px 1px 2px rgba(60, 64, 67, 0.3), 0px 1px 3px 1px rgba(60, 64, 67, 0.15);\n",
              "      fill: #174EA6;\n",
              "    }\n",
              "\n",
              "    [theme=dark] .colab-df-convert {\n",
              "      background-color: #3B4455;\n",
              "      fill: #D2E3FC;\n",
              "    }\n",
              "\n",
              "    [theme=dark] .colab-df-convert:hover {\n",
              "      background-color: #434B5C;\n",
              "      box-shadow: 0px 1px 3px 1px rgba(0, 0, 0, 0.15);\n",
              "      filter: drop-shadow(0px 1px 2px rgba(0, 0, 0, 0.3));\n",
              "      fill: #FFFFFF;\n",
              "    }\n",
              "  </style>\n",
              "\n",
              "      <script>\n",
              "        const buttonEl =\n",
              "          document.querySelector('#df-2949f2c8-8c5b-4db8-8d03-8e71449800cb button.colab-df-convert');\n",
              "        buttonEl.style.display =\n",
              "          google.colab.kernel.accessAllowed ? 'block' : 'none';\n",
              "\n",
              "        async function convertToInteractive(key) {\n",
              "          const element = document.querySelector('#df-2949f2c8-8c5b-4db8-8d03-8e71449800cb');\n",
              "          const dataTable =\n",
              "            await google.colab.kernel.invokeFunction('convertToInteractive',\n",
              "                                                     [key], {});\n",
              "          if (!dataTable) return;\n",
              "\n",
              "          const docLinkHtml = 'Like what you see? Visit the ' +\n",
              "            '<a target=\"_blank\" href=https://colab.research.google.com/notebooks/data_table.ipynb>data table notebook</a>'\n",
              "            + ' to learn more about interactive tables.';\n",
              "          element.innerHTML = '';\n",
              "          dataTable['output_type'] = 'display_data';\n",
              "          await google.colab.output.renderOutput(dataTable, element);\n",
              "          const docLink = document.createElement('div');\n",
              "          docLink.innerHTML = docLinkHtml;\n",
              "          element.appendChild(docLink);\n",
              "        }\n",
              "      </script>\n",
              "    </div>\n",
              "  </div>\n",
              "  "
            ]
          },
          "metadata": {},
          "execution_count": 199
        }
      ],
      "source": [
        "df['transformed'] = np.sqrt(df['Mileage'])\n",
        "df.plot(x='transformed', y='Price', style='o')\n",
        "plt.title('Mileage vs Price')\n",
        "plt.xlabel('Mileage')\n",
        "plt.ylabel('Price')\n",
        "plt.show()\n",
        "df[['transformed','Price']].corr()"
      ]
    },
    {
      "cell_type": "markdown",
      "metadata": {
        "id": "YYuEWe7WEb1t"
      },
      "source": [
        "It has low linear relationship b/w the data."
      ]
    },
    {
      "cell_type": "code",
      "source": [
        "df.dtypes"
      ],
      "metadata": {
        "colab": {
          "base_uri": "https://localhost:8080/"
        },
        "id": "naVzPGsug2co",
        "outputId": "807b43ea-7f4f-4f79-a668-3c71d837100d"
      },
      "execution_count": 211,
      "outputs": [
        {
          "output_type": "execute_result",
          "data": {
            "text/plain": [
              "Price           float64\n",
              "Mileage           int64\n",
              "Make             object\n",
              "Model            object\n",
              "Trim             object\n",
              "Type             object\n",
              "Cylinder          int64\n",
              "Liter           float64\n",
              "Doors             int64\n",
              "Cruise            int64\n",
              "Sound             int64\n",
              "Leather           int64\n",
              "transformed     float64\n",
              "sqrt_mileage    float64\n",
              "dtype: object"
            ]
          },
          "metadata": {},
          "execution_count": 211
        }
      ]
    },
    {
      "cell_type": "code",
      "execution_count": 272,
      "metadata": {
        "id": "quF8Lc64EbRt"
      },
      "outputs": [],
      "source": [
        "df['sqrt_mileage']  = np.sqrt(df['Mileage'])"
      ]
    },
    {
      "cell_type": "code",
      "source": [
        "df.shape"
      ],
      "metadata": {
        "colab": {
          "base_uri": "https://localhost:8080/"
        },
        "id": "US23s2cSsr79",
        "outputId": "3aa787fa-2c14-4bc0-bb7d-625a22295f80"
      },
      "execution_count": 254,
      "outputs": [
        {
          "output_type": "execute_result",
          "data": {
            "text/plain": [
              "(161, 2)"
            ]
          },
          "metadata": {},
          "execution_count": 254
        }
      ]
    },
    {
      "cell_type": "code",
      "execution_count": 255,
      "metadata": {
        "id": "lEH1zx0UOQKh"
      },
      "outputs": [],
      "source": [
        "X = df.iloc[:, :-1].values \n",
        "y = df.iloc[:, 0].values \n",
        "from sklearn.model_selection import train_test_split\n",
        "X_train, X_test, y_train, y_test = train_test_split(X, y, test_size=0.2, random_state = 5)"
      ]
    },
    {
      "cell_type": "code",
      "source": [
        "from sklearn.preprocessing import StandardScaler\n",
        "scaler = StandardScaler() \n",
        "scaler.fit(X_train) \n",
        "X_train = scaler.transform(X_train)\n",
        "X_test = scaler.transform(X_test) "
      ],
      "metadata": {
        "id": "vAgko3CMUuQP"
      },
      "execution_count": 256,
      "outputs": []
    },
    {
      "cell_type": "code",
      "source": [
        "from sklearn.linear_model import LinearRegression\n",
        "regressor = LinearRegression()\n",
        "regressor.fit(X_train, y_train)"
      ],
      "metadata": {
        "colab": {
          "base_uri": "https://localhost:8080/"
        },
        "id": "BKmb40AHUuAK",
        "outputId": "57132549-1daa-47c2-eb18-8aed06070b32"
      },
      "execution_count": 257,
      "outputs": [
        {
          "output_type": "execute_result",
          "data": {
            "text/plain": [
              "LinearRegression()"
            ]
          },
          "metadata": {},
          "execution_count": 257
        }
      ]
    },
    {
      "cell_type": "code",
      "source": [
        "coeff_df = pd.DataFrame(regressor.coef_,['sqrt_mileage'], columns=['Coefficient'])\n",
        "y_pred = regressor.predict(X_test_scaled)\n",
        "coeff_df"
      ],
      "metadata": {
        "colab": {
          "base_uri": "https://localhost:8080/",
          "height": 81
        },
        "id": "H3uwLTJRVsrt",
        "outputId": "9ce64489-f83c-41b4-b2ae-5fad636a5708"
      },
      "execution_count": 258,
      "outputs": [
        {
          "output_type": "execute_result",
          "data": {
            "text/plain": [
              "              Coefficient\n",
              "sqrt_mileage  9882.027107"
            ],
            "text/html": [
              "\n",
              "  <div id=\"df-fc738c3d-5566-4f86-ac6f-e0334c976825\">\n",
              "    <div class=\"colab-df-container\">\n",
              "      <div>\n",
              "<style scoped>\n",
              "    .dataframe tbody tr th:only-of-type {\n",
              "        vertical-align: middle;\n",
              "    }\n",
              "\n",
              "    .dataframe tbody tr th {\n",
              "        vertical-align: top;\n",
              "    }\n",
              "\n",
              "    .dataframe thead th {\n",
              "        text-align: right;\n",
              "    }\n",
              "</style>\n",
              "<table border=\"1\" class=\"dataframe\">\n",
              "  <thead>\n",
              "    <tr style=\"text-align: right;\">\n",
              "      <th></th>\n",
              "      <th>Coefficient</th>\n",
              "    </tr>\n",
              "  </thead>\n",
              "  <tbody>\n",
              "    <tr>\n",
              "      <th>sqrt_mileage</th>\n",
              "      <td>9882.027107</td>\n",
              "    </tr>\n",
              "  </tbody>\n",
              "</table>\n",
              "</div>\n",
              "      <button class=\"colab-df-convert\" onclick=\"convertToInteractive('df-fc738c3d-5566-4f86-ac6f-e0334c976825')\"\n",
              "              title=\"Convert this dataframe to an interactive table.\"\n",
              "              style=\"display:none;\">\n",
              "        \n",
              "  <svg xmlns=\"http://www.w3.org/2000/svg\" height=\"24px\"viewBox=\"0 0 24 24\"\n",
              "       width=\"24px\">\n",
              "    <path d=\"M0 0h24v24H0V0z\" fill=\"none\"/>\n",
              "    <path d=\"M18.56 5.44l.94 2.06.94-2.06 2.06-.94-2.06-.94-.94-2.06-.94 2.06-2.06.94zm-11 1L8.5 8.5l.94-2.06 2.06-.94-2.06-.94L8.5 2.5l-.94 2.06-2.06.94zm10 10l.94 2.06.94-2.06 2.06-.94-2.06-.94-.94-2.06-.94 2.06-2.06.94z\"/><path d=\"M17.41 7.96l-1.37-1.37c-.4-.4-.92-.59-1.43-.59-.52 0-1.04.2-1.43.59L10.3 9.45l-7.72 7.72c-.78.78-.78 2.05 0 2.83L4 21.41c.39.39.9.59 1.41.59.51 0 1.02-.2 1.41-.59l7.78-7.78 2.81-2.81c.8-.78.8-2.07 0-2.86zM5.41 20L4 18.59l7.72-7.72 1.47 1.35L5.41 20z\"/>\n",
              "  </svg>\n",
              "      </button>\n",
              "      \n",
              "  <style>\n",
              "    .colab-df-container {\n",
              "      display:flex;\n",
              "      flex-wrap:wrap;\n",
              "      gap: 12px;\n",
              "    }\n",
              "\n",
              "    .colab-df-convert {\n",
              "      background-color: #E8F0FE;\n",
              "      border: none;\n",
              "      border-radius: 50%;\n",
              "      cursor: pointer;\n",
              "      display: none;\n",
              "      fill: #1967D2;\n",
              "      height: 32px;\n",
              "      padding: 0 0 0 0;\n",
              "      width: 32px;\n",
              "    }\n",
              "\n",
              "    .colab-df-convert:hover {\n",
              "      background-color: #E2EBFA;\n",
              "      box-shadow: 0px 1px 2px rgba(60, 64, 67, 0.3), 0px 1px 3px 1px rgba(60, 64, 67, 0.15);\n",
              "      fill: #174EA6;\n",
              "    }\n",
              "\n",
              "    [theme=dark] .colab-df-convert {\n",
              "      background-color: #3B4455;\n",
              "      fill: #D2E3FC;\n",
              "    }\n",
              "\n",
              "    [theme=dark] .colab-df-convert:hover {\n",
              "      background-color: #434B5C;\n",
              "      box-shadow: 0px 1px 3px 1px rgba(0, 0, 0, 0.15);\n",
              "      filter: drop-shadow(0px 1px 2px rgba(0, 0, 0, 0.3));\n",
              "      fill: #FFFFFF;\n",
              "    }\n",
              "  </style>\n",
              "\n",
              "      <script>\n",
              "        const buttonEl =\n",
              "          document.querySelector('#df-fc738c3d-5566-4f86-ac6f-e0334c976825 button.colab-df-convert');\n",
              "        buttonEl.style.display =\n",
              "          google.colab.kernel.accessAllowed ? 'block' : 'none';\n",
              "\n",
              "        async function convertToInteractive(key) {\n",
              "          const element = document.querySelector('#df-fc738c3d-5566-4f86-ac6f-e0334c976825');\n",
              "          const dataTable =\n",
              "            await google.colab.kernel.invokeFunction('convertToInteractive',\n",
              "                                                     [key], {});\n",
              "          if (!dataTable) return;\n",
              "\n",
              "          const docLinkHtml = 'Like what you see? Visit the ' +\n",
              "            '<a target=\"_blank\" href=https://colab.research.google.com/notebooks/data_table.ipynb>data table notebook</a>'\n",
              "            + ' to learn more about interactive tables.';\n",
              "          element.innerHTML = '';\n",
              "          dataTable['output_type'] = 'display_data';\n",
              "          await google.colab.output.renderOutput(dataTable, element);\n",
              "          const docLink = document.createElement('div');\n",
              "          docLink.innerHTML = docLinkHtml;\n",
              "          element.appendChild(docLink);\n",
              "        }\n",
              "      </script>\n",
              "    </div>\n",
              "  </div>\n",
              "  "
            ]
          },
          "metadata": {},
          "execution_count": 258
        }
      ]
    },
    {
      "cell_type": "code",
      "source": [
        "regressor.intercept_ # c "
      ],
      "metadata": {
        "colab": {
          "base_uri": "https://localhost:8080/"
        },
        "id": "yq9nyRQuWSXA",
        "outputId": "fbd268d3-0e0e-498b-b1f5-40aa58ae4c08"
      },
      "execution_count": 259,
      "outputs": [
        {
          "output_type": "execute_result",
          "data": {
            "text/plain": [
              "21672.032798799195"
            ]
          },
          "metadata": {},
          "execution_count": 259
        }
      ]
    },
    {
      "cell_type": "code",
      "source": [
        "y_pred = regressor.predict(X_test) # given the features of the test dataset, it will give the final predictions"
      ],
      "metadata": {
        "id": "Y2i9oPHAbl7e"
      },
      "execution_count": 262,
      "outputs": []
    },
    {
      "cell_type": "code",
      "source": [
        "y_test.shape,y_pred.shape"
      ],
      "metadata": {
        "colab": {
          "base_uri": "https://localhost:8080/"
        },
        "id": "8szsvaYRXDIy",
        "outputId": "0feeffc0-4b06-4125-9dff-7fdf3fe68892"
      },
      "execution_count": 263,
      "outputs": [
        {
          "output_type": "execute_result",
          "data": {
            "text/plain": [
              "((33,), (33,))"
            ]
          },
          "metadata": {},
          "execution_count": 263
        }
      ]
    },
    {
      "cell_type": "code",
      "source": [
        "df = pd.DataFrame({'Actual': y_test, 'Predicted': y_pred})\n",
        "df"
      ],
      "metadata": {
        "colab": {
          "base_uri": "https://localhost:8080/",
          "height": 1000
        },
        "id": "cbnYQHINtAxm",
        "outputId": "6d65e300-d1fd-4735-d0b9-24c5e3a07d76"
      },
      "execution_count": 266,
      "outputs": [
        {
          "output_type": "execute_result",
          "data": {
            "text/plain": [
              "          Actual     Predicted\n",
              "0   17294.181001  17294.181001\n",
              "1   29142.714386  29142.714386\n",
              "2   21233.911356  21233.911356\n",
              "3   15756.146130  15756.146130\n",
              "4   17202.834055  17202.834055\n",
              "5   15128.992236  15128.992236\n",
              "6   37192.896366  37192.896366\n",
              "7   15047.002738  15047.002738\n",
              "8   14429.789643  14429.789643\n",
              "9   13998.129276  13998.129276\n",
              "10  27241.436178  27241.436178\n",
              "11  25097.473249  25097.473249\n",
              "12  15635.796160  15635.796160\n",
              "13  26781.814645  26781.814645\n",
              "14  31970.542075  31970.542075\n",
              "15  29844.204004  29844.204004\n",
              "16  40966.607412  40966.607412\n",
              "17  12594.183013  12594.183013\n",
              "18  20382.150310  20382.150310\n",
              "19  44084.914212  44084.914212\n",
              "20  18910.804286  18910.804286\n",
              "21  26653.239390  26653.239390\n",
              "22  17141.941158  17141.941158\n",
              "23  13174.071009  13174.071009\n",
              "24  15053.933735  15053.933735\n",
              "25  22525.269722  22525.269722\n",
              "26  35575.417049  35575.417049\n",
              "27  14869.282067  14869.282067\n",
              "28  17218.685750  17218.685750\n",
              "29  21230.977985  21230.977985\n",
              "30   9563.789309   9563.789309\n",
              "31  16027.286487  16027.286487\n",
              "32  18490.983029  18490.983029"
            ],
            "text/html": [
              "\n",
              "  <div id=\"df-104964ad-2c34-482b-9a36-cbe27a0bae18\">\n",
              "    <div class=\"colab-df-container\">\n",
              "      <div>\n",
              "<style scoped>\n",
              "    .dataframe tbody tr th:only-of-type {\n",
              "        vertical-align: middle;\n",
              "    }\n",
              "\n",
              "    .dataframe tbody tr th {\n",
              "        vertical-align: top;\n",
              "    }\n",
              "\n",
              "    .dataframe thead th {\n",
              "        text-align: right;\n",
              "    }\n",
              "</style>\n",
              "<table border=\"1\" class=\"dataframe\">\n",
              "  <thead>\n",
              "    <tr style=\"text-align: right;\">\n",
              "      <th></th>\n",
              "      <th>Actual</th>\n",
              "      <th>Predicted</th>\n",
              "    </tr>\n",
              "  </thead>\n",
              "  <tbody>\n",
              "    <tr>\n",
              "      <th>0</th>\n",
              "      <td>17294.181001</td>\n",
              "      <td>17294.181001</td>\n",
              "    </tr>\n",
              "    <tr>\n",
              "      <th>1</th>\n",
              "      <td>29142.714386</td>\n",
              "      <td>29142.714386</td>\n",
              "    </tr>\n",
              "    <tr>\n",
              "      <th>2</th>\n",
              "      <td>21233.911356</td>\n",
              "      <td>21233.911356</td>\n",
              "    </tr>\n",
              "    <tr>\n",
              "      <th>3</th>\n",
              "      <td>15756.146130</td>\n",
              "      <td>15756.146130</td>\n",
              "    </tr>\n",
              "    <tr>\n",
              "      <th>4</th>\n",
              "      <td>17202.834055</td>\n",
              "      <td>17202.834055</td>\n",
              "    </tr>\n",
              "    <tr>\n",
              "      <th>5</th>\n",
              "      <td>15128.992236</td>\n",
              "      <td>15128.992236</td>\n",
              "    </tr>\n",
              "    <tr>\n",
              "      <th>6</th>\n",
              "      <td>37192.896366</td>\n",
              "      <td>37192.896366</td>\n",
              "    </tr>\n",
              "    <tr>\n",
              "      <th>7</th>\n",
              "      <td>15047.002738</td>\n",
              "      <td>15047.002738</td>\n",
              "    </tr>\n",
              "    <tr>\n",
              "      <th>8</th>\n",
              "      <td>14429.789643</td>\n",
              "      <td>14429.789643</td>\n",
              "    </tr>\n",
              "    <tr>\n",
              "      <th>9</th>\n",
              "      <td>13998.129276</td>\n",
              "      <td>13998.129276</td>\n",
              "    </tr>\n",
              "    <tr>\n",
              "      <th>10</th>\n",
              "      <td>27241.436178</td>\n",
              "      <td>27241.436178</td>\n",
              "    </tr>\n",
              "    <tr>\n",
              "      <th>11</th>\n",
              "      <td>25097.473249</td>\n",
              "      <td>25097.473249</td>\n",
              "    </tr>\n",
              "    <tr>\n",
              "      <th>12</th>\n",
              "      <td>15635.796160</td>\n",
              "      <td>15635.796160</td>\n",
              "    </tr>\n",
              "    <tr>\n",
              "      <th>13</th>\n",
              "      <td>26781.814645</td>\n",
              "      <td>26781.814645</td>\n",
              "    </tr>\n",
              "    <tr>\n",
              "      <th>14</th>\n",
              "      <td>31970.542075</td>\n",
              "      <td>31970.542075</td>\n",
              "    </tr>\n",
              "    <tr>\n",
              "      <th>15</th>\n",
              "      <td>29844.204004</td>\n",
              "      <td>29844.204004</td>\n",
              "    </tr>\n",
              "    <tr>\n",
              "      <th>16</th>\n",
              "      <td>40966.607412</td>\n",
              "      <td>40966.607412</td>\n",
              "    </tr>\n",
              "    <tr>\n",
              "      <th>17</th>\n",
              "      <td>12594.183013</td>\n",
              "      <td>12594.183013</td>\n",
              "    </tr>\n",
              "    <tr>\n",
              "      <th>18</th>\n",
              "      <td>20382.150310</td>\n",
              "      <td>20382.150310</td>\n",
              "    </tr>\n",
              "    <tr>\n",
              "      <th>19</th>\n",
              "      <td>44084.914212</td>\n",
              "      <td>44084.914212</td>\n",
              "    </tr>\n",
              "    <tr>\n",
              "      <th>20</th>\n",
              "      <td>18910.804286</td>\n",
              "      <td>18910.804286</td>\n",
              "    </tr>\n",
              "    <tr>\n",
              "      <th>21</th>\n",
              "      <td>26653.239390</td>\n",
              "      <td>26653.239390</td>\n",
              "    </tr>\n",
              "    <tr>\n",
              "      <th>22</th>\n",
              "      <td>17141.941158</td>\n",
              "      <td>17141.941158</td>\n",
              "    </tr>\n",
              "    <tr>\n",
              "      <th>23</th>\n",
              "      <td>13174.071009</td>\n",
              "      <td>13174.071009</td>\n",
              "    </tr>\n",
              "    <tr>\n",
              "      <th>24</th>\n",
              "      <td>15053.933735</td>\n",
              "      <td>15053.933735</td>\n",
              "    </tr>\n",
              "    <tr>\n",
              "      <th>25</th>\n",
              "      <td>22525.269722</td>\n",
              "      <td>22525.269722</td>\n",
              "    </tr>\n",
              "    <tr>\n",
              "      <th>26</th>\n",
              "      <td>35575.417049</td>\n",
              "      <td>35575.417049</td>\n",
              "    </tr>\n",
              "    <tr>\n",
              "      <th>27</th>\n",
              "      <td>14869.282067</td>\n",
              "      <td>14869.282067</td>\n",
              "    </tr>\n",
              "    <tr>\n",
              "      <th>28</th>\n",
              "      <td>17218.685750</td>\n",
              "      <td>17218.685750</td>\n",
              "    </tr>\n",
              "    <tr>\n",
              "      <th>29</th>\n",
              "      <td>21230.977985</td>\n",
              "      <td>21230.977985</td>\n",
              "    </tr>\n",
              "    <tr>\n",
              "      <th>30</th>\n",
              "      <td>9563.789309</td>\n",
              "      <td>9563.789309</td>\n",
              "    </tr>\n",
              "    <tr>\n",
              "      <th>31</th>\n",
              "      <td>16027.286487</td>\n",
              "      <td>16027.286487</td>\n",
              "    </tr>\n",
              "    <tr>\n",
              "      <th>32</th>\n",
              "      <td>18490.983029</td>\n",
              "      <td>18490.983029</td>\n",
              "    </tr>\n",
              "  </tbody>\n",
              "</table>\n",
              "</div>\n",
              "      <button class=\"colab-df-convert\" onclick=\"convertToInteractive('df-104964ad-2c34-482b-9a36-cbe27a0bae18')\"\n",
              "              title=\"Convert this dataframe to an interactive table.\"\n",
              "              style=\"display:none;\">\n",
              "        \n",
              "  <svg xmlns=\"http://www.w3.org/2000/svg\" height=\"24px\"viewBox=\"0 0 24 24\"\n",
              "       width=\"24px\">\n",
              "    <path d=\"M0 0h24v24H0V0z\" fill=\"none\"/>\n",
              "    <path d=\"M18.56 5.44l.94 2.06.94-2.06 2.06-.94-2.06-.94-.94-2.06-.94 2.06-2.06.94zm-11 1L8.5 8.5l.94-2.06 2.06-.94-2.06-.94L8.5 2.5l-.94 2.06-2.06.94zm10 10l.94 2.06.94-2.06 2.06-.94-2.06-.94-.94-2.06-.94 2.06-2.06.94z\"/><path d=\"M17.41 7.96l-1.37-1.37c-.4-.4-.92-.59-1.43-.59-.52 0-1.04.2-1.43.59L10.3 9.45l-7.72 7.72c-.78.78-.78 2.05 0 2.83L4 21.41c.39.39.9.59 1.41.59.51 0 1.02-.2 1.41-.59l7.78-7.78 2.81-2.81c.8-.78.8-2.07 0-2.86zM5.41 20L4 18.59l7.72-7.72 1.47 1.35L5.41 20z\"/>\n",
              "  </svg>\n",
              "      </button>\n",
              "      \n",
              "  <style>\n",
              "    .colab-df-container {\n",
              "      display:flex;\n",
              "      flex-wrap:wrap;\n",
              "      gap: 12px;\n",
              "    }\n",
              "\n",
              "    .colab-df-convert {\n",
              "      background-color: #E8F0FE;\n",
              "      border: none;\n",
              "      border-radius: 50%;\n",
              "      cursor: pointer;\n",
              "      display: none;\n",
              "      fill: #1967D2;\n",
              "      height: 32px;\n",
              "      padding: 0 0 0 0;\n",
              "      width: 32px;\n",
              "    }\n",
              "\n",
              "    .colab-df-convert:hover {\n",
              "      background-color: #E2EBFA;\n",
              "      box-shadow: 0px 1px 2px rgba(60, 64, 67, 0.3), 0px 1px 3px 1px rgba(60, 64, 67, 0.15);\n",
              "      fill: #174EA6;\n",
              "    }\n",
              "\n",
              "    [theme=dark] .colab-df-convert {\n",
              "      background-color: #3B4455;\n",
              "      fill: #D2E3FC;\n",
              "    }\n",
              "\n",
              "    [theme=dark] .colab-df-convert:hover {\n",
              "      background-color: #434B5C;\n",
              "      box-shadow: 0px 1px 3px 1px rgba(0, 0, 0, 0.15);\n",
              "      filter: drop-shadow(0px 1px 2px rgba(0, 0, 0, 0.3));\n",
              "      fill: #FFFFFF;\n",
              "    }\n",
              "  </style>\n",
              "\n",
              "      <script>\n",
              "        const buttonEl =\n",
              "          document.querySelector('#df-104964ad-2c34-482b-9a36-cbe27a0bae18 button.colab-df-convert');\n",
              "        buttonEl.style.display =\n",
              "          google.colab.kernel.accessAllowed ? 'block' : 'none';\n",
              "\n",
              "        async function convertToInteractive(key) {\n",
              "          const element = document.querySelector('#df-104964ad-2c34-482b-9a36-cbe27a0bae18');\n",
              "          const dataTable =\n",
              "            await google.colab.kernel.invokeFunction('convertToInteractive',\n",
              "                                                     [key], {});\n",
              "          if (!dataTable) return;\n",
              "\n",
              "          const docLinkHtml = 'Like what you see? Visit the ' +\n",
              "            '<a target=\"_blank\" href=https://colab.research.google.com/notebooks/data_table.ipynb>data table notebook</a>'\n",
              "            + ' to learn more about interactive tables.';\n",
              "          element.innerHTML = '';\n",
              "          dataTable['output_type'] = 'display_data';\n",
              "          await google.colab.output.renderOutput(dataTable, element);\n",
              "          const docLink = document.createElement('div');\n",
              "          docLink.innerHTML = docLinkHtml;\n",
              "          element.appendChild(docLink);\n",
              "        }\n",
              "      </script>\n",
              "    </div>\n",
              "  </div>\n",
              "  "
            ]
          },
          "metadata": {},
          "execution_count": 266
        }
      ]
    },
    {
      "cell_type": "code",
      "source": [
        "regressor.intercept_,regressor.coef_"
      ],
      "metadata": {
        "colab": {
          "base_uri": "https://localhost:8080/"
        },
        "id": "Lbb1X-fztAwQ",
        "outputId": "79c79701-c25e-4214-97b0-1f83da110392"
      },
      "execution_count": 268,
      "outputs": [
        {
          "output_type": "execute_result",
          "data": {
            "text/plain": [
              "(21672.032798799195, array([9882.02710656]))"
            ]
          },
          "metadata": {},
          "execution_count": 268
        }
      ]
    },
    {
      "cell_type": "markdown",
      "source": [
        "Tasks, Part 1\n",
        "\n",
        "1. Find the linear regression equation for mileage vs price.\n",
        "\n",
        "\n",
        "> Price= 9882.02710656(sqrt_mileage)+21672.032798799195\n",
        "\n"
      ],
      "metadata": {
        "id": "Nf-eX4DjtfIO"
      }
    },
    {
      "cell_type": "code",
      "source": [
        "#Price= 9882.02710656(sqrt_mileage)+21672.032798799195"
      ],
      "metadata": {
        "id": "UsiNdhCWtxU-"
      },
      "execution_count": null,
      "outputs": []
    },
    {
      "cell_type": "markdown",
      "source": [
        "2. Chart the original data and the equation on the chart."
      ],
      "metadata": {
        "id": "THbhxdHDt63T"
      }
    },
    {
      "cell_type": "code",
      "source": [
        "plt.scatter(X_train, y_train, color='blue')\n",
        "plt.plot(X_train, regressor.predict(X_train), color='limegreen')"
      ],
      "metadata": {
        "colab": {
          "base_uri": "https://localhost:8080/",
          "height": 282
        },
        "id": "OsryzrkVw9ZM",
        "outputId": "7680d0b2-93f6-43a4-bfac-724da612f4ad"
      },
      "execution_count": 288,
      "outputs": [
        {
          "output_type": "execute_result",
          "data": {
            "text/plain": [
              "[<matplotlib.lines.Line2D at 0x7f2c156a4350>]"
            ]
          },
          "metadata": {},
          "execution_count": 288
        },
        {
          "output_type": "display_data",
          "data": {
            "text/plain": [
              "<Figure size 432x288 with 1 Axes>"
            ],
            "image/png": "[encoded data removed]"
          },
          "metadata": {
            "needs_background": "light"
          }
        }
      ]
    },
    {
      "cell_type": "code",
      "source": [
        "df"
      ],
      "metadata": {
        "id": "eiVwf3KFt6hk"
      },
      "execution_count": null,
      "outputs": []
    },
    {
      "cell_type": "markdown",
      "source": [
        "3. Find the equation's R2 score (use the .score method) to determine whether the equation is a good fit for this data. (0.8 and greater is considered a strong correlation.)"
      ],
      "metadata": {
        "id": "pQvDErFRtwnj"
      }
    },
    {
      "cell_type": "code",
      "source": [
        "from sklearn import metrics\n",
        "print('R2- SCORE:', metrics.r2_score(y_test,y_pred))"
      ],
      "metadata": {
        "colab": {
          "base_uri": "https://localhost:8080/"
        },
        "id": "Cjue6z7nUtn9",
        "outputId": "75b6c63d-bbe1-43eb-c887-606b312e350f"
      },
      "execution_count": 267,
      "outputs": [
        {
          "output_type": "stream",
          "name": "stdout",
          "text": [
            "R2- SCORE: 1.0\n"
          ]
        }
      ]
    },
    {
      "cell_type": "markdown",
      "source": [
        "PART 2"
      ],
      "metadata": {
        "id": "Hy1YrP8xxHok"
      }
    },
    {
      "cell_type": "code",
      "source": [
        "feature = ['Mileage', 'Cylinder', 'Liter', 'Doors', 'Cruise', 'Sound', 'Leather']\n"
      ],
      "metadata": {
        "id": "i9AuiJufxo1-"
      },
      "execution_count": null,
      "outputs": []
    },
    {
      "cell_type": "code",
      "source": [
        "x=df['Cylinder']\n",
        "y=df['Price']\n",
        "plt.scatter(x,y)\n",
        "plt.xlabel('cylinder')\n",
        "plt.ylabel('price')\n",
        "plt.title('Cylinder vs Price')\n",
        "plt.show\n",
        "df[['Cylinder','Price']].corr()"
      ],
      "metadata": {
        "colab": {
          "base_uri": "https://localhost:8080/",
          "height": 312
        },
        "id": "F3PZD_2byVw-",
        "outputId": "6c078cee-ce80-4aa6-f64a-f2a02f5ee677"
      },
      "execution_count": 292,
      "outputs": [
        {
          "output_type": "execute_result",
          "data": {
            "text/plain": [
              "<function matplotlib.pyplot.show>"
            ]
          },
          "metadata": {},
          "execution_count": 292
        },
        {
          "output_type": "display_data",
          "data": {
            "text/plain": [
              "<Figure size 432x288 with 1 Axes>"
            ],
            "image/png": "[encoded data removed]"
          },
          "metadata": {
            "needs_background": "light"
          }
        }
      ]
    },
    {
      "cell_type": "markdown",
      "source": [
        "There is a linear regression b/w datas.No transform needed"
      ],
      "metadata": {
        "id": "ppNpW4YRy2aB"
      }
    },
    {
      "cell_type": "code",
      "source": [
        "x=df['Liter']\n",
        "y=df['Price']\n",
        "plt.scatter(x,y)\n",
        "plt.xlabel('Liter')\n",
        "plt.ylabel('price')\n",
        "plt.title('Liter vs Price')\n",
        "plt.show\n",
        "df[['Liter','Price']].corr()"
      ],
      "metadata": {
        "colab": {
          "base_uri": "https://localhost:8080/",
          "height": 390
        },
        "id": "wSHq7lZEzN8A",
        "outputId": "8fb4b0ed-83e2-43ce-82a9-6d677921e998"
      },
      "execution_count": 294,
      "outputs": [
        {
          "output_type": "execute_result",
          "data": {
            "text/plain": [
              "          Liter     Price\n",
              "Liter  1.000000  0.558146\n",
              "Price  0.558146  1.000000"
            ],
            "text/html": [
              "\n",
              "  <div id=\"df-609fa3f5-d704-4a58-9dd0-06bd3269fb68\">\n",
              "    <div class=\"colab-df-container\">\n",
              "      <div>\n",
              "<style scoped>\n",
              "    .dataframe tbody tr th:only-of-type {\n",
              "        vertical-align: middle;\n",
              "    }\n",
              "\n",
              "    .dataframe tbody tr th {\n",
              "        vertical-align: top;\n",
              "    }\n",
              "\n",
              "    .dataframe thead th {\n",
              "        text-align: right;\n",
              "    }\n",
              "</style>\n",
              "<table border=\"1\" class=\"dataframe\">\n",
              "  <thead>\n",
              "    <tr style=\"text-align: right;\">\n",
              "      <th></th>\n",
              "      <th>Liter</th>\n",
              "      <th>Price</th>\n",
              "    </tr>\n",
              "  </thead>\n",
              "  <tbody>\n",
              "    <tr>\n",
              "      <th>Liter</th>\n",
              "      <td>1.000000</td>\n",
              "      <td>0.558146</td>\n",
              "    </tr>\n",
              "    <tr>\n",
              "      <th>Price</th>\n",
              "      <td>0.558146</td>\n",
              "      <td>1.000000</td>\n",
              "    </tr>\n",
              "  </tbody>\n",
              "</table>\n",
              "</div>\n",
              "      <button class=\"colab-df-convert\" onclick=\"convertToInteractive('df-609fa3f5-d704-4a58-9dd0-06bd3269fb68')\"\n",
              "              title=\"Convert this dataframe to an interactive table.\"\n",
              "              style=\"display:none;\">\n",
              "        \n",
              "  <svg xmlns=\"http://www.w3.org/2000/svg\" height=\"24px\"viewBox=\"0 0 24 24\"\n",
              "       width=\"24px\">\n",
              "    <path d=\"M0 0h24v24H0V0z\" fill=\"none\"/>\n",
              "    <path d=\"M18.56 5.44l.94 2.06.94-2.06 2.06-.94-2.06-.94-.94-2.06-.94 2.06-2.06.94zm-11 1L8.5 8.5l.94-2.06 2.06-.94-2.06-.94L8.5 2.5l-.94 2.06-2.06.94zm10 10l.94 2.06.94-2.06 2.06-.94-2.06-.94-.94-2.06-.94 2.06-2.06.94z\"/><path d=\"M17.41 7.96l-1.37-1.37c-.4-.4-.92-.59-1.43-.59-.52 0-1.04.2-1.43.59L10.3 9.45l-7.72 7.72c-.78.78-.78 2.05 0 2.83L4 21.41c.39.39.9.59 1.41.59.51 0 1.02-.2 1.41-.59l7.78-7.78 2.81-2.81c.8-.78.8-2.07 0-2.86zM5.41 20L4 18.59l7.72-7.72 1.47 1.35L5.41 20z\"/>\n",
              "  </svg>\n",
              "      </button>\n",
              "      \n",
              "  <style>\n",
              "    .colab-df-container {\n",
              "      display:flex;\n",
              "      flex-wrap:wrap;\n",
              "      gap: 12px;\n",
              "    }\n",
              "\n",
              "    .colab-df-convert {\n",
              "      background-color: #E8F0FE;\n",
              "      border: none;\n",
              "      border-radius: 50%;\n",
              "      cursor: pointer;\n",
              "      display: none;\n",
              "      fill: #1967D2;\n",
              "      height: 32px;\n",
              "      padding: 0 0 0 0;\n",
              "      width: 32px;\n",
              "    }\n",
              "\n",
              "    .colab-df-convert:hover {\n",
              "      background-color: #E2EBFA;\n",
              "      box-shadow: 0px 1px 2px rgba(60, 64, 67, 0.3), 0px 1px 3px 1px rgba(60, 64, 67, 0.15);\n",
              "      fill: #174EA6;\n",
              "    }\n",
              "\n",
              "    [theme=dark] .colab-df-convert {\n",
              "      background-color: #3B4455;\n",
              "      fill: #D2E3FC;\n",
              "    }\n",
              "\n",
              "    [theme=dark] .colab-df-convert:hover {\n",
              "      background-color: #434B5C;\n",
              "      box-shadow: 0px 1px 3px 1px rgba(0, 0, 0, 0.15);\n",
              "      filter: drop-shadow(0px 1px 2px rgba(0, 0, 0, 0.3));\n",
              "      fill: #FFFFFF;\n",
              "    }\n",
              "  </style>\n",
              "\n",
              "      <script>\n",
              "        const buttonEl =\n",
              "          document.querySelector('#df-609fa3f5-d704-4a58-9dd0-06bd3269fb68 button.colab-df-convert');\n",
              "        buttonEl.style.display =\n",
              "          google.colab.kernel.accessAllowed ? 'block' : 'none';\n",
              "\n",
              "        async function convertToInteractive(key) {\n",
              "          const element = document.querySelector('#df-609fa3f5-d704-4a58-9dd0-06bd3269fb68');\n",
              "          const dataTable =\n",
              "            await google.colab.kernel.invokeFunction('convertToInteractive',\n",
              "                                                     [key], {});\n",
              "          if (!dataTable) return;\n",
              "\n",
              "          const docLinkHtml = 'Like what you see? Visit the ' +\n",
              "            '<a target=\"_blank\" href=https://colab.research.google.com/notebooks/data_table.ipynb>data table notebook</a>'\n",
              "            + ' to learn more about interactive tables.';\n",
              "          element.innerHTML = '';\n",
              "          dataTable['output_type'] = 'display_data';\n",
              "          await google.colab.output.renderOutput(dataTable, element);\n",
              "          const docLink = document.createElement('div');\n",
              "          docLink.innerHTML = docLinkHtml;\n",
              "          element.appendChild(docLink);\n",
              "        }\n",
              "      </script>\n",
              "    </div>\n",
              "  </div>\n",
              "  "
            ]
          },
          "metadata": {},
          "execution_count": 294
        },
        {
          "output_type": "display_data",
          "data": {
            "text/plain": [
              "<Figure size 432x288 with 1 Axes>"
            ],
            "image/png": "[encoded data removed]"
          },
          "metadata": {
            "needs_background": "light"
          }
        }
      ]
    },
    {
      "cell_type": "markdown",
      "source": [
        "There is a linear regression b/w datas.No transform needed"
      ],
      "metadata": {
        "id": "U-vWzOcpzagR"
      }
    },
    {
      "cell_type": "code",
      "source": [
        "x=df['Doors']\n",
        "y=df['Price']\n",
        "plt.scatter(x,y)\n",
        "plt.xlabel('Doors')\n",
        "plt.ylabel('price')\n",
        "plt.title('Doors vs Price')\n",
        "plt.show\n",
        "df[['Doors','Price']].corr()"
      ],
      "metadata": {
        "colab": {
          "base_uri": "https://localhost:8080/",
          "height": 390
        },
        "id": "iYz5wX6Jzdsc",
        "outputId": "c6489338-756d-44ee-e179-b881b8f12d2f"
      },
      "execution_count": 295,
      "outputs": [
        {
          "output_type": "execute_result",
          "data": {
            "text/plain": [
              "         Doors    Price\n",
              "Doors  1.00000 -0.13875\n",
              "Price -0.13875  1.00000"
            ],
            "text/html": [
              "\n",
              "  <div id=\"df-e68a8068-2f34-4577-a587-2349c6073201\">\n",
              "    <div class=\"colab-df-container\">\n",
              "      <div>\n",
              "<style scoped>\n",
              "    .dataframe tbody tr th:only-of-type {\n",
              "        vertical-align: middle;\n",
              "    }\n",
              "\n",
              "    .dataframe tbody tr th {\n",
              "        vertical-align: top;\n",
              "    }\n",
              "\n",
              "    .dataframe thead th {\n",
              "        text-align: right;\n",
              "    }\n",
              "</style>\n",
              "<table border=\"1\" class=\"dataframe\">\n",
              "  <thead>\n",
              "    <tr style=\"text-align: right;\">\n",
              "      <th></th>\n",
              "      <th>Doors</th>\n",
              "      <th>Price</th>\n",
              "    </tr>\n",
              "  </thead>\n",
              "  <tbody>\n",
              "    <tr>\n",
              "      <th>Doors</th>\n",
              "      <td>1.00000</td>\n",
              "      <td>-0.13875</td>\n",
              "    </tr>\n",
              "    <tr>\n",
              "      <th>Price</th>\n",
              "      <td>-0.13875</td>\n",
              "      <td>1.00000</td>\n",
              "    </tr>\n",
              "  </tbody>\n",
              "</table>\n",
              "</div>\n",
              "      <button class=\"colab-df-convert\" onclick=\"convertToInteractive('df-e68a8068-2f34-4577-a587-2349c6073201')\"\n",
              "              title=\"Convert this dataframe to an interactive table.\"\n",
              "              style=\"display:none;\">\n",
              "        \n",
              "  <svg xmlns=\"http://www.w3.org/2000/svg\" height=\"24px\"viewBox=\"0 0 24 24\"\n",
              "       width=\"24px\">\n",
              "    <path d=\"M0 0h24v24H0V0z\" fill=\"none\"/>\n",
              "    <path d=\"M18.56 5.44l.94 2.06.94-2.06 2.06-.94-2.06-.94-.94-2.06-.94 2.06-2.06.94zm-11 1L8.5 8.5l.94-2.06 2.06-.94-2.06-.94L8.5 2.5l-.94 2.06-2.06.94zm10 10l.94 2.06.94-2.06 2.06-.94-2.06-.94-.94-2.06-.94 2.06-2.06.94z\"/><path d=\"M17.41 7.96l-1.37-1.37c-.4-.4-.92-.59-1.43-.59-.52 0-1.04.2-1.43.59L10.3 9.45l-7.72 7.72c-.78.78-.78 2.05 0 2.83L4 21.41c.39.39.9.59 1.41.59.51 0 1.02-.2 1.41-.59l7.78-7.78 2.81-2.81c.8-.78.8-2.07 0-2.86zM5.41 20L4 18.59l7.72-7.72 1.47 1.35L5.41 20z\"/>\n",
              "  </svg>\n",
              "      </button>\n",
              "      \n",
              "  <style>\n",
              "    .colab-df-container {\n",
              "      display:flex;\n",
              "      flex-wrap:wrap;\n",
              "      gap: 12px;\n",
              "    }\n",
              "\n",
              "    .colab-df-convert {\n",
              "      background-color: #E8F0FE;\n",
              "      border: none;\n",
              "      border-radius: 50%;\n",
              "      cursor: pointer;\n",
              "      display: none;\n",
              "      fill: #1967D2;\n",
              "      height: 32px;\n",
              "      padding: 0 0 0 0;\n",
              "      width: 32px;\n",
              "    }\n",
              "\n",
              "    .colab-df-convert:hover {\n",
              "      background-color: #E2EBFA;\n",
              "      box-shadow: 0px 1px 2px rgba(60, 64, 67, 0.3), 0px 1px 3px 1px rgba(60, 64, 67, 0.15);\n",
              "      fill: #174EA6;\n",
              "    }\n",
              "\n",
              "    [theme=dark] .colab-df-convert {\n",
              "      background-color: #3B4455;\n",
              "      fill: #D2E3FC;\n",
              "    }\n",
              "\n",
              "    [theme=dark] .colab-df-convert:hover {\n",
              "      background-color: #434B5C;\n",
              "      box-shadow: 0px 1px 3px 1px rgba(0, 0, 0, 0.15);\n",
              "      filter: drop-shadow(0px 1px 2px rgba(0, 0, 0, 0.3));\n",
              "      fill: #FFFFFF;\n",
              "    }\n",
              "  </style>\n",
              "\n",
              "      <script>\n",
              "        const buttonEl =\n",
              "          document.querySelector('#df-e68a8068-2f34-4577-a587-2349c6073201 button.colab-df-convert');\n",
              "        buttonEl.style.display =\n",
              "          google.colab.kernel.accessAllowed ? 'block' : 'none';\n",
              "\n",
              "        async function convertToInteractive(key) {\n",
              "          const element = document.querySelector('#df-e68a8068-2f34-4577-a587-2349c6073201');\n",
              "          const dataTable =\n",
              "            await google.colab.kernel.invokeFunction('convertToInteractive',\n",
              "                                                     [key], {});\n",
              "          if (!dataTable) return;\n",
              "\n",
              "          const docLinkHtml = 'Like what you see? Visit the ' +\n",
              "            '<a target=\"_blank\" href=https://colab.research.google.com/notebooks/data_table.ipynb>data table notebook</a>'\n",
              "            + ' to learn more about interactive tables.';\n",
              "          element.innerHTML = '';\n",
              "          dataTable['output_type'] = 'display_data';\n",
              "          await google.colab.output.renderOutput(dataTable, element);\n",
              "          const docLink = document.createElement('div');\n",
              "          docLink.innerHTML = docLinkHtml;\n",
              "          element.appendChild(docLink);\n",
              "        }\n",
              "      </script>\n",
              "    </div>\n",
              "  </div>\n",
              "  "
            ]
          },
          "metadata": {},
          "execution_count": 295
        },
        {
          "output_type": "display_data",
          "data": {
            "text/plain": [
              "<Figure size 432x288 with 1 Axes>"
            ],
            "image/png": "[encoded data removed]"
          },
          "metadata": {
            "needs_background": "light"
          }
        }
      ]
    },
    {
      "cell_type": "markdown",
      "source": [
        "There is low linear relationship b/w datas"
      ],
      "metadata": {
        "id": "MX6hckqtzwqC"
      }
    },
    {
      "cell_type": "code",
      "source": [
        "df['transformed'] = np.sqrt(df['Doors'])\n",
        "df.plot(x='transformed', y='Price', style='o')\n",
        "plt.title('Doors vs Price')\n",
        "plt.xlabel('Doors')\n",
        "plt.ylabel('Price')\n",
        "plt.show()\n",
        "df[['transformed','Price']].corr()"
      ],
      "metadata": {
        "colab": {
          "base_uri": "https://localhost:8080/",
          "height": 390
        },
        "id": "zBEubaBtzvi0",
        "outputId": "f1bc7bf4-fc38-484a-b624-c69ddce91d9a"
      },
      "execution_count": 313,
      "outputs": [
        {
          "output_type": "display_data",
          "data": {
            "text/plain": [
              "<Figure size 432x288 with 1 Axes>"
            ],
            "image/png": "[encoded data removed]"
          },
          "metadata": {
            "needs_background": "light"
          }
        },
        {
          "output_type": "execute_result",
          "data": {
            "text/plain": [
              "             transformed    Price\n",
              "transformed      1.00000 -0.13875\n",
              "Price           -0.13875  1.00000"
            ],
            "text/html": [
              "\n",
              "  <div id=\"df-105ffc14-6ee0-4eb9-9dc7-48ca74a29606\">\n",
              "    <div class=\"colab-df-container\">\n",
              "      <div>\n",
              "<style scoped>\n",
              "    .dataframe tbody tr th:only-of-type {\n",
              "        vertical-align: middle;\n",
              "    }\n",
              "\n",
              "    .dataframe tbody tr th {\n",
              "        vertical-align: top;\n",
              "    }\n",
              "\n",
              "    .dataframe thead th {\n",
              "        text-align: right;\n",
              "    }\n",
              "</style>\n",
              "<table border=\"1\" class=\"dataframe\">\n",
              "  <thead>\n",
              "    <tr style=\"text-align: right;\">\n",
              "      <th></th>\n",
              "      <th>transformed</th>\n",
              "      <th>Price</th>\n",
              "    </tr>\n",
              "  </thead>\n",
              "  <tbody>\n",
              "    <tr>\n",
              "      <th>transformed</th>\n",
              "      <td>1.00000</td>\n",
              "      <td>-0.13875</td>\n",
              "    </tr>\n",
              "    <tr>\n",
              "      <th>Price</th>\n",
              "      <td>-0.13875</td>\n",
              "      <td>1.00000</td>\n",
              "    </tr>\n",
              "  </tbody>\n",
              "</table>\n",
              "</div>\n",
              "      <button class=\"colab-df-convert\" onclick=\"convertToInteractive('df-105ffc14-6ee0-4eb9-9dc7-48ca74a29606')\"\n",
              "              title=\"Convert this dataframe to an interactive table.\"\n",
              "              style=\"display:none;\">\n",
              "        \n",
              "  <svg xmlns=\"http://www.w3.org/2000/svg\" height=\"24px\"viewBox=\"0 0 24 24\"\n",
              "       width=\"24px\">\n",
              "    <path d=\"M0 0h24v24H0V0z\" fill=\"none\"/>\n",
              "    <path d=\"M18.56 5.44l.94 2.06.94-2.06 2.06-.94-2.06-.94-.94-2.06-.94 2.06-2.06.94zm-11 1L8.5 8.5l.94-2.06 2.06-.94-2.06-.94L8.5 2.5l-.94 2.06-2.06.94zm10 10l.94 2.06.94-2.06 2.06-.94-2.06-.94-.94-2.06-.94 2.06-2.06.94z\"/><path d=\"M17.41 7.96l-1.37-1.37c-.4-.4-.92-.59-1.43-.59-.52 0-1.04.2-1.43.59L10.3 9.45l-7.72 7.72c-.78.78-.78 2.05 0 2.83L4 21.41c.39.39.9.59 1.41.59.51 0 1.02-.2 1.41-.59l7.78-7.78 2.81-2.81c.8-.78.8-2.07 0-2.86zM5.41 20L4 18.59l7.72-7.72 1.47 1.35L5.41 20z\"/>\n",
              "  </svg>\n",
              "      </button>\n",
              "      \n",
              "  <style>\n",
              "    .colab-df-container {\n",
              "      display:flex;\n",
              "      flex-wrap:wrap;\n",
              "      gap: 12px;\n",
              "    }\n",
              "\n",
              "    .colab-df-convert {\n",
              "      background-color: #E8F0FE;\n",
              "      border: none;\n",
              "      border-radius: 50%;\n",
              "      cursor: pointer;\n",
              "      display: none;\n",
              "      fill: #1967D2;\n",
              "      height: 32px;\n",
              "      padding: 0 0 0 0;\n",
              "      width: 32px;\n",
              "    }\n",
              "\n",
              "    .colab-df-convert:hover {\n",
              "      background-color: #E2EBFA;\n",
              "      box-shadow: 0px 1px 2px rgba(60, 64, 67, 0.3), 0px 1px 3px 1px rgba(60, 64, 67, 0.15);\n",
              "      fill: #174EA6;\n",
              "    }\n",
              "\n",
              "    [theme=dark] .colab-df-convert {\n",
              "      background-color: #3B4455;\n",
              "      fill: #D2E3FC;\n",
              "    }\n",
              "\n",
              "    [theme=dark] .colab-df-convert:hover {\n",
              "      background-color: #434B5C;\n",
              "      box-shadow: 0px 1px 3px 1px rgba(0, 0, 0, 0.15);\n",
              "      filter: drop-shadow(0px 1px 2px rgba(0, 0, 0, 0.3));\n",
              "      fill: #FFFFFF;\n",
              "    }\n",
              "  </style>\n",
              "\n",
              "      <script>\n",
              "        const buttonEl =\n",
              "          document.querySelector('#df-105ffc14-6ee0-4eb9-9dc7-48ca74a29606 button.colab-df-convert');\n",
              "        buttonEl.style.display =\n",
              "          google.colab.kernel.accessAllowed ? 'block' : 'none';\n",
              "\n",
              "        async function convertToInteractive(key) {\n",
              "          const element = document.querySelector('#df-105ffc14-6ee0-4eb9-9dc7-48ca74a29606');\n",
              "          const dataTable =\n",
              "            await google.colab.kernel.invokeFunction('convertToInteractive',\n",
              "                                                     [key], {});\n",
              "          if (!dataTable) return;\n",
              "\n",
              "          const docLinkHtml = 'Like what you see? Visit the ' +\n",
              "            '<a target=\"_blank\" href=https://colab.research.google.com/notebooks/data_table.ipynb>data table notebook</a>'\n",
              "            + ' to learn more about interactive tables.';\n",
              "          element.innerHTML = '';\n",
              "          dataTable['output_type'] = 'display_data';\n",
              "          await google.colab.output.renderOutput(dataTable, element);\n",
              "          const docLink = document.createElement('div');\n",
              "          docLink.innerHTML = docLinkHtml;\n",
              "          element.appendChild(docLink);\n",
              "        }\n",
              "      </script>\n",
              "    </div>\n",
              "  </div>\n",
              "  "
            ]
          },
          "metadata": {},
          "execution_count": 313
        }
      ]
    },
    {
      "cell_type": "markdown",
      "source": [
        "Every transformation gives the same corr"
      ],
      "metadata": {
        "id": "j0_9bFmB2UFq"
      }
    },
    {
      "cell_type": "code",
      "source": [
        "x=df['Cruise']\n",
        "y=df['Price']\n",
        "plt.scatter(x,y)\n",
        "plt.xlabel('Cruise')\n",
        "plt.ylabel('price')\n",
        "plt.title('Cruise vs Price')\n",
        "plt.show\n",
        "df[['Cruise','Price']].corr()"
      ],
      "metadata": {
        "colab": {
          "base_uri": "https://localhost:8080/",
          "height": 390
        },
        "id": "oiDzThrU2b6f",
        "outputId": "17a88722-7214-484c-8fbb-bff8d8bffc1d"
      },
      "execution_count": 311,
      "outputs": [
        {
          "output_type": "execute_result",
          "data": {
            "text/plain": [
              "          Cruise     Price\n",
              "Cruise  1.000000  0.430851\n",
              "Price   0.430851  1.000000"
            ],
            "text/html": [
              "\n",
              "  <div id=\"df-fbf0cda6-e673-412e-91c7-01ac5c436683\">\n",
              "    <div class=\"colab-df-container\">\n",
              "      <div>\n",
              "<style scoped>\n",
              "    .dataframe tbody tr th:only-of-type {\n",
              "        vertical-align: middle;\n",
              "    }\n",
              "\n",
              "    .dataframe tbody tr th {\n",
              "        vertical-align: top;\n",
              "    }\n",
              "\n",
              "    .dataframe thead th {\n",
              "        text-align: right;\n",
              "    }\n",
              "</style>\n",
              "<table border=\"1\" class=\"dataframe\">\n",
              "  <thead>\n",
              "    <tr style=\"text-align: right;\">\n",
              "      <th></th>\n",
              "      <th>Cruise</th>\n",
              "      <th>Price</th>\n",
              "    </tr>\n",
              "  </thead>\n",
              "  <tbody>\n",
              "    <tr>\n",
              "      <th>Cruise</th>\n",
              "      <td>1.000000</td>\n",
              "      <td>0.430851</td>\n",
              "    </tr>\n",
              "    <tr>\n",
              "      <th>Price</th>\n",
              "      <td>0.430851</td>\n",
              "      <td>1.000000</td>\n",
              "    </tr>\n",
              "  </tbody>\n",
              "</table>\n",
              "</div>\n",
              "      <button class=\"colab-df-convert\" onclick=\"convertToInteractive('df-fbf0cda6-e673-412e-91c7-01ac5c436683')\"\n",
              "              title=\"Convert this dataframe to an interactive table.\"\n",
              "              style=\"display:none;\">\n",
              "        \n",
              "  <svg xmlns=\"http://www.w3.org/2000/svg\" height=\"24px\"viewBox=\"0 0 24 24\"\n",
              "       width=\"24px\">\n",
              "    <path d=\"M0 0h24v24H0V0z\" fill=\"none\"/>\n",
              "    <path d=\"M18.56 5.44l.94 2.06.94-2.06 2.06-.94-2.06-.94-.94-2.06-.94 2.06-2.06.94zm-11 1L8.5 8.5l.94-2.06 2.06-.94-2.06-.94L8.5 2.5l-.94 2.06-2.06.94zm10 10l.94 2.06.94-2.06 2.06-.94-2.06-.94-.94-2.06-.94 2.06-2.06.94z\"/><path d=\"M17.41 7.96l-1.37-1.37c-.4-.4-.92-.59-1.43-.59-.52 0-1.04.2-1.43.59L10.3 9.45l-7.72 7.72c-.78.78-.78 2.05 0 2.83L4 21.41c.39.39.9.59 1.41.59.51 0 1.02-.2 1.41-.59l7.78-7.78 2.81-2.81c.8-.78.8-2.07 0-2.86zM5.41 20L4 18.59l7.72-7.72 1.47 1.35L5.41 20z\"/>\n",
              "  </svg>\n",
              "      </button>\n",
              "      \n",
              "  <style>\n",
              "    .colab-df-container {\n",
              "      display:flex;\n",
              "      flex-wrap:wrap;\n",
              "      gap: 12px;\n",
              "    }\n",
              "\n",
              "    .colab-df-convert {\n",
              "      background-color: #E8F0FE;\n",
              "      border: none;\n",
              "      border-radius: 50%;\n",
              "      cursor: pointer;\n",
              "      display: none;\n",
              "      fill: #1967D2;\n",
              "      height: 32px;\n",
              "      padding: 0 0 0 0;\n",
              "      width: 32px;\n",
              "    }\n",
              "\n",
              "    .colab-df-convert:hover {\n",
              "      background-color: #E2EBFA;\n",
              "      box-shadow: 0px 1px 2px rgba(60, 64, 67, 0.3), 0px 1px 3px 1px rgba(60, 64, 67, 0.15);\n",
              "      fill: #174EA6;\n",
              "    }\n",
              "\n",
              "    [theme=dark] .colab-df-convert {\n",
              "      background-color: #3B4455;\n",
              "      fill: #D2E3FC;\n",
              "    }\n",
              "\n",
              "    [theme=dark] .colab-df-convert:hover {\n",
              "      background-color: #434B5C;\n",
              "      box-shadow: 0px 1px 3px 1px rgba(0, 0, 0, 0.15);\n",
              "      filter: drop-shadow(0px 1px 2px rgba(0, 0, 0, 0.3));\n",
              "      fill: #FFFFFF;\n",
              "    }\n",
              "  </style>\n",
              "\n",
              "      <script>\n",
              "        const buttonEl =\n",
              "          document.querySelector('#df-fbf0cda6-e673-412e-91c7-01ac5c436683 button.colab-df-convert');\n",
              "        buttonEl.style.display =\n",
              "          google.colab.kernel.accessAllowed ? 'block' : 'none';\n",
              "\n",
              "        async function convertToInteractive(key) {\n",
              "          const element = document.querySelector('#df-fbf0cda6-e673-412e-91c7-01ac5c436683');\n",
              "          const dataTable =\n",
              "            await google.colab.kernel.invokeFunction('convertToInteractive',\n",
              "                                                     [key], {});\n",
              "          if (!dataTable) return;\n",
              "\n",
              "          const docLinkHtml = 'Like what you see? Visit the ' +\n",
              "            '<a target=\"_blank\" href=https://colab.research.google.com/notebooks/data_table.ipynb>data table notebook</a>'\n",
              "            + ' to learn more about interactive tables.';\n",
              "          element.innerHTML = '';\n",
              "          dataTable['output_type'] = 'display_data';\n",
              "          await google.colab.output.renderOutput(dataTable, element);\n",
              "          const docLink = document.createElement('div');\n",
              "          docLink.innerHTML = docLinkHtml;\n",
              "          element.appendChild(docLink);\n",
              "        }\n",
              "      </script>\n",
              "    </div>\n",
              "  </div>\n",
              "  "
            ]
          },
          "metadata": {},
          "execution_count": 311
        },
        {
          "output_type": "display_data",
          "data": {
            "text/plain": [
              "<Figure size 432x288 with 1 Axes>"
            ],
            "image/png": "[encoded data removed]"
          },
          "metadata": {
            "needs_background": "light"
          }
        }
      ]
    },
    {
      "cell_type": "markdown",
      "source": [
        "There is a high correlation.No transformation needed"
      ],
      "metadata": {
        "id": "h1r9ddl72liN"
      }
    },
    {
      "cell_type": "code",
      "source": [
        "x=df['Sound']\n",
        "y=df['Price']\n",
        "plt.scatter(x,y)\n",
        "plt.xlabel('Sound')\n",
        "plt.ylabel('price')\n",
        "plt.title('Sound vs Price')\n",
        "plt.show\n",
        "df[['Sound','Price']].corr()"
      ],
      "metadata": {
        "colab": {
          "base_uri": "https://localhost:8080/",
          "height": 390
        },
        "id": "Yfr6XDNx2rgq",
        "outputId": "31feb9ed-c3b6-44ac-820b-18221e06ede1"
      },
      "execution_count": 312,
      "outputs": [
        {
          "output_type": "execute_result",
          "data": {
            "text/plain": [
              "          Sound     Price\n",
              "Sound  1.000000 -0.124348\n",
              "Price -0.124348  1.000000"
            ],
            "text/html": [
              "\n",
              "  <div id=\"df-3e051403-3e71-4208-ae56-e616ef04fc87\">\n",
              "    <div class=\"colab-df-container\">\n",
              "      <div>\n",
              "<style scoped>\n",
              "    .dataframe tbody tr th:only-of-type {\n",
              "        vertical-align: middle;\n",
              "    }\n",
              "\n",
              "    .dataframe tbody tr th {\n",
              "        vertical-align: top;\n",
              "    }\n",
              "\n",
              "    .dataframe thead th {\n",
              "        text-align: right;\n",
              "    }\n",
              "</style>\n",
              "<table border=\"1\" class=\"dataframe\">\n",
              "  <thead>\n",
              "    <tr style=\"text-align: right;\">\n",
              "      <th></th>\n",
              "      <th>Sound</th>\n",
              "      <th>Price</th>\n",
              "    </tr>\n",
              "  </thead>\n",
              "  <tbody>\n",
              "    <tr>\n",
              "      <th>Sound</th>\n",
              "      <td>1.000000</td>\n",
              "      <td>-0.124348</td>\n",
              "    </tr>\n",
              "    <tr>\n",
              "      <th>Price</th>\n",
              "      <td>-0.124348</td>\n",
              "      <td>1.000000</td>\n",
              "    </tr>\n",
              "  </tbody>\n",
              "</table>\n",
              "</div>\n",
              "      <button class=\"colab-df-convert\" onclick=\"convertToInteractive('df-3e051403-3e71-4208-ae56-e616ef04fc87')\"\n",
              "              title=\"Convert this dataframe to an interactive table.\"\n",
              "              style=\"display:none;\">\n",
              "        \n",
              "  <svg xmlns=\"http://www.w3.org/2000/svg\" height=\"24px\"viewBox=\"0 0 24 24\"\n",
              "       width=\"24px\">\n",
              "    <path d=\"M0 0h24v24H0V0z\" fill=\"none\"/>\n",
              "    <path d=\"M18.56 5.44l.94 2.06.94-2.06 2.06-.94-2.06-.94-.94-2.06-.94 2.06-2.06.94zm-11 1L8.5 8.5l.94-2.06 2.06-.94-2.06-.94L8.5 2.5l-.94 2.06-2.06.94zm10 10l.94 2.06.94-2.06 2.06-.94-2.06-.94-.94-2.06-.94 2.06-2.06.94z\"/><path d=\"M17.41 7.96l-1.37-1.37c-.4-.4-.92-.59-1.43-.59-.52 0-1.04.2-1.43.59L10.3 9.45l-7.72 7.72c-.78.78-.78 2.05 0 2.83L4 21.41c.39.39.9.59 1.41.59.51 0 1.02-.2 1.41-.59l7.78-7.78 2.81-2.81c.8-.78.8-2.07 0-2.86zM5.41 20L4 18.59l7.72-7.72 1.47 1.35L5.41 20z\"/>\n",
              "  </svg>\n",
              "      </button>\n",
              "      \n",
              "  <style>\n",
              "    .colab-df-container {\n",
              "      display:flex;\n",
              "      flex-wrap:wrap;\n",
              "      gap: 12px;\n",
              "    }\n",
              "\n",
              "    .colab-df-convert {\n",
              "      background-color: #E8F0FE;\n",
              "      border: none;\n",
              "      border-radius: 50%;\n",
              "      cursor: pointer;\n",
              "      display: none;\n",
              "      fill: #1967D2;\n",
              "      height: 32px;\n",
              "      padding: 0 0 0 0;\n",
              "      width: 32px;\n",
              "    }\n",
              "\n",
              "    .colab-df-convert:hover {\n",
              "      background-color: #E2EBFA;\n",
              "      box-shadow: 0px 1px 2px rgba(60, 64, 67, 0.3), 0px 1px 3px 1px rgba(60, 64, 67, 0.15);\n",
              "      fill: #174EA6;\n",
              "    }\n",
              "\n",
              "    [theme=dark] .colab-df-convert {\n",
              "      background-color: #3B4455;\n",
              "      fill: #D2E3FC;\n",
              "    }\n",
              "\n",
              "    [theme=dark] .colab-df-convert:hover {\n",
              "      background-color: #434B5C;\n",
              "      box-shadow: 0px 1px 3px 1px rgba(0, 0, 0, 0.15);\n",
              "      filter: drop-shadow(0px 1px 2px rgba(0, 0, 0, 0.3));\n",
              "      fill: #FFFFFF;\n",
              "    }\n",
              "  </style>\n",
              "\n",
              "      <script>\n",
              "        const buttonEl =\n",
              "          document.querySelector('#df-3e051403-3e71-4208-ae56-e616ef04fc87 button.colab-df-convert');\n",
              "        buttonEl.style.display =\n",
              "          google.colab.kernel.accessAllowed ? 'block' : 'none';\n",
              "\n",
              "        async function convertToInteractive(key) {\n",
              "          const element = document.querySelector('#df-3e051403-3e71-4208-ae56-e616ef04fc87');\n",
              "          const dataTable =\n",
              "            await google.colab.kernel.invokeFunction('convertToInteractive',\n",
              "                                                     [key], {});\n",
              "          if (!dataTable) return;\n",
              "\n",
              "          const docLinkHtml = 'Like what you see? Visit the ' +\n",
              "            '<a target=\"_blank\" href=https://colab.research.google.com/notebooks/data_table.ipynb>data table notebook</a>'\n",
              "            + ' to learn more about interactive tables.';\n",
              "          element.innerHTML = '';\n",
              "          dataTable['output_type'] = 'display_data';\n",
              "          await google.colab.output.renderOutput(dataTable, element);\n",
              "          const docLink = document.createElement('div');\n",
              "          docLink.innerHTML = docLinkHtml;\n",
              "          element.appendChild(docLink);\n",
              "        }\n",
              "      </script>\n",
              "    </div>\n",
              "  </div>\n",
              "  "
            ]
          },
          "metadata": {},
          "execution_count": 312
        },
        {
          "output_type": "display_data",
          "data": {
            "text/plain": [
              "<Figure size 432x288 with 1 Axes>"
            ],
            "image/png": "[encoded data removed]"
          },
          "metadata": {
            "needs_background": "light"
          }
        }
      ]
    },
    {
      "cell_type": "markdown",
      "source": [
        "There is low linear relationship b/w datas"
      ],
      "metadata": {
        "id": "MBBnDJLe2lgy"
      }
    },
    {
      "cell_type": "code",
      "source": [
        "df['transformed'] = np.exp(df['Sound'])\n",
        "df.plot(x='transformed', y='Price', style='o')\n",
        "plt.title('Sound vs Price')\n",
        "plt.xlabel('Sound')\n",
        "plt.ylabel('Price')\n",
        "plt.show()\n",
        "df[['transformed','Price']].corr()"
      ],
      "metadata": {
        "colab": {
          "base_uri": "https://localhost:8080/",
          "height": 390
        },
        "id": "AKRhobPV2b5b",
        "outputId": "dad5bdb5-d570-467b-990b-c998a81b1282"
      },
      "execution_count": 319,
      "outputs": [
        {
          "output_type": "display_data",
          "data": {
            "text/plain": [
              "<Figure size 432x288 with 1 Axes>"
            ],
            "image/png": "[encoded data removed]"
          },
          "metadata": {
            "needs_background": "light"
          }
        },
        {
          "output_type": "execute_result",
          "data": {
            "text/plain": [
              "             transformed     Price\n",
              "transformed     1.000000 -0.124348\n",
              "Price          -0.124348  1.000000"
            ],
            "text/html": [
              "\n",
              "  <div id=\"df-1a436797-50db-4301-907d-297dd3645fd5\">\n",
              "    <div class=\"colab-df-container\">\n",
              "      <div>\n",
              "<style scoped>\n",
              "    .dataframe tbody tr th:only-of-type {\n",
              "        vertical-align: middle;\n",
              "    }\n",
              "\n",
              "    .dataframe tbody tr th {\n",
              "        vertical-align: top;\n",
              "    }\n",
              "\n",
              "    .dataframe thead th {\n",
              "        text-align: right;\n",
              "    }\n",
              "</style>\n",
              "<table border=\"1\" class=\"dataframe\">\n",
              "  <thead>\n",
              "    <tr style=\"text-align: right;\">\n",
              "      <th></th>\n",
              "      <th>transformed</th>\n",
              "      <th>Price</th>\n",
              "    </tr>\n",
              "  </thead>\n",
              "  <tbody>\n",
              "    <tr>\n",
              "      <th>transformed</th>\n",
              "      <td>1.000000</td>\n",
              "      <td>-0.124348</td>\n",
              "    </tr>\n",
              "    <tr>\n",
              "      <th>Price</th>\n",
              "      <td>-0.124348</td>\n",
              "      <td>1.000000</td>\n",
              "    </tr>\n",
              "  </tbody>\n",
              "</table>\n",
              "</div>\n",
              "      <button class=\"colab-df-convert\" onclick=\"convertToInteractive('df-1a436797-50db-4301-907d-297dd3645fd5')\"\n",
              "              title=\"Convert this dataframe to an interactive table.\"\n",
              "              style=\"display:none;\">\n",
              "        \n",
              "  <svg xmlns=\"http://www.w3.org/2000/svg\" height=\"24px\"viewBox=\"0 0 24 24\"\n",
              "       width=\"24px\">\n",
              "    <path d=\"M0 0h24v24H0V0z\" fill=\"none\"/>\n",
              "    <path d=\"M18.56 5.44l.94 2.06.94-2.06 2.06-.94-2.06-.94-.94-2.06-.94 2.06-2.06.94zm-11 1L8.5 8.5l.94-2.06 2.06-.94-2.06-.94L8.5 2.5l-.94 2.06-2.06.94zm10 10l.94 2.06.94-2.06 2.06-.94-2.06-.94-.94-2.06-.94 2.06-2.06.94z\"/><path d=\"M17.41 7.96l-1.37-1.37c-.4-.4-.92-.59-1.43-.59-.52 0-1.04.2-1.43.59L10.3 9.45l-7.72 7.72c-.78.78-.78 2.05 0 2.83L4 21.41c.39.39.9.59 1.41.59.51 0 1.02-.2 1.41-.59l7.78-7.78 2.81-2.81c.8-.78.8-2.07 0-2.86zM5.41 20L4 18.59l7.72-7.72 1.47 1.35L5.41 20z\"/>\n",
              "  </svg>\n",
              "      </button>\n",
              "      \n",
              "  <style>\n",
              "    .colab-df-container {\n",
              "      display:flex;\n",
              "      flex-wrap:wrap;\n",
              "      gap: 12px;\n",
              "    }\n",
              "\n",
              "    .colab-df-convert {\n",
              "      background-color: #E8F0FE;\n",
              "      border: none;\n",
              "      border-radius: 50%;\n",
              "      cursor: pointer;\n",
              "      display: none;\n",
              "      fill: #1967D2;\n",
              "      height: 32px;\n",
              "      padding: 0 0 0 0;\n",
              "      width: 32px;\n",
              "    }\n",
              "\n",
              "    .colab-df-convert:hover {\n",
              "      background-color: #E2EBFA;\n",
              "      box-shadow: 0px 1px 2px rgba(60, 64, 67, 0.3), 0px 1px 3px 1px rgba(60, 64, 67, 0.15);\n",
              "      fill: #174EA6;\n",
              "    }\n",
              "\n",
              "    [theme=dark] .colab-df-convert {\n",
              "      background-color: #3B4455;\n",
              "      fill: #D2E3FC;\n",
              "    }\n",
              "\n",
              "    [theme=dark] .colab-df-convert:hover {\n",
              "      background-color: #434B5C;\n",
              "      box-shadow: 0px 1px 3px 1px rgba(0, 0, 0, 0.15);\n",
              "      filter: drop-shadow(0px 1px 2px rgba(0, 0, 0, 0.3));\n",
              "      fill: #FFFFFF;\n",
              "    }\n",
              "  </style>\n",
              "\n",
              "      <script>\n",
              "        const buttonEl =\n",
              "          document.querySelector('#df-1a436797-50db-4301-907d-297dd3645fd5 button.colab-df-convert');\n",
              "        buttonEl.style.display =\n",
              "          google.colab.kernel.accessAllowed ? 'block' : 'none';\n",
              "\n",
              "        async function convertToInteractive(key) {\n",
              "          const element = document.querySelector('#df-1a436797-50db-4301-907d-297dd3645fd5');\n",
              "          const dataTable =\n",
              "            await google.colab.kernel.invokeFunction('convertToInteractive',\n",
              "                                                     [key], {});\n",
              "          if (!dataTable) return;\n",
              "\n",
              "          const docLinkHtml = 'Like what you see? Visit the ' +\n",
              "            '<a target=\"_blank\" href=https://colab.research.google.com/notebooks/data_table.ipynb>data table notebook</a>'\n",
              "            + ' to learn more about interactive tables.';\n",
              "          element.innerHTML = '';\n",
              "          dataTable['output_type'] = 'display_data';\n",
              "          await google.colab.output.renderOutput(dataTable, element);\n",
              "          const docLink = document.createElement('div');\n",
              "          docLink.innerHTML = docLinkHtml;\n",
              "          element.appendChild(docLink);\n",
              "        }\n",
              "      </script>\n",
              "    </div>\n",
              "  </div>\n",
              "  "
            ]
          },
          "metadata": {},
          "execution_count": 319
        }
      ]
    },
    {
      "cell_type": "markdown",
      "source": [
        "There is no change in corr during transform"
      ],
      "metadata": {
        "id": "DN9RzQsB3mjv"
      }
    },
    {
      "cell_type": "code",
      "source": [
        "x=df['Leather']\n",
        "y=df['Price']\n",
        "plt.scatter(x,y)\n",
        "plt.xlabel('Leather')\n",
        "plt.ylabel('price')\n",
        "plt.title('Leather vs Price')\n",
        "plt.show\n",
        "df[['Leather','Price']].corr()"
      ],
      "metadata": {
        "colab": {
          "base_uri": "https://localhost:8080/",
          "height": 390
        },
        "id": "mIUBz8VO3tip",
        "outputId": "49706ce7-238b-445b-b6b2-69b19a1ea304"
      },
      "execution_count": 320,
      "outputs": [
        {
          "output_type": "execute_result",
          "data": {
            "text/plain": [
              "          Leather     Price\n",
              "Leather  1.000000  0.157197\n",
              "Price    0.157197  1.000000"
            ],
            "text/html": [
              "\n",
              "  <div id=\"df-abf62b78-cb78-472f-8b18-5990875a39c9\">\n",
              "    <div class=\"colab-df-container\">\n",
              "      <div>\n",
              "<style scoped>\n",
              "    .dataframe tbody tr th:only-of-type {\n",
              "        vertical-align: middle;\n",
              "    }\n",
              "\n",
              "    .dataframe tbody tr th {\n",
              "        vertical-align: top;\n",
              "    }\n",
              "\n",
              "    .dataframe thead th {\n",
              "        text-align: right;\n",
              "    }\n",
              "</style>\n",
              "<table border=\"1\" class=\"dataframe\">\n",
              "  <thead>\n",
              "    <tr style=\"text-align: right;\">\n",
              "      <th></th>\n",
              "      <th>Leather</th>\n",
              "      <th>Price</th>\n",
              "    </tr>\n",
              "  </thead>\n",
              "  <tbody>\n",
              "    <tr>\n",
              "      <th>Leather</th>\n",
              "      <td>1.000000</td>\n",
              "      <td>0.157197</td>\n",
              "    </tr>\n",
              "    <tr>\n",
              "      <th>Price</th>\n",
              "      <td>0.157197</td>\n",
              "      <td>1.000000</td>\n",
              "    </tr>\n",
              "  </tbody>\n",
              "</table>\n",
              "</div>\n",
              "      <button class=\"colab-df-convert\" onclick=\"convertToInteractive('df-abf62b78-cb78-472f-8b18-5990875a39c9')\"\n",
              "              title=\"Convert this dataframe to an interactive table.\"\n",
              "              style=\"display:none;\">\n",
              "        \n",
              "  <svg xmlns=\"http://www.w3.org/2000/svg\" height=\"24px\"viewBox=\"0 0 24 24\"\n",
              "       width=\"24px\">\n",
              "    <path d=\"M0 0h24v24H0V0z\" fill=\"none\"/>\n",
              "    <path d=\"M18.56 5.44l.94 2.06.94-2.06 2.06-.94-2.06-.94-.94-2.06-.94 2.06-2.06.94zm-11 1L8.5 8.5l.94-2.06 2.06-.94-2.06-.94L8.5 2.5l-.94 2.06-2.06.94zm10 10l.94 2.06.94-2.06 2.06-.94-2.06-.94-.94-2.06-.94 2.06-2.06.94z\"/><path d=\"M17.41 7.96l-1.37-1.37c-.4-.4-.92-.59-1.43-.59-.52 0-1.04.2-1.43.59L10.3 9.45l-7.72 7.72c-.78.78-.78 2.05 0 2.83L4 21.41c.39.39.9.59 1.41.59.51 0 1.02-.2 1.41-.59l7.78-7.78 2.81-2.81c.8-.78.8-2.07 0-2.86zM5.41 20L4 18.59l7.72-7.72 1.47 1.35L5.41 20z\"/>\n",
              "  </svg>\n",
              "      </button>\n",
              "      \n",
              "  <style>\n",
              "    .colab-df-container {\n",
              "      display:flex;\n",
              "      flex-wrap:wrap;\n",
              "      gap: 12px;\n",
              "    }\n",
              "\n",
              "    .colab-df-convert {\n",
              "      background-color: #E8F0FE;\n",
              "      border: none;\n",
              "      border-radius: 50%;\n",
              "      cursor: pointer;\n",
              "      display: none;\n",
              "      fill: #1967D2;\n",
              "      height: 32px;\n",
              "      padding: 0 0 0 0;\n",
              "      width: 32px;\n",
              "    }\n",
              "\n",
              "    .colab-df-convert:hover {\n",
              "      background-color: #E2EBFA;\n",
              "      box-shadow: 0px 1px 2px rgba(60, 64, 67, 0.3), 0px 1px 3px 1px rgba(60, 64, 67, 0.15);\n",
              "      fill: #174EA6;\n",
              "    }\n",
              "\n",
              "    [theme=dark] .colab-df-convert {\n",
              "      background-color: #3B4455;\n",
              "      fill: #D2E3FC;\n",
              "    }\n",
              "\n",
              "    [theme=dark] .colab-df-convert:hover {\n",
              "      background-color: #434B5C;\n",
              "      box-shadow: 0px 1px 3px 1px rgba(0, 0, 0, 0.15);\n",
              "      filter: drop-shadow(0px 1px 2px rgba(0, 0, 0, 0.3));\n",
              "      fill: #FFFFFF;\n",
              "    }\n",
              "  </style>\n",
              "\n",
              "      <script>\n",
              "        const buttonEl =\n",
              "          document.querySelector('#df-abf62b78-cb78-472f-8b18-5990875a39c9 button.colab-df-convert');\n",
              "        buttonEl.style.display =\n",
              "          google.colab.kernel.accessAllowed ? 'block' : 'none';\n",
              "\n",
              "        async function convertToInteractive(key) {\n",
              "          const element = document.querySelector('#df-abf62b78-cb78-472f-8b18-5990875a39c9');\n",
              "          const dataTable =\n",
              "            await google.colab.kernel.invokeFunction('convertToInteractive',\n",
              "                                                     [key], {});\n",
              "          if (!dataTable) return;\n",
              "\n",
              "          const docLinkHtml = 'Like what you see? Visit the ' +\n",
              "            '<a target=\"_blank\" href=https://colab.research.google.com/notebooks/data_table.ipynb>data table notebook</a>'\n",
              "            + ' to learn more about interactive tables.';\n",
              "          element.innerHTML = '';\n",
              "          dataTable['output_type'] = 'display_data';\n",
              "          await google.colab.output.renderOutput(dataTable, element);\n",
              "          const docLink = document.createElement('div');\n",
              "          docLink.innerHTML = docLinkHtml;\n",
              "          element.appendChild(docLink);\n",
              "        }\n",
              "      </script>\n",
              "    </div>\n",
              "  </div>\n",
              "  "
            ]
          },
          "metadata": {},
          "execution_count": 320
        },
        {
          "output_type": "display_data",
          "data": {
            "text/plain": [
              "<Figure size 432x288 with 1 Axes>"
            ],
            "image/png": "[encoded data removed]"
          },
          "metadata": {
            "needs_background": "light"
          }
        }
      ]
    },
    {
      "cell_type": "markdown",
      "source": [
        "There is low linear relation b/w ddatas.Somewhat nearer to linear"
      ],
      "metadata": {
        "id": "vS-ko-3J3miJ"
      }
    },
    {
      "cell_type": "code",
      "source": [
        "X = df[['Mileage', 'Cylinder', 'Liter', 'Doors', 'Cruise', 'Sound', 'Leather']].values \n",
        "y = df['Price'].values "
      ],
      "metadata": {
        "id": "4o9oeTKYxqQS"
      },
      "execution_count": 340,
      "outputs": []
    },
    {
      "cell_type": "code",
      "source": [
        "from sklearn.model_selection import train_test_split\n",
        "X_train, X_test, y_train, y_test = train_test_split(X, y, test_size=0.2, random_state=6)"
      ],
      "metadata": {
        "id": "JjSv02BgyD5j"
      },
      "execution_count": 362,
      "outputs": []
    },
    {
      "cell_type": "code",
      "source": [
        "from sklearn.preprocessing import StandardScaler ## standrard scalig \n",
        "scaler = StandardScaler() #initialise to a variable\n",
        "scaler.fit(X_train,y_train)\n",
        "X_train_scaled = scaler.transform(X_train) # fit (mean, sd) and then transform the training data\n",
        "X_test_scaled = scaler.transform(X_test) # transform the test data "
      ],
      "metadata": {
        "id": "2cbXJFbzyF-W"
      },
      "execution_count": 363,
      "outputs": []
    },
    {
      "cell_type": "code",
      "source": [
        "from sklearn.linear_model import LinearRegression\n",
        "regressor1 = LinearRegression()\n",
        "regressor1 .fit(X_train_scaled, y_train)"
      ],
      "metadata": {
        "colab": {
          "base_uri": "https://localhost:8080/"
        },
        "id": "MfpQP5FSyF8z",
        "outputId": "2a81aa3b-067e-4b42-96cf-9674a4116289"
      },
      "execution_count": 365,
      "outputs": [
        {
          "output_type": "execute_result",
          "data": {
            "text/plain": [
              "LinearRegression()"
            ]
          },
          "metadata": {},
          "execution_count": 365
        }
      ]
    },
    {
      "cell_type": "code",
      "source": [
        "coeff_df = pd.DataFrame(regressor.coef_,['Mileage', 'Cylinder', 'Liter', 'Doors', 'Cruise', 'Sound', 'Leather'], columns=['Coefficient'])\n",
        "y_pred = regressor.predict(X_test_scaled)\n",
        "coeff_df"
      ],
      "metadata": {
        "colab": {
          "base_uri": "https://localhost:8080/",
          "height": 269
        },
        "id": "348M0YbN4LaJ",
        "outputId": "3e535cae-94c8-4372-bbc8-5200ac4454b4"
      },
      "execution_count": 368,
      "outputs": [
        {
          "output_type": "execute_result",
          "data": {
            "text/plain": [
              "          Coefficient\n",
              "Mileage  -1371.001168\n",
              "Cylinder  5362.757156\n",
              "Liter     -636.102794\n",
              "Doors    -1161.421897\n",
              "Cruise    2605.283666\n",
              "Sound    -1046.235630\n",
              "Leather   1599.923922"
            ],
            "text/html": [
              "\n",
              "  <div id=\"df-d234a942-79f5-463b-b13b-cf89f4f01e91\">\n",
              "    <div class=\"colab-df-container\">\n",
              "      <div>\n",
              "<style scoped>\n",
              "    .dataframe tbody tr th:only-of-type {\n",
              "        vertical-align: middle;\n",
              "    }\n",
              "\n",
              "    .dataframe tbody tr th {\n",
              "        vertical-align: top;\n",
              "    }\n",
              "\n",
              "    .dataframe thead th {\n",
              "        text-align: right;\n",
              "    }\n",
              "</style>\n",
              "<table border=\"1\" class=\"dataframe\">\n",
              "  <thead>\n",
              "    <tr style=\"text-align: right;\">\n",
              "      <th></th>\n",
              "      <th>Coefficient</th>\n",
              "    </tr>\n",
              "  </thead>\n",
              "  <tbody>\n",
              "    <tr>\n",
              "      <th>Mileage</th>\n",
              "      <td>-1371.001168</td>\n",
              "    </tr>\n",
              "    <tr>\n",
              "      <th>Cylinder</th>\n",
              "      <td>5362.757156</td>\n",
              "    </tr>\n",
              "    <tr>\n",
              "      <th>Liter</th>\n",
              "      <td>-636.102794</td>\n",
              "    </tr>\n",
              "    <tr>\n",
              "      <th>Doors</th>\n",
              "      <td>-1161.421897</td>\n",
              "    </tr>\n",
              "    <tr>\n",
              "      <th>Cruise</th>\n",
              "      <td>2605.283666</td>\n",
              "    </tr>\n",
              "    <tr>\n",
              "      <th>Sound</th>\n",
              "      <td>-1046.235630</td>\n",
              "    </tr>\n",
              "    <tr>\n",
              "      <th>Leather</th>\n",
              "      <td>1599.923922</td>\n",
              "    </tr>\n",
              "  </tbody>\n",
              "</table>\n",
              "</div>\n",
              "      <button class=\"colab-df-convert\" onclick=\"convertToInteractive('df-d234a942-79f5-463b-b13b-cf89f4f01e91')\"\n",
              "              title=\"Convert this dataframe to an interactive table.\"\n",
              "              style=\"display:none;\">\n",
              "        \n",
              "  <svg xmlns=\"http://www.w3.org/2000/svg\" height=\"24px\"viewBox=\"0 0 24 24\"\n",
              "       width=\"24px\">\n",
              "    <path d=\"M0 0h24v24H0V0z\" fill=\"none\"/>\n",
              "    <path d=\"M18.56 5.44l.94 2.06.94-2.06 2.06-.94-2.06-.94-.94-2.06-.94 2.06-2.06.94zm-11 1L8.5 8.5l.94-2.06 2.06-.94-2.06-.94L8.5 2.5l-.94 2.06-2.06.94zm10 10l.94 2.06.94-2.06 2.06-.94-2.06-.94-.94-2.06-.94 2.06-2.06.94z\"/><path d=\"M17.41 7.96l-1.37-1.37c-.4-.4-.92-.59-1.43-.59-.52 0-1.04.2-1.43.59L10.3 9.45l-7.72 7.72c-.78.78-.78 2.05 0 2.83L4 21.41c.39.39.9.59 1.41.59.51 0 1.02-.2 1.41-.59l7.78-7.78 2.81-2.81c.8-.78.8-2.07 0-2.86zM5.41 20L4 18.59l7.72-7.72 1.47 1.35L5.41 20z\"/>\n",
              "  </svg>\n",
              "      </button>\n",
              "      \n",
              "  <style>\n",
              "    .colab-df-container {\n",
              "      display:flex;\n",
              "      flex-wrap:wrap;\n",
              "      gap: 12px;\n",
              "    }\n",
              "\n",
              "    .colab-df-convert {\n",
              "      background-color: #E8F0FE;\n",
              "      border: none;\n",
              "      border-radius: 50%;\n",
              "      cursor: pointer;\n",
              "      display: none;\n",
              "      fill: #1967D2;\n",
              "      height: 32px;\n",
              "      padding: 0 0 0 0;\n",
              "      width: 32px;\n",
              "    }\n",
              "\n",
              "    .colab-df-convert:hover {\n",
              "      background-color: #E2EBFA;\n",
              "      box-shadow: 0px 1px 2px rgba(60, 64, 67, 0.3), 0px 1px 3px 1px rgba(60, 64, 67, 0.15);\n",
              "      fill: #174EA6;\n",
              "    }\n",
              "\n",
              "    [theme=dark] .colab-df-convert {\n",
              "      background-color: #3B4455;\n",
              "      fill: #D2E3FC;\n",
              "    }\n",
              "\n",
              "    [theme=dark] .colab-df-convert:hover {\n",
              "      background-color: #434B5C;\n",
              "      box-shadow: 0px 1px 3px 1px rgba(0, 0, 0, 0.15);\n",
              "      filter: drop-shadow(0px 1px 2px rgba(0, 0, 0, 0.3));\n",
              "      fill: #FFFFFF;\n",
              "    }\n",
              "  </style>\n",
              "\n",
              "      <script>\n",
              "        const buttonEl =\n",
              "          document.querySelector('#df-d234a942-79f5-463b-b13b-cf89f4f01e91 button.colab-df-convert');\n",
              "        buttonEl.style.display =\n",
              "          google.colab.kernel.accessAllowed ? 'block' : 'none';\n",
              "\n",
              "        async function convertToInteractive(key) {\n",
              "          const element = document.querySelector('#df-d234a942-79f5-463b-b13b-cf89f4f01e91');\n",
              "          const dataTable =\n",
              "            await google.colab.kernel.invokeFunction('convertToInteractive',\n",
              "                                                     [key], {});\n",
              "          if (!dataTable) return;\n",
              "\n",
              "          const docLinkHtml = 'Like what you see? Visit the ' +\n",
              "            '<a target=\"_blank\" href=https://colab.research.google.com/notebooks/data_table.ipynb>data table notebook</a>'\n",
              "            + ' to learn more about interactive tables.';\n",
              "          element.innerHTML = '';\n",
              "          dataTable['output_type'] = 'display_data';\n",
              "          await google.colab.output.renderOutput(dataTable, element);\n",
              "          const docLink = document.createElement('div');\n",
              "          docLink.innerHTML = docLinkHtml;\n",
              "          element.appendChild(docLink);\n",
              "        }\n",
              "      </script>\n",
              "    </div>\n",
              "  </div>\n",
              "  "
            ]
          },
          "metadata": {},
          "execution_count": 368
        }
      ]
    },
    {
      "cell_type": "code",
      "source": [
        "regressor1.coef_"
      ],
      "metadata": {
        "colab": {
          "base_uri": "https://localhost:8080/"
        },
        "id": "-mr3ncfj4n9h",
        "outputId": "d9e32e18-04da-412a-ba85-dcc5b6f85233"
      },
      "execution_count": 369,
      "outputs": [
        {
          "output_type": "execute_result",
          "data": {
            "text/plain": [
              "array([-1372.21762489,  4360.04065747,  -106.15107895,  -861.43431768,\n",
              "        2605.18799887,  -811.61769682,  1452.21276929])"
            ]
          },
          "metadata": {},
          "execution_count": 369
        }
      ]
    },
    {
      "cell_type": "code",
      "source": [
        "regressor1.intercept_"
      ],
      "metadata": {
        "colab": {
          "base_uri": "https://localhost:8080/"
        },
        "id": "cXZrsBGi4yiM",
        "outputId": "3342d520-f7a7-4b7a-e057-f2e9ddc2d254"
      },
      "execution_count": 360,
      "outputs": [
        {
          "output_type": "execute_result",
          "data": {
            "text/plain": [
              "21505.23237703496"
            ]
          },
          "metadata": {},
          "execution_count": 360
        }
      ]
    },
    {
      "cell_type": "markdown",
      "source": [
        "1. Use mileage, cylinders, liters, doors, cruise, sound, and leather to find the linear regression equation."
      ],
      "metadata": {
        "id": "yWt0ndhB4ksa"
      }
    },
    {
      "cell_type": "code",
      "source": [
        "'''\n",
        "Price = (-1372.21762489)Mileage+(4360.04065747)Cylinder+(-106.15107895)Liter+(-861.43431768)Doors+(2605.18799887)Cruise+\n",
        "        (-811.61769682)Sound+(1452.21276929)Leather+21505.23237703496\n",
        "\n",
        "'''"
      ],
      "metadata": {
        "id": "hC6_z-rV4LY8"
      },
      "execution_count": null,
      "outputs": []
    },
    {
      "cell_type": "markdown",
      "source": [
        "2. Find the equation's  R2  score (use the .score method) to determine whether the equation is a good fit for this data. (0.8 and greater is considered a strong correlation.)"
      ],
      "metadata": {
        "id": "Lq-oKezM5sVQ"
      }
    },
    {
      "cell_type": "code",
      "source": [
        "from sklearn import metrics\n",
        "print('R2- SCORE:', metrics.r2_score(y_test,y_pred))"
      ],
      "metadata": {
        "colab": {
          "base_uri": "https://localhost:8080/"
        },
        "id": "6Jg9Hh29-_1h",
        "outputId": "9a4dbcab-bfb3-4f08-ecb1-c0152c107dcf"
      },
      "execution_count": 367,
      "outputs": [
        {
          "output_type": "stream",
          "name": "stdout",
          "text": [
            "R2- SCORE: 0.48943961471662345\n"
          ]
        }
      ]
    },
    {
      "cell_type": "markdown",
      "source": [
        "3. Find the combination of the factors that is the best predictor for price."
      ],
      "metadata": {
        "id": "xW176AlExHmx"
      }
    },
    {
      "cell_type": "code",
      "source": [
        "from sklearn.feature_selection import RFE\n",
        "estimator = LinearRegression()\n",
        "selector = RFE(estimator, n_features_to_select=3, step=1)\n",
        "selector = selector.fit(X_train_scaled, y_train)\n",
        "list(zip(['Mileage', 'Cylinder', 'Liter', 'Doors', 'Cruise', 'Sound', 'Leather'],selector.support_))"
      ],
      "metadata": {
        "colab": {
          "base_uri": "https://localhost:8080/"
        },
        "id": "mRqRmft06HdZ",
        "outputId": "185f8079-8f05-45e0-fead-cd33d8941f52"
      },
      "execution_count": 334,
      "outputs": [
        {
          "output_type": "execute_result",
          "data": {
            "text/plain": [
              "[('Mileage', False),\n",
              " ('Cylinder', True),\n",
              " ('Liter', False),\n",
              " ('Doors', False),\n",
              " ('Cruise', True),\n",
              " ('Sound', False),\n",
              " ('Leather', True)]"
            ]
          },
          "metadata": {},
          "execution_count": 334
        }
      ]
    },
    {
      "cell_type": "markdown",
      "source": [
        "Leather,Cruise and Cylinder is the combination factors that is the best predictor for price"
      ],
      "metadata": {
        "id": "KuqPxfon7SXC"
      }
    },
    {
      "cell_type": "markdown",
      "source": [
        "## **Tasks, Hard Mode**"
      ],
      "metadata": {
        "id": "QAjGroYO7xah"
      }
    },
    {
      "cell_type": "markdown",
      "source": [
        "Research dummy variables in scikit-learn to see how to use the make, model, and body type."
      ],
      "metadata": {
        "id": "28RqCI5X7wEB"
      }
    },
    {
      "cell_type": "code",
      "source": [
        "from sklearn.feature_selection import SequentialFeatureSelector\n",
        "estimator = LinearRegression()\n",
        "sfs = SequentialFeatureSelector(estimator, n_features_to_select=2)\n",
        "sfs.fit(X_train_scaled, y_train)\n",
        "print(list(zip(['Mileage', 'Cylinder', 'Liter', 'Doors', 'Cruise', 'Sound', 'Leather'],sfs.get_support())))"
      ],
      "metadata": {
        "colab": {
          "base_uri": "https://localhost:8080/"
        },
        "id": "xQvzT21k7hMb",
        "outputId": "b37d0477-1e32-4ea9-c394-dec107066c6b"
      },
      "execution_count": 333,
      "outputs": [
        {
          "output_type": "stream",
          "name": "stdout",
          "text": [
            "[('Mileage', False), ('Cylinder', True), ('Liter', False), ('Doors', False), ('Cruise', True), ('Sound', False), ('Leather', False)]\n"
          ]
        }
      ]
    },
    {
      "cell_type": "markdown",
      "source": [
        "Find the best combination of factors to predict price."
      ],
      "metadata": {
        "id": "7YDVMt8l7sIB"
      }
    },
    {
      "cell_type": "code",
      "source": [
        "print(list(zip(['Mileage', 'Cylinder', 'Liter', 'Doors', 'Cruise', 'Sound', 'Leather'], regressor.coef_)))"
      ],
      "metadata": {
        "colab": {
          "base_uri": "https://localhost:8080/"
        },
        "id": "EI7YeKsk9dup",
        "outputId": "3e9cb94d-e41a-4b84-c04c-b29d67625c6d"
      },
      "execution_count": 339,
      "outputs": [
        {
          "output_type": "stream",
          "name": "stdout",
          "text": [
            "[('Mileage', -1371.0011684045362), ('Cylinder', 5362.757155931953), ('Liter', -636.1027939685932), ('Doors', -1161.421896965032), ('Cruise', 2605.283665583878), ('Sound', -1046.2356299570165), ('Leather', 1599.923922438423)]\n"
          ]
        }
      ]
    },
    {
      "cell_type": "markdown",
      "source": [
        "Cylinder and Curise is the best combination from the above code"
      ],
      "metadata": {
        "id": "N87f1PTJ99dR"
      }
    },
    {
      "cell_type": "code",
      "source": [
        ""
      ],
      "metadata": {
        "id": "webG2GfL9Itf"
      },
      "execution_count": null,
      "outputs": []
    }
  ],
  "metadata": {
    "colab": {
      "collapsed_sections": [],
      "name": "Copy of Assignment8.ipynb",
      "provenance": [],
      "include_colab_link": true
    },
    "kernelspec": {
      "display_name": "Python 3",
      "language": "python",
      "name": "python3"
    },
    "language_info": {
      "codemirror_mode": {
        "name": "ipython",
        "version": 3
      },
      "file_extension": ".py",
      "mimetype": "text/x-python",
      "name": "python",
      "nbconvert_exporter": "python",
      "pygments_lexer": "ipython3",
      "version": "3.8.3"
    }
  },
  "nbformat": 4,
  "nbformat_minor": 0
}